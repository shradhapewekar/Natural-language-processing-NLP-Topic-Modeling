{
 "cells": [
  {
   "cell_type": "code",
   "execution_count": 1,
   "metadata": {},
   "outputs": [],
   "source": [
    "import pandas as pd\n",
    "import re\n",
    "import numpy as np\n",
    "import gensim\n",
    "import warnings\n",
    "warnings.simplefilter(action='ignore', category=FutureWarning)"
   ]
  },
  {
   "cell_type": "code",
   "execution_count": 2,
   "metadata": {},
   "outputs": [],
   "source": [
    "# spacy for lemmatization\n",
    "# import spacy\n",
    "from nltk.stem import WordNetLemmatizer \n",
    "from nltk.stem import PorterStemmer\n",
    "lemmatizer = WordNetLemmatizer()\n",
    "\n",
    "import nltk\n",
    "\n",
    "w_tokenizer = nltk.tokenize.WhitespaceTokenizer()\n",
    "lemmatizer = nltk.stem.WordNetLemmatizer()"
   ]
  },
  {
   "cell_type": "code",
   "execution_count": 3,
   "metadata": {},
   "outputs": [],
   "source": [
    "# for plotting\n",
    "import pyLDAvis\n",
    "import pyLDAvis.gensim\n",
    "import matplotlib.pyplot as plt"
   ]
  },
  {
   "cell_type": "markdown",
   "metadata": {},
   "source": [
    "### Loading data"
   ]
  },
  {
   "cell_type": "code",
   "execution_count": 4,
   "metadata": {},
   "outputs": [],
   "source": [
    "import os\n",
    "pwd = os.getcwd()"
   ]
  },
  {
   "cell_type": "code",
   "execution_count": 5,
   "metadata": {},
   "outputs": [],
   "source": [
    "emails = pd.read_csv(os.path.basename(pwd +'/emails.csv'))"
   ]
  },
  {
   "cell_type": "code",
   "execution_count": 6,
   "metadata": {},
   "outputs": [
    {
     "data": {
      "text/plain": [
       "file       517401\n",
       "message    517401\n",
       "dtype: int64"
      ]
     },
     "execution_count": 6,
     "metadata": {},
     "output_type": "execute_result"
    }
   ],
   "source": [
    "emails.count()"
   ]
  },
  {
   "cell_type": "code",
   "execution_count": 160,
   "metadata": {},
   "outputs": [
    {
     "name": "stdout",
     "output_type": "stream",
     "text": [
      "(500, 2)\n",
      "                        file  \\\n",
      "500  allen-p/_sent_mail/553.   \n",
      "501  allen-p/_sent_mail/554.   \n",
      "502  allen-p/_sent_mail/555.   \n",
      "503  allen-p/_sent_mail/556.   \n",
      "504  allen-p/_sent_mail/557.   \n",
      "\n",
      "                                               message  \n",
      "500  Message-ID: <15982773.1075855728341.JavaMail.e...  \n",
      "501  Message-ID: <19237776.1075855728362.JavaMail.e...  \n",
      "502  Message-ID: <32350375.1075855728384.JavaMail.e...  \n",
      "503  Message-ID: <30301161.1075855728406.JavaMail.e...  \n",
      "504  Message-ID: <16004214.1075855728430.JavaMail.e...  \n"
     ]
    }
   ],
   "source": [
    "# email_subset = emails.sample(frac=0.05, random_state=1)\n",
    "email_subset = emails[500:1000]\n",
    "print(email_subset.shape)\n",
    "print(email_subset.head())"
   ]
  },
  {
   "cell_type": "markdown",
   "metadata": {},
   "source": [
    "### Data Cleaning\n",
    "- We have to do topic modelling on text data, I have removed redundant imformation and kept only: email body , From and To.\n",
    "- I am only using 5000 emails"
   ]
  },
  {
   "cell_type": "code",
   "execution_count": 161,
   "metadata": {},
   "outputs": [],
   "source": [
    "def parse_raw_message(raw_message):\n",
    "    lines = raw_message.split('\\n')\n",
    "    email = {}\n",
    "    message = ''\n",
    "    keys_to_extract = ['from', 'to', 'date']\n",
    "    for line in lines:\n",
    "        if ':' not in line:\n",
    "            message += line.strip()\n",
    "            email['body'] = message\n",
    "        else:\n",
    "            pairs = line.split(':')\n",
    "            key = pairs[0].lower()\n",
    "            val = pairs[1].strip()\n",
    "            if key in keys_to_extract:\n",
    "                email[key] = val\n",
    "    return email"
   ]
  },
  {
   "cell_type": "code",
   "execution_count": 162,
   "metadata": {},
   "outputs": [],
   "source": [
    "def parse_into_emails(messages):\n",
    "    emails = [parse_raw_message(message) for message in messages]\n",
    "    return {\n",
    "        'body': map_to_list(emails, 'body'),\n",
    "        'to': map_to_list(emails, 'to'),\n",
    "        'from_': map_to_list(emails, 'from'),\n",
    "        'date': map_to_list(emails, 'date'),\n",
    "        'TC': 0,\n",
    "        'SN': 0,\n",
    "        'KS': 0,\n",
    "        'OT': 0,\n",
    "        'print': np.nan\n",
    "    }"
   ]
  },
  {
   "cell_type": "code",
   "execution_count": 163,
   "metadata": {},
   "outputs": [],
   "source": [
    "def map_to_list(emails, key):\n",
    "    results = []\n",
    "    for email in emails:\n",
    "        if key not in email:\n",
    "            results.append('')\n",
    "        else:\n",
    "            results.append(email[key])\n",
    "    return results"
   ]
  },
  {
   "cell_type": "code",
   "execution_count": 164,
   "metadata": {},
   "outputs": [],
   "source": [
    "def clean_text(text):\n",
    "    text = text.lower()\n",
    "    text = re.sub(r\"what's\", \"what is \", text)\n",
    "    text = re.sub(r\"\\'s\", \" \", text)\n",
    "    text = re.sub(r\"\\'ve\", \" have \", text)\n",
    "    text = re.sub(r\"can't\", \"can not \", text)\n",
    "    text = re.sub(r\"n't\", \" not \", text)\n",
    "    text = re.sub(r\"i'm\", \"i am \", text)\n",
    "    text = re.sub(r\"\\'re\", \" are \", text)\n",
    "    text = re.sub(r\"\\'d\", \" would \", text)\n",
    "    text = re.sub(r\"\\'ll\", \" will \", text)\n",
    "    text = re.sub(r\"\\'scuse\", \" excuse \", text)\n",
    "    text = re.sub(r'\\W', ' ', text)\n",
    "    text = re.sub(r'\\s+', ' ', text)\n",
    "    text = text.strip(' ')\n",
    "    return text"
   ]
  },
  {
   "cell_type": "code",
   "execution_count": 167,
   "metadata": {},
   "outputs": [],
   "source": [
    "email_df = pd.DataFrame(parse_into_emails(email_subset.message))"
   ]
  },
  {
   "cell_type": "code",
   "execution_count": 168,
   "metadata": {},
   "outputs": [
    {
     "data": {
      "text/html": [
       "<div>\n",
       "<style scoped>\n",
       "    .dataframe tbody tr th:only-of-type {\n",
       "        vertical-align: middle;\n",
       "    }\n",
       "\n",
       "    .dataframe tbody tr th {\n",
       "        vertical-align: top;\n",
       "    }\n",
       "\n",
       "    .dataframe thead th {\n",
       "        text-align: right;\n",
       "    }\n",
       "</style>\n",
       "<table border=\"1\" class=\"dataframe\">\n",
       "  <thead>\n",
       "    <tr style=\"text-align: right;\">\n",
       "      <th></th>\n",
       "      <th>body</th>\n",
       "      <th>to</th>\n",
       "      <th>from_</th>\n",
       "      <th>date</th>\n",
       "      <th>TC</th>\n",
       "      <th>SN</th>\n",
       "      <th>KS</th>\n",
       "      <th>OT</th>\n",
       "      <th>print</th>\n",
       "    </tr>\n",
       "  </thead>\n",
       "  <tbody>\n",
       "    <tr>\n",
       "      <th>0</th>\n",
       "      <td>---------------------- Forwarded by Phillip K ...</td>\n",
       "      <td>MBD &lt;MDay@GMSSR.com&gt;</td>\n",
       "      <td>Leslie Lawner@ENRON on 01/24/2001 08</td>\n",
       "      <td>Thu, 25 Jan 2001 00</td>\n",
       "      <td>0</td>\n",
       "      <td>0</td>\n",
       "      <td>0</td>\n",
       "      <td>0</td>\n",
       "      <td>NaN</td>\n",
       "    </tr>\n",
       "    <tr>\n",
       "      <th>1</th>\n",
       "      <td>Lucy,Here is a rentroll for this week.  I stil...</td>\n",
       "      <td>stagecoachmama@hotmail.com</td>\n",
       "      <td>phillip.allen@enron.com</td>\n",
       "      <td>Wed, 24 Jan 2001 23</td>\n",
       "      <td>0</td>\n",
       "      <td>0</td>\n",
       "      <td>0</td>\n",
       "      <td>0</td>\n",
       "      <td>NaN</td>\n",
       "    </tr>\n",
       "    <tr>\n",
       "      <th>2</th>\n",
       "      <td>Larry,I met with a banker that is interested i...</td>\n",
       "      <td>llewter@austin.rr.com</td>\n",
       "      <td>phillip.allen@enron.com</td>\n",
       "      <td>Wed, 24 Jan 2001 09</td>\n",
       "      <td>0</td>\n",
       "      <td>0</td>\n",
       "      <td>0</td>\n",
       "      <td>0</td>\n",
       "      <td>NaN</td>\n",
       "    </tr>\n",
       "    <tr>\n",
       "      <th>3</th>\n",
       "      <td>---------------------- Forwarded by Phillip K ...</td>\n",
       "      <td>William S Bradford/HOU/ECT@ECT, Jeffrey T Hodg...</td>\n",
       "      <td>Travis McCullough on 01/22/2001 01</td>\n",
       "      <td>Mon, 22 Jan 2001 06</td>\n",
       "      <td>0</td>\n",
       "      <td>0</td>\n",
       "      <td>0</td>\n",
       "      <td>0</td>\n",
       "      <td>NaN</td>\n",
       "    </tr>\n",
       "    <tr>\n",
       "      <th>4</th>\n",
       "      <td>By STEVE EVERLY - The Kansas City StarAs natur...</td>\n",
       "      <td>mike.grigsby@enron.com</td>\n",
       "      <td>phillip.allen@enron.com</td>\n",
       "      <td>01/20/01 22</td>\n",
       "      <td>0</td>\n",
       "      <td>0</td>\n",
       "      <td>0</td>\n",
       "      <td>0</td>\n",
       "      <td>NaN</td>\n",
       "    </tr>\n",
       "  </tbody>\n",
       "</table>\n",
       "</div>"
      ],
      "text/plain": [
       "                                                body  \\\n",
       "0  ---------------------- Forwarded by Phillip K ...   \n",
       "1  Lucy,Here is a rentroll for this week.  I stil...   \n",
       "2  Larry,I met with a banker that is interested i...   \n",
       "3  ---------------------- Forwarded by Phillip K ...   \n",
       "4  By STEVE EVERLY - The Kansas City StarAs natur...   \n",
       "\n",
       "                                                  to  \\\n",
       "0                               MBD <MDay@GMSSR.com>   \n",
       "1                         stagecoachmama@hotmail.com   \n",
       "2                              llewter@austin.rr.com   \n",
       "3  William S Bradford/HOU/ECT@ECT, Jeffrey T Hodg...   \n",
       "4                             mike.grigsby@enron.com   \n",
       "\n",
       "                                  from_                 date  TC  SN  KS  OT  \\\n",
       "0  Leslie Lawner@ENRON on 01/24/2001 08  Thu, 25 Jan 2001 00   0   0   0   0   \n",
       "1               phillip.allen@enron.com  Wed, 24 Jan 2001 23   0   0   0   0   \n",
       "2               phillip.allen@enron.com  Wed, 24 Jan 2001 09   0   0   0   0   \n",
       "3    Travis McCullough on 01/22/2001 01  Mon, 22 Jan 2001 06   0   0   0   0   \n",
       "4               phillip.allen@enron.com          01/20/01 22   0   0   0   0   \n",
       "\n",
       "   print  \n",
       "0    NaN  \n",
       "1    NaN  \n",
       "2    NaN  \n",
       "3    NaN  \n",
       "4    NaN  "
      ]
     },
     "execution_count": 168,
     "metadata": {},
     "output_type": "execute_result"
    }
   ],
   "source": [
    "# To check there are no empty columns\n",
    "email_df.drop(email_df.query(\n",
    "    \"body == '' | to == '' | from_ == '' | date == ''\"\n",
    ").index, inplace=True)\n",
    "email_df.head()"
   ]
  },
  {
   "cell_type": "code",
   "execution_count": 169,
   "metadata": {},
   "outputs": [
    {
     "data": {
      "text/plain": [
       "body     488\n",
       "to       488\n",
       "from_    488\n",
       "date     488\n",
       "TC       488\n",
       "SN       488\n",
       "KS       488\n",
       "OT       488\n",
       "print      0\n",
       "dtype: int64"
      ]
     },
     "execution_count": 169,
     "metadata": {},
     "output_type": "execute_result"
    }
   ],
   "source": [
    "email_df.count()"
   ]
  },
  {
   "cell_type": "code",
   "execution_count": 170,
   "metadata": {},
   "outputs": [
    {
     "data": {
      "text/plain": [
       "'Lucy,Here is a rentroll for this week.  I still have questions on #28,#29, and #32.'"
      ]
     },
     "execution_count": 170,
     "metadata": {},
     "output_type": "execute_result"
    }
   ],
   "source": [
    "email_df['date'] = email_df['date'].str[4:16]\n",
    "email_df['body'][1]"
   ]
  },
  {
   "cell_type": "markdown",
   "metadata": {},
   "source": [
    "### Remove punctuation/lower casing\n",
    "- Preprocessing on the content to make it more amenable for analysis"
   ]
  },
  {
   "cell_type": "code",
   "execution_count": 171,
   "metadata": {},
   "outputs": [],
   "source": [
    "# Remove punctuation\n",
    "email_df['text_processed'] = \\\n",
    "email_df['text_processed'] = email_df['body'].str.replace(r'[^\\w\\s]','')\n",
    "# Convert the textto lowercase\n",
    "email_df['text_processed'] = \\\n",
    "email_df['text_processed'].map(lambda x: x.lower())\n"
   ]
  },
  {
   "cell_type": "code",
   "execution_count": 172,
   "metadata": {},
   "outputs": [],
   "source": [
    "email_df['text_processed'] = email_df['text_processed'].map(lambda com : clean_text(com))"
   ]
  },
  {
   "cell_type": "code",
   "execution_count": 173,
   "metadata": {},
   "outputs": [
    {
     "data": {
      "text/plain": [
       "'lucyhere is a rentroll for this week i still have questions on 2829 and 32'"
      ]
     },
     "execution_count": 173,
     "metadata": {},
     "output_type": "execute_result"
    }
   ],
   "source": [
    "email_df['text_processed'][1]"
   ]
  },
  {
   "cell_type": "markdown",
   "metadata": {},
   "source": [
    "### Exploratory Analysis\n",
    "Wordcloud package to get a visual representation of most common words"
   ]
  },
  {
   "cell_type": "code",
   "execution_count": 174,
   "metadata": {},
   "outputs": [],
   "source": [
    "# Import the wordcloud library\n",
    "from wordcloud import WordCloud"
   ]
  },
  {
   "cell_type": "code",
   "execution_count": 175,
   "metadata": {},
   "outputs": [
    {
     "data": {
      "image/png": "[encoded data removed]",
      "text/plain": [
       "<PIL.Image.Image image mode=RGB size=400x200 at 0x22FC7677348>"
      ]
     },
     "execution_count": 175,
     "metadata": {},
     "output_type": "execute_result"
    }
   ],
   "source": [
    "# Join the different processed titles together.\n",
    "long_string = ','.join(list(email_df['text_processed'].values))# Create a WordCloud object\n",
    "wordcloud = WordCloud(background_color=\"white\", max_words=5000, contour_width=3, contour_color='steelblue')# Generate a word cloud\n",
    "wordcloud.generate(long_string)# Visualize the word cloud\n",
    "wordcloud.to_image()\n"
   ]
  },
  {
   "cell_type": "markdown",
   "metadata": {},
   "source": [
    "### LDA Analysis : Transform data in a format that will serve as an input for training LDA model"
   ]
  },
  {
   "cell_type": "code",
   "execution_count": 176,
   "metadata": {},
   "outputs": [
    {
     "name": "stderr",
     "output_type": "stream",
     "text": [
      "[nltk_data] Downloading package stopwords to\n",
      "[nltk_data]     C:\\Users\\shrad\\AppData\\Roaming\\nltk_data...\n",
      "[nltk_data]   Package stopwords is already up-to-date!\n",
      "[nltk_data] Downloading package wordnet to\n",
      "[nltk_data]     C:\\Users\\shrad\\AppData\\Roaming\\nltk_data...\n",
      "[nltk_data]   Package wordnet is already up-to-date!\n"
     ]
    }
   ],
   "source": [
    "import gensim.corpora as corpora\n",
    "from gensim.utils import simple_preprocess\n",
    "from gensim.models import CoherenceModel\n",
    "from gensim.models.phrases import Phrases, Phraser\n",
    "import nltk\n",
    "from nltk import word_tokenize\n",
    "nltk.download('stopwords')\n",
    "nltk.download('wordnet')\n",
    "from nltk.corpus import stopwords"
   ]
  },
  {
   "cell_type": "markdown",
   "metadata": {},
   "source": [
    "### Analyzing text with TF-IDF"
   ]
  },
  {
   "cell_type": "code",
   "execution_count": 177,
   "metadata": {},
   "outputs": [],
   "source": [
    "from sklearn.feature_extraction.text import TfidfVectorizer\n",
    "vect = TfidfVectorizer(stop_words='english', max_df=0.50, min_df=2)\n",
    "# X = vect.fit_transform(email_df.text_processed)"
   ]
  },
  {
   "cell_type": "code",
   "execution_count": 178,
   "metadata": {},
   "outputs": [],
   "source": [
    "email_df.to_pickle('email.pickle')\n",
    "from IPython.display import clear_output"
   ]
  },
  {
   "cell_type": "code",
   "execution_count": null,
   "metadata": {},
   "outputs": [
    {
     "name": "stdout",
     "output_type": "stream",
     "text": [
      "Is this sentence? Type 1 if team communication, \n",
      "Type 2: social networking, \n",
      "Type 3:  knowledge sharing and  \n",
      "Type 4: others . \n",
      "\n",
      "lucyhere is a schedule of the most recent utility bills and the overages thereare alot of overages it will probably get worse this month because of allthe cold weatheryou need to be very clear with all new tenants about the electricity capthis needs to be handwritten on all new leasesi am going to fax you copies of the bills that support this spreadsheet wealso need to write a short letter remind everyone about the cap and the needto conserve energy if they dont want to exceed their cap i will writesomething todaywait until you have copies of the bills and the letter before you startcollectingphillip\n"
     ]
    }
   ],
   "source": [
    "# def manually_label(email_file):\n",
    "    \n",
    "df = pd.read_pickle('email.pickle')\n",
    "for index, row in df.iterrows():\n",
    "        print('Is this sentence? Type 1 if team communication,',\n",
    "              '\\nType 2: social networking,','\\nType 3:  knowledge sharing and ',\n",
    "              '\\nType 4: others . \\n')\n",
    "        print(row.text_processed)\n",
    "        label = input()\n",
    "        print(label)\n",
    "        if '1' in label:\n",
    "            df.loc[index, 'TC'] = 1\n",
    "        if '2' in label:\n",
    "            df.loc[index, 'SN'] = 1\n",
    "        if '3' in label:\n",
    "            df.loc[index, 'KS'] = 1\n",
    "        if '4' in label:\n",
    "            df.loc[index, 'OT'] = 1\n",
    "        if label == '':\n",
    "            df.loc[index, 'OT'] = 1\n",
    "        clear_output()\n",
    "        \n",
    "        df.to_pickle('email.pickle')\n",
    "        \n",
    "print('No more labels to classify!')\n",
    "    \n"
   ]
  },
  {
   "cell_type": "code",
   "execution_count": 51,
   "metadata": {},
   "outputs": [
    {
     "data": {
      "text/html": [
       "<div>\n",
       "<style scoped>\n",
       "    .dataframe tbody tr th:only-of-type {\n",
       "        vertical-align: middle;\n",
       "    }\n",
       "\n",
       "    .dataframe tbody tr th {\n",
       "        vertical-align: top;\n",
       "    }\n",
       "\n",
       "    .dataframe thead th {\n",
       "        text-align: right;\n",
       "    }\n",
       "</style>\n",
       "<table border=\"1\" class=\"dataframe\">\n",
       "  <thead>\n",
       "    <tr style=\"text-align: right;\">\n",
       "      <th></th>\n",
       "      <th>body</th>\n",
       "      <th>to</th>\n",
       "      <th>from_</th>\n",
       "      <th>date</th>\n",
       "      <th>TC</th>\n",
       "      <th>SN</th>\n",
       "      <th>KS</th>\n",
       "      <th>OT</th>\n",
       "      <th>print</th>\n",
       "      <th>text_processed</th>\n",
       "    </tr>\n",
       "  </thead>\n",
       "  <tbody>\n",
       "    <tr>\n",
       "      <th>0</th>\n",
       "      <td>Here is our forecast</td>\n",
       "      <td>tim.belden@enron.com</td>\n",
       "      <td>phillip.allen@enron.com</td>\n",
       "      <td>14 May 2001</td>\n",
       "      <td>1</td>\n",
       "      <td>0</td>\n",
       "      <td>0</td>\n",
       "      <td>0</td>\n",
       "      <td>NaN</td>\n",
       "      <td>here is our forecast</td>\n",
       "    </tr>\n",
       "    <tr>\n",
       "      <th>1</th>\n",
       "      <td>Traveling to have a business meeting takes the...</td>\n",
       "      <td>john.lavorato@enron.com</td>\n",
       "      <td>phillip.allen@enron.com</td>\n",
       "      <td>4 May 2001</td>\n",
       "      <td>0</td>\n",
       "      <td>1</td>\n",
       "      <td>0</td>\n",
       "      <td>0</td>\n",
       "      <td>NaN</td>\n",
       "      <td>traveling to have a business meeting takes the...</td>\n",
       "    </tr>\n",
       "    <tr>\n",
       "      <th>2</th>\n",
       "      <td>test successful.  way to go!!!</td>\n",
       "      <td>leah.arsdall@enron.com</td>\n",
       "      <td>phillip.allen@enron.com</td>\n",
       "      <td>18 Oct 2000</td>\n",
       "      <td>1</td>\n",
       "      <td>0</td>\n",
       "      <td>0</td>\n",
       "      <td>0</td>\n",
       "      <td>NaN</td>\n",
       "      <td>test successful way to go</td>\n",
       "    </tr>\n",
       "    <tr>\n",
       "      <th>3</th>\n",
       "      <td>Randy,Can you send me a schedule of the salary...</td>\n",
       "      <td>randall.gay@enron.com</td>\n",
       "      <td>phillip.allen@enron.com</td>\n",
       "      <td>23 Oct 2000</td>\n",
       "      <td>1</td>\n",
       "      <td>0</td>\n",
       "      <td>0</td>\n",
       "      <td>0</td>\n",
       "      <td>NaN</td>\n",
       "      <td>randycan you send me a schedule of the salary ...</td>\n",
       "    </tr>\n",
       "    <tr>\n",
       "      <th>5</th>\n",
       "      <td>Greg,How about either next Tuesday or Thursday...</td>\n",
       "      <td>greg.piper@enron.com</td>\n",
       "      <td>phillip.allen@enron.com</td>\n",
       "      <td>31 Aug 2000</td>\n",
       "      <td>0</td>\n",
       "      <td>1</td>\n",
       "      <td>0</td>\n",
       "      <td>0</td>\n",
       "      <td>NaN</td>\n",
       "      <td>greghow about either next tuesday or thursdayp...</td>\n",
       "    </tr>\n",
       "  </tbody>\n",
       "</table>\n",
       "</div>"
      ],
      "text/plain": [
       "                                                body                       to  \\\n",
       "0                               Here is our forecast     tim.belden@enron.com   \n",
       "1  Traveling to have a business meeting takes the...  john.lavorato@enron.com   \n",
       "2                     test successful.  way to go!!!   leah.arsdall@enron.com   \n",
       "3  Randy,Can you send me a schedule of the salary...    randall.gay@enron.com   \n",
       "5  Greg,How about either next Tuesday or Thursday...     greg.piper@enron.com   \n",
       "\n",
       "                     from_          date  TC  SN  KS  OT  print  \\\n",
       "0  phillip.allen@enron.com   14 May 2001   1   0   0   0    NaN   \n",
       "1  phillip.allen@enron.com   4 May 2001    0   1   0   0    NaN   \n",
       "2  phillip.allen@enron.com   18 Oct 2000   1   0   0   0    NaN   \n",
       "3  phillip.allen@enron.com   23 Oct 2000   1   0   0   0    NaN   \n",
       "5  phillip.allen@enron.com   31 Aug 2000   0   1   0   0    NaN   \n",
       "\n",
       "                                      text_processed  \n",
       "0                               here is our forecast  \n",
       "1  traveling to have a business meeting takes the...  \n",
       "2                          test successful way to go  \n",
       "3  randycan you send me a schedule of the salary ...  \n",
       "5  greghow about either next tuesday or thursdayp...  "
      ]
     },
     "execution_count": 51,
     "metadata": {},
     "output_type": "execute_result"
    }
   ],
   "source": [
    "df.head(5)"
   ]
  },
  {
   "cell_type": "code",
   "execution_count": 52,
   "metadata": {},
   "outputs": [],
   "source": [
    "df.to_csv(os.path.basename(pwd +'/final_result1.csv'))"
   ]
  },
  {
   "cell_type": "code",
   "execution_count": 63,
   "metadata": {},
   "outputs": [],
   "source": [
    "categories = ['TC','SN','KS','OT']"
   ]
  },
  {
   "cell_type": "code",
   "execution_count": 64,
   "metadata": {},
   "outputs": [],
   "source": [
    "counts = []\n",
    "for i in categories:\n",
    "    counts.append((i, df[i].sum()))"
   ]
  },
  {
   "cell_type": "code",
   "execution_count": 65,
   "metadata": {},
   "outputs": [
    {
     "data": {
      "text/html": [
       "<div>\n",
       "<style scoped>\n",
       "    .dataframe tbody tr th:only-of-type {\n",
       "        vertical-align: middle;\n",
       "    }\n",
       "\n",
       "    .dataframe tbody tr th {\n",
       "        vertical-align: top;\n",
       "    }\n",
       "\n",
       "    .dataframe thead th {\n",
       "        text-align: right;\n",
       "    }\n",
       "</style>\n",
       "<table border=\"1\" class=\"dataframe\">\n",
       "  <thead>\n",
       "    <tr style=\"text-align: right;\">\n",
       "      <th></th>\n",
       "      <th>category</th>\n",
       "      <th>number_of_comments</th>\n",
       "    </tr>\n",
       "  </thead>\n",
       "  <tbody>\n",
       "    <tr>\n",
       "      <th>0</th>\n",
       "      <td>TC</td>\n",
       "      <td>307</td>\n",
       "    </tr>\n",
       "    <tr>\n",
       "      <th>1</th>\n",
       "      <td>SN</td>\n",
       "      <td>133</td>\n",
       "    </tr>\n",
       "    <tr>\n",
       "      <th>2</th>\n",
       "      <td>KS</td>\n",
       "      <td>57</td>\n",
       "    </tr>\n",
       "    <tr>\n",
       "      <th>3</th>\n",
       "      <td>OT</td>\n",
       "      <td>43</td>\n",
       "    </tr>\n",
       "  </tbody>\n",
       "</table>\n",
       "</div>"
      ],
      "text/plain": [
       "  category  number_of_comments\n",
       "0       TC                 307\n",
       "1       SN                 133\n",
       "2       KS                  57\n",
       "3       OT                  43"
      ]
     },
     "execution_count": 65,
     "metadata": {},
     "output_type": "execute_result"
    }
   ],
   "source": [
    "df_stats = pd.DataFrame(counts, columns=['category', 'number_of_comments'])\n",
    "df_stats"
   ]
  },
  {
   "cell_type": "code",
   "execution_count": 67,
   "metadata": {},
   "outputs": [
    {
     "data": {
      "text/plain": [
       "Text(0.5, 0, 'category')"
      ]
     },
     "execution_count": 67,
     "metadata": {},
     "output_type": "execute_result"
    },
    {
     "data": {
      "image/png": "[encoded data removed]",
      "text/plain": [
       "<Figure size 576x360 with 1 Axes>"
      ]
     },
     "metadata": {
      "needs_background": "light"
     },
     "output_type": "display_data"
    }
   ],
   "source": [
    "df_stats.plot(x='category', y='number_of_comments', kind='bar', legend=False, grid=True, figsize=(8, 5))\n",
    "plt.title(\"Number of comments per category\")\n",
    "plt.ylabel('# of Occurrences', fontsize=12)\n",
    "plt.xlabel('category', fontsize=12)"
   ]
  },
  {
   "cell_type": "code",
   "execution_count": 70,
   "metadata": {},
   "outputs": [
    {
     "data": {
      "text/plain": [
       "Text(0.5, 0, '# of categories')"
      ]
     },
     "execution_count": 70,
     "metadata": {},
     "output_type": "execute_result"
    },
    {
     "data": {
      "image/png": "[encoded data removed]",
      "text/plain": [
       "<Figure size 576x360 with 1 Axes>"
      ]
     },
     "metadata": {
      "needs_background": "light"
     },
     "output_type": "display_data"
    }
   ],
   "source": [
    "import seaborn as sns\n",
    "rowsums = df.iloc[:,2:].sum(axis=1)\n",
    "x=rowsums.value_counts()#plot\n",
    "plt.figure(figsize=(8,5))\n",
    "ax = sns.barplot(x.index, x.values)\n",
    "plt.title(\"Multiple categories per comment\")\n",
    "plt.ylabel('# of Occurrences', fontsize=12)\n",
    "plt.xlabel('# of categories', fontsize=12)"
   ]
  },
  {
   "cell_type": "code",
   "execution_count": 139,
   "metadata": {},
   "outputs": [
    {
     "name": "stdout",
     "output_type": "stream",
     "text": [
      "(328,)\n",
      "(162,)\n"
     ]
    }
   ],
   "source": [
    "from sklearn.model_selection import train_test_split\n",
    "categories = ['TC', 'SN', 'KS', 'OT']\n",
    "train, test = train_test_split(df, random_state=42, test_size=0.33, shuffle=True)\n",
    "\n",
    "X_train = train.text_processed\n",
    "X_test = test.text_processed\n",
    "print(X_train.shape)\n",
    "print(X_test.shape)"
   ]
  },
  {
   "cell_type": "markdown",
   "metadata": {},
   "source": [
    "### Naive Bayes"
   ]
  },
  {
   "cell_type": "code",
   "execution_count": 143,
   "metadata": {},
   "outputs": [],
   "source": [
    "# Define a pipeline combining a text feature extractor with multi lable classifier\n",
    "from sklearn.pipeline import Pipeline\n",
    "from sklearn.naive_bayes import MultinomialNB\n",
    "from sklearn.multiclass import OneVsRestClassifier\n",
    "\n",
    "NB_pipeline = Pipeline([\n",
    "                ('tfidf', TfidfVectorizer(stop_words=stop_words)),\n",
    "                ('clf', OneVsRestClassifier(MultinomialNB(\n",
    "                    fit_prior=True, class_prior=None))),\n",
    "            ])"
   ]
  },
  {
   "cell_type": "code",
   "execution_count": 149,
   "metadata": {},
   "outputs": [
    {
     "name": "stdout",
     "output_type": "stream",
     "text": [
      "... Processing TC\n",
      "Test accuracy is 0.6728395061728395\n",
      "... Processing SN\n",
      "Test accuracy is 0.7592592592592593\n",
      "... Processing KS\n",
      "Test accuracy is 0.7962962962962963\n",
      "... Processing OT\n",
      "Test accuracy is 0.9506172839506173\n"
     ]
    }
   ],
   "source": [
    "for category in categories:\n",
    "    print('... Processing {}'.format(category))\n",
    "    # train the model using X_dtm & y\n",
    "    NB_pipeline.fit(X_train, train[category])\n",
    "    # compute the testing accuracy\n",
    "    prediction = NB_pipeline.predict(X_test)\n",
    "    print('Test accuracy is {}'.format(accuracy_score(test[category], prediction)))"
   ]
  },
  {
   "cell_type": "markdown",
   "metadata": {},
   "source": [
    "### Linear SVC"
   ]
  },
  {
   "cell_type": "code",
   "execution_count": 152,
   "metadata": {},
   "outputs": [],
   "source": [
    "from sklearn.svm import LinearSVC\n",
    "SVC_pipeline = Pipeline([\n",
    "                ('tfidf', TfidfVectorizer(stop_words=stop_words)),\n",
    "                ('clf', OneVsRestClassifier(LinearSVC(), n_jobs=1)),\n",
    "            ])\n"
   ]
  },
  {
   "cell_type": "code",
   "execution_count": 153,
   "metadata": {},
   "outputs": [
    {
     "name": "stdout",
     "output_type": "stream",
     "text": [
      "... Processing TC\n",
      "Test accuracy is 0.6604938271604939\n",
      "... Processing SN\n",
      "Test accuracy is 0.7530864197530864\n",
      "... Processing KS\n",
      "Test accuracy is 0.845679012345679\n",
      "... Processing OT\n",
      "Test accuracy is 0.9506172839506173\n"
     ]
    }
   ],
   "source": [
    "for category in categories:\n",
    "    print('... Processing {}'.format(category))\n",
    "    # train the model using X_dtm & y\n",
    "    SVC_pipeline.fit(X_train, train[category])\n",
    "    # compute the testing accuracy\n",
    "    prediction = SVC_pipeline.predict(X_test)\n",
    "    print('Test accuracy is {}'.format(accuracy_score(test[category], prediction)))"
   ]
  },
  {
   "cell_type": "markdown",
   "metadata": {},
   "source": [
    "### Logistic Regression"
   ]
  },
  {
   "cell_type": "code",
   "execution_count": 154,
   "metadata": {},
   "outputs": [],
   "source": [
    "from sklearn.linear_model import LogisticRegression\n",
    "LogReg_pipeline = Pipeline([\n",
    "                ('tfidf', TfidfVectorizer(stop_words=stop_words)),\n",
    "                ('clf', OneVsRestClassifier(LogisticRegression(solver='sag'), n_jobs=1)),\n",
    "            ])\n"
   ]
  },
  {
   "cell_type": "code",
   "execution_count": 155,
   "metadata": {},
   "outputs": [
    {
     "name": "stdout",
     "output_type": "stream",
     "text": [
      "... Processing TC\n",
      "Test accuracy is 0.6975308641975309\n",
      "... Processing SN\n",
      "Test accuracy is 0.7530864197530864\n",
      "... Processing KS\n",
      "Test accuracy is 0.7962962962962963\n",
      "... Processing OT\n",
      "Test accuracy is 0.9567901234567902\n"
     ]
    }
   ],
   "source": [
    "for category in categories:\n",
    "    print('... Processing {}'.format(category))\n",
    "    # train the model using X_dtm & y\n",
    "    LogReg_pipeline.fit(X_train, train[category])\n",
    "    # compute the testing accuracy\n",
    "    prediction = LogReg_pipeline.predict(X_test)\n",
    "    print('Test accuracy is {}'.format(accuracy_score(test[category], prediction)))"
   ]
  },
  {
   "cell_type": "markdown",
   "metadata": {},
   "source": [
    "### Artificial Neural Network"
   ]
  },
  {
   "cell_type": "code",
   "execution_count": null,
   "metadata": {},
   "outputs": [],
   "source": []
  },
  {
   "cell_type": "markdown",
   "metadata": {},
   "source": [
    "### SVM"
   ]
  },
  {
   "cell_type": "code",
   "execution_count": 158,
   "metadata": {},
   "outputs": [],
   "source": [
    "from sklearn.svm import SVC\n",
    "SVM_pipeline = Pipeline([\n",
    "                ('tfidf', TfidfVectorizer(stop_words=stop_words)),\n",
    "                ('clf', SVC()),\n",
    "            ])"
   ]
  },
  {
   "cell_type": "code",
   "execution_count": 159,
   "metadata": {},
   "outputs": [
    {
     "name": "stdout",
     "output_type": "stream",
     "text": [
      "... Processing TC\n",
      "Test accuracy is 0.6728395061728395\n",
      "... Processing SN\n",
      "Test accuracy is 0.7407407407407407\n",
      "... Processing KS\n",
      "Test accuracy is 0.808641975308642\n",
      "... Processing OT\n",
      "Test accuracy is 0.9567901234567902\n"
     ]
    }
   ],
   "source": [
    "for category in categories:\n",
    "    print('... Processing {}'.format(category))\n",
    "    # train the model using X_dtm & y\n",
    "    SVM_pipeline.fit(X_train, train[category])\n",
    "    # compute the testing accuracy\n",
    "    prediction = SVM_pipeline.predict(X_test)\n",
    "    print('Test accuracy is {}'.format(accuracy_score(test[category], prediction)))"
   ]
  },
  {
   "cell_type": "code",
   "execution_count": 75,
   "metadata": {},
   "outputs": [],
   "source": [
    "stop_words = stopwords.words('english')# replace with space\n",
    "stop_words.extend(['from', 'subject', 're', 'edu', 'use'])"
   ]
  },
  {
   "cell_type": "code",
   "execution_count": 78,
   "metadata": {},
   "outputs": [
    {
     "name": "stdout",
     "output_type": "stream",
     "text": [
      "traveling to have a business meeting takes the fun out of the trip especially if you have to prepare a presentation i would suggest holding the business plan meetings here then take a trip without any formal business meetings i would even try and get some honest opinions on whether a trip is even desired or necessaryas far as the business meetings i think it would be more productive to try and stimulate discussions across the different groups about what is working and what is not too often the presenter speaks and the others are quiet just waiting for their turn the meetings might be better if held in a round table discussion formatmy suggestion for where to go is austin play golf and rent a ski boat and jet skis flying somewhere takes too much time\n"
     ]
    }
   ],
   "source": [
    "print(email_df.iloc[1]['text_processed'])"
   ]
  },
  {
   "cell_type": "code",
   "execution_count": 79,
   "metadata": {},
   "outputs": [],
   "source": [
    "data = email_df.text_processed.values.tolist()"
   ]
  },
  {
   "cell_type": "code",
   "execution_count": 81,
   "metadata": {},
   "outputs": [],
   "source": [
    "def sent_to_words(sentences):\n",
    "    for sentence in sentences:\n",
    "        yield(gensim.utils.simple_preprocess(str(sentence), deacc=True))\n",
    "        \n",
    "def remove_stopwords(texts):\n",
    "    return [[word for word in simple_preprocess(str(doc)) if word not in stop_words] for doc in texts]\n",
    "\n",
    "def make_bigrams(texts):\n",
    "    return [bigram_mod[doc] for doc in texts]\n",
    "\n",
    "def make_trigrams(texts):\n",
    "    return [trigram_mod[bigram_mod[doc]] for doc in texts]\n",
    "\n",
    "def lemmatization(texts):\n",
    "    texts_out = []\n",
    "    for sent in texts:\n",
    "        texts_out.append([lemmatizer.lemmatize(i) for i in sent])\n",
    "    return texts_out"
   ]
  },
  {
   "cell_type": "code",
   "execution_count": 82,
   "metadata": {},
   "outputs": [],
   "source": [
    "data_words = list(sent_to_words(data))"
   ]
  },
  {
   "cell_type": "code",
   "execution_count": 84,
   "metadata": {},
   "outputs": [
    {
     "name": "stdout",
     "output_type": "stream",
     "text": [
      "['traveling', 'to', 'have', 'business', 'meeting', 'takes', 'the', 'fun', 'out', 'of', 'the', 'trip', 'especially', 'if', 'you', 'have', 'to', 'prepare', 'presentation', 'would', 'suggest', 'holding', 'the', 'business', 'plan', 'meetings', 'here', 'then', 'take', 'trip', 'without', 'any', 'formal', 'business', 'meetings', 'would', 'even', 'try', 'and', 'get', 'some', 'honest', 'opinions', 'on', 'whether', 'trip', 'is', 'even', 'desired', 'or', 'necessaryas', 'far', 'as', 'the', 'business', 'meetings', 'think', 'it', 'would', 'be', 'more', 'productive', 'to', 'try', 'and', 'stimulate', 'discussions', 'across', 'the', 'different', 'groups', 'about', 'what', 'is', 'working', 'and', 'what', 'is', 'not', 'too', 'often', 'the', 'presenter', 'speaks', 'and', 'the', 'others', 'are', 'quiet', 'just', 'waiting', 'for', 'their', 'turn', 'the', 'meetings', 'might', 'be', 'better', 'if', 'held', 'in', 'round', 'table', 'discussion', 'formatmy', 'suggestion', 'for', 'where', 'to', 'go', 'is', 'austin', 'play', 'golf', 'and', 'rent', 'ski', 'boat', 'and', 'jet', 'skis', 'flying', 'somewhere', 'takes', 'too', 'much', 'time']\n"
     ]
    }
   ],
   "source": [
    "print(data_words[1])"
   ]
  },
  {
   "cell_type": "code",
   "execution_count": null,
   "metadata": {},
   "outputs": [],
   "source": [
    "# ugs = word_tokenize(raw)\n",
    "# bgs = nltk.bigrams(ugs)\n",
    "# tgs = nltk.trigrams(ugs)\n",
    "# fogs=nltk.ngrams(ugs,4)\n",
    "# figs=nltk.ngrams(ugs,5)"
   ]
  },
  {
   "cell_type": "code",
   "execution_count": null,
   "metadata": {},
   "outputs": [],
   "source": [
    "# # Build the bigram and trigram models\n",
    "# bigram = gensim.models.Phrases(data_words, min_count=5, threshold=100)\n",
    "# trigram = gensim.models.Phrases(bigram[data_words], threshold=100)"
   ]
  },
  {
   "cell_type": "code",
   "execution_count": null,
   "metadata": {},
   "outputs": [],
   "source": [
    "# # Faster way to get a sentence clubbed as a trigram/bigram\n",
    "# # bigram_mod = Phraser(bigram)\n",
    "# # trigram_mod = Phraser(trigram)\n",
    "# bigram_mod = gensim.models.phrases.Phraser(bigram)\n",
    "# trigram_mod = gensim.models.phrases.Phraser(trigram)"
   ]
  },
  {
   "cell_type": "code",
   "execution_count": null,
   "metadata": {},
   "outputs": [],
   "source": [
    "# print(bigram_mod[data_words[11]])"
   ]
  },
  {
   "cell_type": "code",
   "execution_count": 89,
   "metadata": {},
   "outputs": [],
   "source": [
    "# Remove Stop Words\n",
    "data_words_nostops = remove_stopwords(data_words)"
   ]
  },
  {
   "cell_type": "code",
   "execution_count": 91,
   "metadata": {},
   "outputs": [],
   "source": [
    "#  Form Bigrams\n",
    "# data_words_bigrams = make_bigrams(data_words_nostops)"
   ]
  },
  {
   "cell_type": "code",
   "execution_count": 92,
   "metadata": {},
   "outputs": [],
   "source": [
    "# data_lemmatized = lemmatization(data_words_bigrams)\n",
    "data_lemmatized = lemmatization(data_words_nostops)"
   ]
  },
  {
   "cell_type": "code",
   "execution_count": 94,
   "metadata": {},
   "outputs": [
    {
     "name": "stdout",
     "output_type": "stream",
     "text": [
      "['traveling', 'business', 'meeting', 'take', 'fun', 'trip', 'especially', 'prepare', 'presentation', 'would', 'suggest', 'holding', 'business', 'plan', 'meeting', 'take', 'trip', 'without', 'formal', 'business', 'meeting', 'would', 'even', 'try', 'get', 'honest', 'opinion', 'whether', 'trip', 'even', 'desired', 'necessaryas', 'far', 'business', 'meeting', 'think', 'would', 'productive', 'try', 'stimulate', 'discussion', 'across', 'different', 'group', 'working', 'often', 'presenter', 'speaks', 'others', 'quiet', 'waiting', 'turn', 'meeting', 'might', 'better', 'held', 'round', 'table', 'discussion', 'formatmy', 'suggestion', 'go', 'austin', 'play', 'golf', 'rent', 'ski', 'boat', 'jet', 'ski', 'flying', 'somewhere', 'take', 'much', 'time']\n"
     ]
    }
   ],
   "source": [
    "print(data_lemmatized[1])"
   ]
  },
  {
   "cell_type": "markdown",
   "metadata": {},
   "source": [
    "### Bag of Words on the Data set"
   ]
  },
  {
   "cell_type": "code",
   "execution_count": 95,
   "metadata": {},
   "outputs": [],
   "source": [
    "import gensim.corpora as corpora# Create Dictionary\n",
    "dictionary = corpora.Dictionary(data_lemmatized)# Create Corpus"
   ]
  },
  {
   "cell_type": "code",
   "execution_count": 117,
   "metadata": {},
   "outputs": [
    {
     "name": "stdout",
     "output_type": "stream",
     "text": [
      "Number of unique words in initital documents: 200\n"
     ]
    }
   ],
   "source": [
    "print('Number of unique words in initital documents:', len(dictionary))"
   ]
  },
  {
   "cell_type": "code",
   "execution_count": 118,
   "metadata": {},
   "outputs": [
    {
     "name": "stdout",
     "output_type": "stream",
     "text": [
      "Number of unique words after removing rare and common words: 200\n"
     ]
    }
   ],
   "source": [
    "# Filter out words that occur less than 10 documents, or more than 20% of the documents.\n",
    "dictionary.filter_extremes(no_below=15, no_above=0.5, keep_n=100000)\n",
    "print('Number of unique words after removing rare and common words:', len(dictionary))"
   ]
  },
  {
   "cell_type": "code",
   "execution_count": 122,
   "metadata": {},
   "outputs": [
    {
     "name": "stdout",
     "output_type": "stream",
     "text": [
      "0 austin\n",
      "1 better\n",
      "2 different\n",
      "3 even\n",
      "4 get\n",
      "5 go\n",
      "6 group\n",
      "7 meeting\n",
      "8 might\n",
      "9 much\n",
      "10 plan\n"
     ]
    }
   ],
   "source": [
    "count = 0\n",
    "for k, v in dictionary.iteritems():\n",
    "    print(k, v)\n",
    "    count += 1\n",
    "    if count > 10:\n",
    "        break"
   ]
  },
  {
   "cell_type": "markdown",
   "metadata": {},
   "source": [
    "### Gensim doc2bow"
   ]
  },
  {
   "cell_type": "code",
   "execution_count": 124,
   "metadata": {},
   "outputs": [
    {
     "data": {
      "text/plain": [
       "[(4, 1),\n",
       " (11, 2),\n",
       " (19, 1),\n",
       " (21, 1),\n",
       " (26, 1),\n",
       " (35, 1),\n",
       " (40, 1),\n",
       " (70, 1),\n",
       " (78, 1),\n",
       " (100, 1),\n",
       " (109, 3),\n",
       " (113, 2),\n",
       " (117, 1),\n",
       " (124, 4),\n",
       " (161, 1),\n",
       " (171, 3)]"
      ]
     },
     "execution_count": 124,
     "metadata": {},
     "output_type": "execute_result"
    }
   ],
   "source": [
    "bow_corpus = [dictionary.doc2bow(doc) for doc in data_lemmatized]\n",
    "bow_corpus[489]"
   ]
  },
  {
   "cell_type": "code",
   "execution_count": 125,
   "metadata": {},
   "outputs": [
    {
     "name": "stdout",
     "output_type": "stream",
     "text": [
      "Word 4 (\"get\") appears 1 time.\n",
      "Word 11 (\"rent\") appears 2 time.\n",
      "Word 19 (\"need\") appears 1 time.\n",
      "Word 21 (\"schedule\") appears 1 time.\n",
      "Word 26 (\"phillip\") appears 1 time.\n",
      "Word 35 (\"deal\") appears 1 time.\n",
      "Word 40 (\"let\") appears 1 time.\n",
      "Word 70 (\"due\") appears 1 time.\n",
      "Word 78 (\"know\") appears 1 time.\n",
      "Word 100 (\"please\") appears 1 time.\n",
      "Word 109 (\"one\") appears 3 time.\n",
      "Word 113 (\"two\") appears 2 time.\n",
      "Word 117 (\"fax\") appears 1 time.\n",
      "Word 124 (\"paid\") appears 4 time.\n",
      "Word 161 (\"back\") appears 1 time.\n",
      "Word 171 (\"week\") appears 3 time.\n"
     ]
    }
   ],
   "source": [
    "bow_doc_489 = bow_corpus[489]\n",
    "for i in range(len(bow_doc_489)):\n",
    "    print(\"Word {} (\\\"{}\\\") appears {} time.\".format(bow_doc_489[i][0], \n",
    "                                               dictionary[bow_doc_489[i][0]], \n",
    "bow_doc_489[i][1]))"
   ]
  },
  {
   "cell_type": "markdown",
   "metadata": {},
   "source": [
    "### TF-IDF"
   ]
  },
  {
   "cell_type": "code",
   "execution_count": 116,
   "metadata": {},
   "outputs": [
    {
     "name": "stdout",
     "output_type": "stream",
     "text": [
      "[(0, 0.16348819730522351),\n",
      " (1, 0.15761883073314112),\n",
      " (2, 0.15240304588412626),\n",
      " (3, 0.3209234907022144),\n",
      " (4, 0.08864510663841858),\n",
      " (5, 0.12375524061380301),\n",
      " (6, 0.1604617453511072),\n",
      " (7, 0.6121710156443381),\n",
      " (8, 0.14144797423998737),\n",
      " (9, 0.14770975924870985),\n",
      " (10, 0.11302400581243485),\n",
      " (11, 0.13953367867031669),\n",
      " (12, 0.39295182269877643),\n",
      " (13, 0.11302400581243485),\n",
      " (14, 0.1099309907108412),\n",
      " (15, 0.25591497789095163),\n",
      " (16, 0.1604617453511072),\n",
      " (17, 0.2322802029156295)]\n"
     ]
    }
   ],
   "source": [
    "from gensim import corpora, models\n",
    "from pprint import pprint\n",
    "\n",
    "tfidf = models.TfidfModel(bow_corpus)\n",
    "corpus_tfidf = tfidf[bow_corpus]\n",
    "\n",
    "for doc in corpus_tfidf:\n",
    "    if doc != []:\n",
    "        pprint(doc)\n",
    "        break"
   ]
  },
  {
   "cell_type": "markdown",
   "metadata": {},
   "source": [
    "### LDA using Bag of Words"
   ]
  },
  {
   "cell_type": "code",
   "execution_count": 126,
   "metadata": {},
   "outputs": [],
   "source": [
    "lda_model = gensim.models.LdaMulticore(bow_corpus,\n",
    "                                       num_topics=10, \n",
    "                                       id2word=dictionary,\n",
    "                                       passes=2, workers=2)"
   ]
  },
  {
   "cell_type": "code",
   "execution_count": 127,
   "metadata": {},
   "outputs": [
    {
     "name": "stdout",
     "output_type": "stream",
     "text": [
      "Topic: 0 \n",
      "Words: 0.040*\"phillip\" + 0.039*\"basis\" + 0.030*\"forwarded\" + 0.030*\"would\" + 0.027*\"please\" + 0.026*\"allenhouect\" + 0.025*\"need\" + 0.023*\"think\" + 0.017*\"gas\" + 0.016*\"email\"\n",
      "Topic: 1 \n",
      "Words: 0.066*\"power\" + 0.023*\"company\" + 0.021*\"need\" + 0.020*\"phillip\" + 0.019*\"paid\" + 0.019*\"file\" + 0.016*\"call\" + 0.016*\"rent\" + 0.015*\"would\" + 0.015*\"get\"\n",
      "Topic: 2 \n",
      "Words: 0.041*\"position\" + 0.041*\"phillip\" + 0.031*\"forwarded\" + 0.030*\"gas\" + 0.029*\"deal\" + 0.028*\"allenhouect\" + 0.022*\"would\" + 0.022*\"need\" + 0.020*\"price\" + 0.017*\"project\"\n",
      "Topic: 3 \n",
      "Words: 0.079*\"cost\" + 0.072*\"loan\" + 0.047*\"would\" + 0.037*\"unit\" + 0.028*\"construction\" + 0.026*\"land\" + 0.023*\"total\" + 0.020*\"project\" + 0.017*\"value\" + 0.015*\"need\"\n",
      "Topic: 4 \n",
      "Words: 0.109*\"phillip\" + 0.096*\"forwarded\" + 0.094*\"allenhouect\" + 0.029*\"access\" + 0.029*\"rent\" + 0.026*\"meeting\" + 0.018*\"allen\" + 0.017*\"please\" + 0.017*\"date\" + 0.017*\"address\"\n",
      "Topic: 5 \n",
      "Words: 0.042*\"would\" + 0.041*\"meeting\" + 0.028*\"may\" + 0.024*\"john\" + 0.023*\"phillip\" + 0.021*\"call\" + 0.019*\"california\" + 0.019*\"forwarded\" + 0.019*\"allenhouect\" + 0.019*\"number\"\n",
      "Topic: 6 \n",
      "Words: 0.045*\"please\" + 0.040*\"phillip\" + 0.031*\"gas\" + 0.030*\"mike\" + 0.029*\"forwarded\" + 0.025*\"allenhouect\" + 0.024*\"call\" + 0.022*\"daily\" + 0.021*\"email\" + 0.017*\"order\"\n",
      "Topic: 7 \n",
      "Words: 0.049*\"email\" + 0.041*\"project\" + 0.034*\"would\" + 0.021*\"plan\" + 0.021*\"week\" + 0.020*\"like\" + 0.019*\"know\" + 0.019*\"look\" + 0.017*\"property\" + 0.016*\"land\"\n",
      "Topic: 8 \n",
      "Words: 0.035*\"email\" + 0.031*\"phillip\" + 0.030*\"year\" + 0.028*\"note\" + 0.025*\"new\" + 0.024*\"socal\" + 0.023*\"forwarded\" + 0.023*\"power\" + 0.021*\"bank\" + 0.020*\"call\"\n",
      "Topic: 9 \n",
      "Words: 0.038*\"need\" + 0.026*\"get\" + 0.026*\"would\" + 0.025*\"time\" + 0.022*\"know\" + 0.021*\"work\" + 0.021*\"let\" + 0.016*\"going\" + 0.016*\"unit\" + 0.014*\"want\"\n"
     ]
    }
   ],
   "source": [
    "for idx, topic in lda_model.print_topics(-1):\n",
    "    print('Topic: {} \\nWords: {}'.format(idx, topic))"
   ]
  },
  {
   "cell_type": "markdown",
   "metadata": {},
   "source": [
    "### Running LDA using TF-IDF"
   ]
  },
  {
   "cell_type": "code",
   "execution_count": 128,
   "metadata": {},
   "outputs": [
    {
     "name": "stdout",
     "output_type": "stream",
     "text": [
      "Topic: 0 Word: 0.064*\"phillip\" + 0.058*\"forwarded\" + 0.057*\"allenhouect\" + 0.020*\"north\" + 0.019*\"u\" + 0.019*\"hunter\" + 0.018*\"one\" + 0.018*\"john\" + 0.018*\"america\" + 0.017*\"enron\"\n",
      "Topic: 1 Word: 0.066*\"tim\" + 0.041*\"phillip\" + 0.039*\"forwarded\" + 0.038*\"allenhouect\" + 0.029*\"loan\" + 0.023*\"jeff\" + 0.019*\"scott\" + 0.016*\"john\" + 0.014*\"america\" + 0.014*\"north\"\n",
      "Topic: 2 Word: 0.036*\"please\" + 0.029*\"email\" + 0.028*\"need\" + 0.024*\"desk\" + 0.023*\"know\" + 0.022*\"call\" + 0.022*\"get\" + 0.022*\"let\" + 0.021*\"would\" + 0.021*\"socal\"\n",
      "Topic: 3 Word: 0.024*\"send\" + 0.023*\"sent\" + 0.018*\"would\" + 0.018*\"access\" + 0.018*\"address\" + 0.016*\"track\" + 0.015*\"may\" + 0.014*\"fax\" + 0.014*\"good\" + 0.013*\"think\"\n",
      "Topic: 4 Word: 0.040*\"received\" + 0.033*\"bring\" + 0.033*\"spreadsheet\" + 0.033*\"file\" + 0.024*\"number\" + 0.023*\"phillip\" + 0.022*\"please\" + 0.022*\"socal\" + 0.022*\"forwarded\" + 0.022*\"allenhouect\"\n",
      "Topic: 5 Word: 0.030*\"id\" + 0.029*\"date\" + 0.029*\"meeting\" + 0.028*\"request\" + 0.025*\"phillip\" + 0.023*\"way\" + 0.021*\"forwarded\" + 0.021*\"allenhouect\" + 0.018*\"let\" + 0.018*\"issue\"\n",
      "Topic: 6 Word: 0.031*\"help\" + 0.027*\"think\" + 0.025*\"allen\" + 0.024*\"desk\" + 0.020*\"time\" + 0.019*\"cost\" + 0.018*\"gas\" + 0.017*\"book\" + 0.016*\"program\" + 0.015*\"id\"\n",
      "Topic: 7 Word: 0.020*\"deal\" + 0.019*\"project\" + 0.018*\"cost\" + 0.017*\"gas\" + 0.016*\"san\" + 0.016*\"position\" + 0.016*\"would\" + 0.015*\"unit\" + 0.015*\"west\" + 0.013*\"report\"\n",
      "Topic: 8 Word: 0.030*\"rent\" + 0.027*\"email\" + 0.025*\"basis\" + 0.022*\"might\" + 0.021*\"dont\" + 0.021*\"look\" + 0.021*\"think\" + 0.020*\"list\" + 0.019*\"call\" + 0.019*\"deposit\"\n",
      "Topic: 9 Word: 0.029*\"going\" + 0.028*\"work\" + 0.019*\"week\" + 0.017*\"need\" + 0.016*\"get\" + 0.015*\"california\" + 0.015*\"new\" + 0.014*\"site\" + 0.014*\"take\" + 0.014*\"try\"\n"
     ]
    }
   ],
   "source": [
    "lda_model_tfidf = gensim.models.LdaMulticore(corpus_tfidf, num_topics=10,\n",
    "                                             id2word=dictionary,\n",
    "                                             passes=2, workers=4)\n",
    "\n",
    "for idx, topic in lda_model_tfidf.print_topics(-1):\n",
    "    print('Topic: {} Word: {}'.format(idx, topic))"
   ]
  },
  {
   "cell_type": "code",
   "execution_count": 132,
   "metadata": {},
   "outputs": [
    {
     "name": "stdout",
     "output_type": "stream",
     "text": [
      "\n",
      "Score: 0.6233623027801514\t \n",
      "Topic: 0.038*\"need\" + 0.026*\"get\" + 0.026*\"would\" + 0.025*\"time\" + 0.022*\"know\" + 0.021*\"work\" + 0.021*\"let\" + 0.016*\"going\" + 0.016*\"unit\" + 0.014*\"want\"\n",
      "\n",
      "Score: 0.3458632528781891\t \n",
      "Topic: 0.066*\"power\" + 0.023*\"company\" + 0.021*\"need\" + 0.020*\"phillip\" + 0.019*\"paid\" + 0.019*\"file\" + 0.016*\"call\" + 0.016*\"rent\" + 0.015*\"would\" + 0.015*\"get\"\n"
     ]
    }
   ],
   "source": [
    "for index, score in sorted(lda_model[bow_corpus[489]], key=lambda tup: -1*tup[1]):\n",
    "    print(\"\\nScore: {}\\t \\nTopic: {}\".format(score, lda_model.print_topic(index, 10)))"
   ]
  },
  {
   "cell_type": "code",
   "execution_count": 133,
   "metadata": {},
   "outputs": [
    {
     "name": "stdout",
     "output_type": "stream",
     "text": [
      "\n",
      "Score: 0.5195339322090149\t \n",
      "Topic: 0.029*\"going\" + 0.028*\"work\" + 0.019*\"week\" + 0.017*\"need\" + 0.016*\"get\" + 0.015*\"california\" + 0.015*\"new\" + 0.014*\"site\" + 0.014*\"take\" + 0.014*\"try\"\n",
      "\n",
      "Score: 0.26903125643730164\t \n",
      "Topic: 0.030*\"rent\" + 0.027*\"email\" + 0.025*\"basis\" + 0.022*\"might\" + 0.021*\"dont\" + 0.021*\"look\" + 0.021*\"think\" + 0.020*\"list\" + 0.019*\"call\" + 0.019*\"deposit\"\n",
      "\n",
      "Score: 0.184502512216568\t \n",
      "Topic: 0.024*\"send\" + 0.023*\"sent\" + 0.018*\"would\" + 0.018*\"access\" + 0.018*\"address\" + 0.016*\"track\" + 0.015*\"may\" + 0.014*\"fax\" + 0.014*\"good\" + 0.013*\"think\"\n"
     ]
    }
   ],
   "source": [
    "for index, score in sorted(lda_model_tfidf[bow_corpus[489]], key=lambda tup: -1*tup[1]):\n",
    "    print(\"\\nScore: {}\\t \\nTopic: {}\".format(score, lda_model_tfidf.print_topic(index, 10)))"
   ]
  },
  {
   "cell_type": "code",
   "execution_count": null,
   "metadata": {},
   "outputs": [],
   "source": []
  },
  {
   "cell_type": "code",
   "execution_count": null,
   "metadata": {},
   "outputs": [],
   "source": []
  }
 ],
 "metadata": {
  "kernelspec": {
   "display_name": "Python 3",
   "language": "python",
   "name": "python3"
  },
  "language_info": {
   "codemirror_mode": {
    "name": "ipython",
    "version": 3
   },
   "file_extension": ".py",
   "mimetype": "text/x-python",
   "name": "python",
   "nbconvert_exporter": "python",
   "pygments_lexer": "ipython3",
   "version": "3.7.6"
  }
 },
 "nbformat": 4,
 "nbformat_minor": 4
}
