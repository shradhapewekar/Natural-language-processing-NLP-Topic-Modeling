{
 "cells": [
  {
   "cell_type": "code",
   "execution_count": 103,
   "metadata": {},
   "outputs": [],
   "source": [
    "import pandas as pd\n",
    "import re\n",
    "import numpy as np\n",
    "import gensim\n",
    "import warnings\n",
    "warnings.simplefilter(action='ignore', category=FutureWarning)"
   ]
  },
  {
   "cell_type": "code",
   "execution_count": 160,
   "metadata": {},
   "outputs": [],
   "source": [
    "# spacy for lemmatization\n",
    "# import spacy\n",
    "# from nltk.stem import WordNetLemmatizer \n",
    "from nltk.stem import PorterStemmer\n",
    "lemmatizer = WordNetLemmatizer()\n",
    "\n",
    "import nltk\n",
    "\n",
    "w_tokenizer = nltk.tokenize.WhitespaceTokenizer()\n",
    "lemmatizer = nltk.stem.WordNetLemmatizer()"
   ]
  },
  {
   "cell_type": "code",
   "execution_count": 105,
   "metadata": {},
   "outputs": [],
   "source": [
    "# for plotting\n",
    "import pyLDAvis\n",
    "import pyLDAvis.gensim\n",
    "import matplotlib.pyplot as plt"
   ]
  },
  {
   "cell_type": "markdown",
   "metadata": {},
   "source": [
    "### Loading data"
   ]
  },
  {
   "cell_type": "code",
   "execution_count": 106,
   "metadata": {},
   "outputs": [],
   "source": [
    "import os\n",
    "pwd = os.getcwd()"
   ]
  },
  {
   "cell_type": "code",
   "execution_count": 108,
   "metadata": {},
   "outputs": [
    {
     "name": "stdout",
     "output_type": "stream",
     "text": [
      "(25870, 2)\n",
      "                              file  \\\n",
      "186822  jones-t/all_documents/634.   \n",
      "308790  mann-k/all_documents/5690.   \n",
      "82383         dasovich-j/sent/423.   \n",
      "227299          kaminski-v/var/63.   \n",
      "301824     mann-k/_sent_mail/3208.   \n",
      "\n",
      "                                                  message  \n",
      "186822  Message-ID: <17820178.1075846925335.JavaMail.e...  \n",
      "308790  Message-ID: <29110382.1075845717882.JavaMail.e...  \n",
      "82383   Message-ID: <6812040.1075843194135.JavaMail.ev...  \n",
      "227299  Message-ID: <21547648.1075856642126.JavaMail.e...  \n",
      "301824  Message-ID: <12684200.1075846107179.JavaMail.e...  \n"
     ]
    }
   ],
   "source": [
    "emails = pd.read_csv(os.path.basename(pwd +'/emails.csv'))\n",
    "email_subset = emails.sample(frac=0.05, random_state=1)\n",
    "print(email_subset.shape)\n",
    "print(email_subset.head())"
   ]
  },
  {
   "cell_type": "code",
   "execution_count": null,
   "metadata": {},
   "outputs": [],
   "source": []
  },
  {
   "cell_type": "markdown",
   "metadata": {},
   "source": [
    "### Data Cleaning\n",
    "- We have to do topic modelling on text data, I have removed redundant imformation and kept only: email body , From and To.\n",
    "- I am only using first 10,000 emails"
   ]
  },
  {
   "cell_type": "code",
   "execution_count": 115,
   "metadata": {},
   "outputs": [],
   "source": [
    "def parse_raw_message(raw_message):\n",
    "    lines = raw_message.split('\\n')\n",
    "    email = {}\n",
    "    message = ''\n",
    "    keys_to_extract = ['from', 'to', 'date']\n",
    "    for line in lines:\n",
    "        if ':' not in line:\n",
    "            message += line.strip()\n",
    "            email['body'] = message\n",
    "        else:\n",
    "            pairs = line.split(':')\n",
    "            key = pairs[0].lower()\n",
    "            val = pairs[1].strip()\n",
    "            if key in keys_to_extract:\n",
    "                email[key] = val\n",
    "    return email"
   ]
  },
  {
   "cell_type": "code",
   "execution_count": 116,
   "metadata": {},
   "outputs": [],
   "source": [
    "def parse_into_emails(messages):\n",
    "    emails = [parse_raw_message(message) for message in messages]\n",
    "    return {\n",
    "        'body': map_to_list(emails, 'body'),\n",
    "        'to': map_to_list(emails, 'to'),\n",
    "        'from_': map_to_list(emails, 'from'),\n",
    "        'date': map_to_list(emails, 'date')\n",
    "    }"
   ]
  },
  {
   "cell_type": "code",
   "execution_count": 117,
   "metadata": {},
   "outputs": [],
   "source": [
    "def map_to_list(emails, key):\n",
    "    results = []\n",
    "    for email in emails:\n",
    "        if key not in email:\n",
    "            results.append('')\n",
    "        else:\n",
    "            results.append(email[key])\n",
    "    return results"
   ]
  },
  {
   "cell_type": "code",
   "execution_count": 134,
   "metadata": {},
   "outputs": [
    {
     "data": {
      "text/html": [
       "<div>\n",
       "<style scoped>\n",
       "    .dataframe tbody tr th:only-of-type {\n",
       "        vertical-align: middle;\n",
       "    }\n",
       "\n",
       "    .dataframe tbody tr th {\n",
       "        vertical-align: top;\n",
       "    }\n",
       "\n",
       "    .dataframe thead th {\n",
       "        text-align: right;\n",
       "    }\n",
       "</style>\n",
       "<table border=\"1\" class=\"dataframe\">\n",
       "  <thead>\n",
       "    <tr style=\"text-align: right;\">\n",
       "      <th></th>\n",
       "      <th>body</th>\n",
       "      <th>to</th>\n",
       "      <th>from_</th>\n",
       "      <th>date</th>\n",
       "    </tr>\n",
       "  </thead>\n",
       "  <tbody>\n",
       "    <tr>\n",
       "      <th>0</th>\n",
       "      <td>It would be nice if you could be at my dinner,...</td>\n",
       "      <td>alicia.goodrow@enron.com</td>\n",
       "      <td>tana.jones@enron.com</td>\n",
       "      <td>Tue, 4 Jan 2000 08</td>\n",
       "    </tr>\n",
       "    <tr>\n",
       "      <th>1</th>\n",
       "      <td>Absolutely.Good point!  Can Peter start to dra...</td>\n",
       "      <td>Kay Mann/Corp/Enron@ENRON</td>\n",
       "      <td>Sheila Tweed@ECT on 05/15/2001 06</td>\n",
       "      <td>Tue, 15 May 2001 11</td>\n",
       "    </tr>\n",
       "    <tr>\n",
       "      <th>2</th>\n",
       "      <td>My apologies.  My schedule melted down after w...</td>\n",
       "      <td>christine.piesco@oracle.com</td>\n",
       "      <td>jeff.dasovich@enron.com</td>\n",
       "      <td>Thu, 28 Sep 2000 08</td>\n",
       "    </tr>\n",
       "    <tr>\n",
       "      <th>3</th>\n",
       "      <td>Vince,UK VAR breached the limit last week.UK t...</td>\n",
       "      <td>Richard Lewis/LON/ECT@ECT, James New/LON/ECT@E...</td>\n",
       "      <td>tanya.tamarchenko@enron.com</td>\n",
       "      <td>Mon, 9 Oct 2000 01</td>\n",
       "    </tr>\n",
       "    <tr>\n",
       "      <th>4</th>\n",
       "      <td>Any problems/comments?AM ---------------------...</td>\n",
       "      <td>Don Hammond/PDX/ECT@ECT, Jody Blackburn/PDX/EC...</td>\n",
       "      <td>kay.mann@enron.com</td>\n",
       "      <td>Fri, 13 Oct 2000 01</td>\n",
       "    </tr>\n",
       "  </tbody>\n",
       "</table>\n",
       "</div>"
      ],
      "text/plain": [
       "                                                body  \\\n",
       "0  It would be nice if you could be at my dinner,...   \n",
       "1  Absolutely.Good point!  Can Peter start to dra...   \n",
       "2  My apologies.  My schedule melted down after w...   \n",
       "3  Vince,UK VAR breached the limit last week.UK t...   \n",
       "4  Any problems/comments?AM ---------------------...   \n",
       "\n",
       "                                                  to  \\\n",
       "0                           alicia.goodrow@enron.com   \n",
       "1                          Kay Mann/Corp/Enron@ENRON   \n",
       "2                        christine.piesco@oracle.com   \n",
       "3  Richard Lewis/LON/ECT@ECT, James New/LON/ECT@E...   \n",
       "4  Don Hammond/PDX/ECT@ECT, Jody Blackburn/PDX/EC...   \n",
       "\n",
       "                               from_                 date  \n",
       "0               tana.jones@enron.com   Tue, 4 Jan 2000 08  \n",
       "1  Sheila Tweed@ECT on 05/15/2001 06  Tue, 15 May 2001 11  \n",
       "2            jeff.dasovich@enron.com  Thu, 28 Sep 2000 08  \n",
       "3        tanya.tamarchenko@enron.com   Mon, 9 Oct 2000 01  \n",
       "4                 kay.mann@enron.com  Fri, 13 Oct 2000 01  "
      ]
     },
     "execution_count": 134,
     "metadata": {},
     "output_type": "execute_result"
    }
   ],
   "source": [
    "email_df = pd.DataFrame(parse_into_emails(email_subset.message))\n",
    "email_df.head()"
   ]
  },
  {
   "cell_type": "code",
   "execution_count": 135,
   "metadata": {},
   "outputs": [
    {
     "data": {
      "text/html": [
       "<div>\n",
       "<style scoped>\n",
       "    .dataframe tbody tr th:only-of-type {\n",
       "        vertical-align: middle;\n",
       "    }\n",
       "\n",
       "    .dataframe tbody tr th {\n",
       "        vertical-align: top;\n",
       "    }\n",
       "\n",
       "    .dataframe thead th {\n",
       "        text-align: right;\n",
       "    }\n",
       "</style>\n",
       "<table border=\"1\" class=\"dataframe\">\n",
       "  <thead>\n",
       "    <tr style=\"text-align: right;\">\n",
       "      <th></th>\n",
       "      <th>body</th>\n",
       "      <th>to</th>\n",
       "      <th>from_</th>\n",
       "      <th>date</th>\n",
       "    </tr>\n",
       "  </thead>\n",
       "  <tbody>\n",
       "    <tr>\n",
       "      <th>0</th>\n",
       "      <td>It would be nice if you could be at my dinner,...</td>\n",
       "      <td>alicia.goodrow@enron.com</td>\n",
       "      <td>tana.jones@enron.com</td>\n",
       "      <td>4 Jan 2000</td>\n",
       "    </tr>\n",
       "    <tr>\n",
       "      <th>1</th>\n",
       "      <td>Absolutely.Good point!  Can Peter start to dra...</td>\n",
       "      <td>Kay Mann/Corp/Enron@ENRON</td>\n",
       "      <td>Sheila Tweed@ECT on 05/15/2001 06</td>\n",
       "      <td>15 May 2001</td>\n",
       "    </tr>\n",
       "    <tr>\n",
       "      <th>2</th>\n",
       "      <td>My apologies.  My schedule melted down after w...</td>\n",
       "      <td>christine.piesco@oracle.com</td>\n",
       "      <td>jeff.dasovich@enron.com</td>\n",
       "      <td>28 Sep 2000</td>\n",
       "    </tr>\n",
       "    <tr>\n",
       "      <th>3</th>\n",
       "      <td>Vince,UK VAR breached the limit last week.UK t...</td>\n",
       "      <td>Richard Lewis/LON/ECT@ECT, James New/LON/ECT@E...</td>\n",
       "      <td>tanya.tamarchenko@enron.com</td>\n",
       "      <td>9 Oct 2000</td>\n",
       "    </tr>\n",
       "    <tr>\n",
       "      <th>4</th>\n",
       "      <td>Any problems/comments?AM ---------------------...</td>\n",
       "      <td>Don Hammond/PDX/ECT@ECT, Jody Blackburn/PDX/EC...</td>\n",
       "      <td>kay.mann@enron.com</td>\n",
       "      <td>13 Oct 2000</td>\n",
       "    </tr>\n",
       "  </tbody>\n",
       "</table>\n",
       "</div>"
      ],
      "text/plain": [
       "                                                body  \\\n",
       "0  It would be nice if you could be at my dinner,...   \n",
       "1  Absolutely.Good point!  Can Peter start to dra...   \n",
       "2  My apologies.  My schedule melted down after w...   \n",
       "3  Vince,UK VAR breached the limit last week.UK t...   \n",
       "4  Any problems/comments?AM ---------------------...   \n",
       "\n",
       "                                                  to  \\\n",
       "0                           alicia.goodrow@enron.com   \n",
       "1                          Kay Mann/Corp/Enron@ENRON   \n",
       "2                        christine.piesco@oracle.com   \n",
       "3  Richard Lewis/LON/ECT@ECT, James New/LON/ECT@E...   \n",
       "4  Don Hammond/PDX/ECT@ECT, Jody Blackburn/PDX/EC...   \n",
       "\n",
       "                               from_          date  \n",
       "0               tana.jones@enron.com   4 Jan 2000   \n",
       "1  Sheila Tweed@ECT on 05/15/2001 06   15 May 2001  \n",
       "2            jeff.dasovich@enron.com   28 Sep 2000  \n",
       "3        tanya.tamarchenko@enron.com   9 Oct 2000   \n",
       "4                 kay.mann@enron.com   13 Oct 2000  "
      ]
     },
     "execution_count": 135,
     "metadata": {},
     "output_type": "execute_result"
    }
   ],
   "source": [
    "email_df['date'] = email_df['date'].str[4:16]\n",
    "email_df.head()"
   ]
  },
  {
   "cell_type": "code",
   "execution_count": 136,
   "metadata": {},
   "outputs": [],
   "source": [
    "# To check there are no empty columns\n",
    "email_df.drop(email_df.query(\n",
    "    \"body == '' | to == '' | from_ == '' | date == ''\"\n",
    ").index, inplace=True)"
   ]
  },
  {
   "cell_type": "markdown",
   "metadata": {},
   "source": [
    "### Remove punctuation/lower casing\n",
    "- Preprocessing on the content to make it more amenable for analysis"
   ]
  },
  {
   "cell_type": "code",
   "execution_count": 137,
   "metadata": {},
   "outputs": [
    {
     "data": {
      "text/plain": [
       "0    it would be nice if you could be at my dinner ...\n",
       "1    absolutelygood point  can peter start to draft...\n",
       "2    my apologies  my schedule melted down after we...\n",
       "3    vinceuk var breached the limit last weekuk tra...\n",
       "4    any problemscommentsam dale rasmussenectmannco...\n",
       "Name: text_processed, dtype: object"
      ]
     },
     "execution_count": 137,
     "metadata": {},
     "output_type": "execute_result"
    }
   ],
   "source": [
    "# Remove punctuation\n",
    "email_df['text_processed'] = \\\n",
    "email_df['text_processed'] = email_df['body'].str.replace(r'[^\\w\\s]','')\n",
    "# Convert the textto lowercase\n",
    "email_df['text_processed'] = \\\n",
    "email_df['text_processed'].map(lambda x: x.lower())\n",
    "email_df['text_processed'].head()"
   ]
  },
  {
   "cell_type": "markdown",
   "metadata": {},
   "source": [
    "### Exploratory Analysis\n",
    "Wordcloud package to get a visual representation of most common words"
   ]
  },
  {
   "cell_type": "code",
   "execution_count": 140,
   "metadata": {},
   "outputs": [],
   "source": [
    "# Import the wordcloud library\n",
    "from wordcloud import WordCloud"
   ]
  },
  {
   "cell_type": "code",
   "execution_count": 141,
   "metadata": {},
   "outputs": [
    {
     "data": {
      "image/png": "[encoded data removed]",
      "text/plain": [
       "<PIL.Image.Image image mode=RGB size=400x200 at 0x222CDA3CE08>"
      ]
     },
     "execution_count": 141,
     "metadata": {},
     "output_type": "execute_result"
    }
   ],
   "source": [
    "# Join the different processed titles together.\n",
    "long_string = ','.join(list(email_df['text_processed'].values))# Create a WordCloud object\n",
    "wordcloud = WordCloud(background_color=\"white\", max_words=5000, contour_width=3, contour_color='steelblue')# Generate a word cloud\n",
    "wordcloud.generate(long_string)# Visualize the word cloud\n",
    "wordcloud.to_image()\n"
   ]
  },
  {
   "cell_type": "markdown",
   "metadata": {},
   "source": [
    "### LDA Analysis : Transform data in a format that will serve as an input for training LDA model"
   ]
  },
  {
   "cell_type": "code",
   "execution_count": 142,
   "metadata": {},
   "outputs": [
    {
     "name": "stderr",
     "output_type": "stream",
     "text": [
      "[nltk_data] Downloading package stopwords to\n",
      "[nltk_data]     C:\\Users\\shrad\\AppData\\Roaming\\nltk_data...\n",
      "[nltk_data]   Package stopwords is already up-to-date!\n",
      "[nltk_data] Downloading package wordnet to\n",
      "[nltk_data]     C:\\Users\\shrad\\AppData\\Roaming\\nltk_data...\n",
      "[nltk_data]   Package wordnet is already up-to-date!\n"
     ]
    }
   ],
   "source": [
    "import gensim.corpora as corpora\n",
    "from gensim.utils import simple_preprocess\n",
    "from gensim.models import CoherenceModel\n",
    "from gensim.models.phrases import Phrases, Phraser\n",
    "import nltk\n",
    "nltk.download('stopwords')\n",
    "nltk.download('wordnet')\n",
    "from nltk.corpus import stopwords"
   ]
  },
  {
   "cell_type": "markdown",
   "metadata": {},
   "source": [
    "### Analyzing text with TF-IDF"
   ]
  },
  {
   "cell_type": "code",
   "execution_count": 144,
   "metadata": {},
   "outputs": [],
   "source": [
    "from sklearn.feature_extraction.text import TfidfVectorizer\n",
    "vect = TfidfVectorizer(stop_words='english', max_df=0.50, min_df=2)\n",
    "X = vect.fit_transform(email_df.text_processed)"
   ]
  },
  {
   "cell_type": "code",
   "execution_count": 146,
   "metadata": {},
   "outputs": [],
   "source": [
    "stop_words = stopwords.words('english')\n",
    "stop_words.extend(['from', 'subject', 're', 'edu', 'use'])"
   ]
  },
  {
   "cell_type": "code",
   "execution_count": 147,
   "metadata": {},
   "outputs": [
    {
     "name": "stdout",
     "output_type": "stream",
     "text": [
      "my apologies  my schedule melted down after we talked on monday  hereswhere folks came out  theres some concern about size  were supposed to beno larger than 3 but we lobbied aceves and he apparently okd ouroversized group  the other folks in the groupwho talked to himoriginallyare pretty sure that five will violate the rules  folks wonderedif there were other groups that are smaller than ours that you could hook upwith  sorry about thatits a wrinkle that i didnt think about when wespoke  if it gets real ugly trying to find a smaller group let me knowfortunately theres not another team case due for two weeksbestjeff\n"
     ]
    }
   ],
   "source": [
    "print(email_df.iloc[2]['text_processed'])"
   ]
  },
  {
   "cell_type": "code",
   "execution_count": 148,
   "metadata": {},
   "outputs": [],
   "source": [
    "data = email_df.text_processed.values.tolist()"
   ]
  },
  {
   "cell_type": "code",
   "execution_count": 163,
   "metadata": {},
   "outputs": [],
   "source": [
    "def sent_to_words(sentences):\n",
    "    for sentence in sentences:\n",
    "        yield(gensim.utils.simple_preprocess(str(sentence), deacc=True))\n",
    "        \n",
    "def remove_stopwords(texts):\n",
    "    return [[word for word in simple_preprocess(str(doc)) if word not in stop_words] for doc in texts]\n",
    "\n",
    "def make_bigrams(texts):\n",
    "    return [bigram_mod[doc] for doc in texts]\n",
    "\n",
    "def make_trigrams(texts):\n",
    "    return [trigram_mod[bigram_mod[doc]] for doc in texts]\n",
    "\n",
    "def lemmatization(texts):\n",
    "    texts_out = []\n",
    "    for sent in texts:\n",
    "        texts_out.append([lemmatizer.lemmatize(i) for i in sent])\n",
    "    return texts_out"
   ]
  },
  {
   "cell_type": "code",
   "execution_count": 150,
   "metadata": {},
   "outputs": [],
   "source": [
    "data_words = list(sent_to_words(data))"
   ]
  },
  {
   "cell_type": "code",
   "execution_count": 151,
   "metadata": {},
   "outputs": [
    {
     "name": "stdout",
     "output_type": "stream",
     "text": [
      "['my', 'apologies', 'my', 'schedule', 'melted', 'down', 'after', 'we', 'talked', 'on', 'monday', 'hereswhere', 'folks', 'came', 'out', 'theres', 'some', 'concern', 'about', 'size', 'were', 'supposed', 'to', 'beno', 'larger', 'than', 'but', 'we', 'lobbied', 'aceves', 'and', 'he', 'apparently', 'okd', 'ouroversized', 'group', 'the', 'other', 'folks', 'in', 'the', 'groupwho', 'talked', 'to', 'pretty', 'sure', 'that', 'five', 'will', 'violate', 'the', 'rules', 'folks', 'wonderedif', 'there', 'were', 'other', 'groups', 'that', 'are', 'smaller', 'than', 'ours', 'that', 'you', 'could', 'hook', 'upwith', 'sorry', 'about', 'thatits', 'wrinkle', 'that', 'didnt', 'think', 'about', 'when', 'wespoke', 'if', 'it', 'gets', 'real', 'ugly', 'trying', 'to', 'find', 'smaller', 'group', 'let', 'me', 'knowfortunately', 'theres', 'not', 'another', 'team', 'case', 'due', 'for', 'two', 'weeksbestjeff']\n"
     ]
    }
   ],
   "source": [
    "print(data_words[2])"
   ]
  },
  {
   "cell_type": "code",
   "execution_count": 152,
   "metadata": {},
   "outputs": [],
   "source": [
    "# Build the bigram and trigram models\n",
    "bigram = Phrases(data_words, min_count=5, threshold=100) # higher threshold fewer phrases.\n",
    "trigram = Phrases(bigram[data_words], threshold=100)"
   ]
  },
  {
   "cell_type": "code",
   "execution_count": 153,
   "metadata": {},
   "outputs": [],
   "source": [
    "# Faster way to get a sentence clubbed as a trigram/bigram\n",
    "bigram_mod = Phraser(bigram)\n",
    "trigram_mod = Phraser(trigram)"
   ]
  },
  {
   "cell_type": "code",
   "execution_count": 158,
   "metadata": {},
   "outputs": [
    {
     "name": "stdout",
     "output_type": "stream",
     "text": [
      "['my', 'apologies', 'my', 'schedule', 'melted', 'down', 'after', 'we', 'talked', 'on', 'monday', 'hereswhere', 'folks', 'came', 'out', 'theres', 'some', 'concern', 'about', 'size', 'were', 'supposed', 'to', 'beno', 'larger', 'than', 'but', 'we', 'lobbied', 'aceves', 'and', 'he', 'apparently', 'okd', 'ouroversized', 'group', 'the', 'other', 'folks', 'in', 'the', 'groupwho', 'talked', 'to', 'pretty', 'sure', 'that', 'five', 'will', 'violate', 'the', 'rules', 'folks', 'wonderedif', 'there', 'were', 'other', 'groups', 'that', 'are', 'smaller', 'than', 'ours', 'that', 'you', 'could', 'hook', 'upwith', 'sorry', 'about', 'thatits', 'wrinkle', 'that', 'didnt', 'think', 'about', 'when', 'wespoke', 'if', 'it', 'gets', 'real', 'ugly', 'trying', 'to', 'find', 'smaller', 'group', 'let', 'me', 'knowfortunately', 'theres', 'not', 'another', 'team', 'case', 'due', 'for', 'two', 'weeksbestjeff']\n"
     ]
    }
   ],
   "source": [
    "print(trigram_mod[bigram_mod[data_words[2]]])"
   ]
  },
  {
   "cell_type": "code",
   "execution_count": 155,
   "metadata": {},
   "outputs": [],
   "source": [
    "# Remove Stop Words\n",
    "data_words_nostops = remove_stopwords(data_words)"
   ]
  },
  {
   "cell_type": "code",
   "execution_count": 156,
   "metadata": {},
   "outputs": [],
   "source": [
    "#  Form Bigrams\n",
    "data_words_bigrams = make_bigrams(data_words_nostops)"
   ]
  },
  {
   "cell_type": "code",
   "execution_count": 164,
   "metadata": {},
   "outputs": [],
   "source": [
    "data_lemmatized = lemmatization(data_words_bigrams)"
   ]
  },
  {
   "cell_type": "code",
   "execution_count": 166,
   "metadata": {},
   "outputs": [
    {
     "name": "stdout",
     "output_type": "stream",
     "text": [
      "['apology', 'schedule', 'melted', 'talked', 'monday', 'hereswhere', 'folk', 'came', 'there', 'concern', 'size', 'supposed', 'beno', 'larger', 'lobbied', 'aceves', 'apparently', 'okd', 'ouroversized', 'group', 'folk', 'groupwho', 'talked', 'pretty', 'sure', 'five', 'violate', 'rule', 'folk', 'wonderedif', 'group', 'smaller', 'could', 'hook', 'upwith', 'sorry', 'thatits', 'wrinkle', 'didnt', 'think', 'wespoke', 'get', 'real', 'ugly', 'trying', 'find', 'smaller', 'group', 'let', 'knowfortunately', 'there', 'another', 'team', 'case', 'due', 'two', 'weeksbestjeff']\n"
     ]
    }
   ],
   "source": [
    "print(data_lemmatized[2])"
   ]
  },
  {
   "cell_type": "code",
   "execution_count": 168,
   "metadata": {},
   "outputs": [],
   "source": [
    "import gensim.corpora as corpora# Create Dictionary\n",
    "id2word = corpora.Dictionary(data_lemmatized)# Create Corpus\n",
    "texts = data_lemmatized# Term Document Frequency\n",
    "corpus = [id2word.doc2bow(text) for text in texts]# View"
   ]
  },
  {
   "cell_type": "code",
   "execution_count": null,
   "metadata": {},
   "outputs": [],
   "source": [
    "print(corpus[:1][0][:30])"
   ]
  },
  {
   "cell_type": "code",
   "execution_count": 29,
   "metadata": {},
   "outputs": [
    {
     "name": "stdout",
     "output_type": "stream",
     "text": [
      "[(0,\n",
      "  '0.007*\"enron\" + 0.005*\"would\" + 0.004*\"energy\" + 0.004*\"please\" + '\n",
      "  '0.003*\"new\" + 0.003*\"time\" + 0.003*\"said\" + 0.003*\"last\" + 0.003*\"also\" + '\n",
      "  '0.003*\"power\"'),\n",
      " (1,\n",
      "  '0.005*\"email\" + 0.004*\"enron\" + 0.004*\"said\" + 0.004*\"energy\" + 0.004*\"gas\" '\n",
      "  '+ 0.004*\"please\" + 0.004*\"would\" + 0.003*\"us\" + 0.003*\"also\" + '\n",
      "  '0.003*\"know\"'),\n",
      " (2,\n",
      "  '0.005*\"power\" + 0.005*\"enron\" + 0.004*\"new\" + 0.004*\"would\" + 0.004*\"said\" '\n",
      "  '+ 0.004*\"energy\" + 0.004*\"please\" + 0.003*\"get\" + 0.003*\"information\" + '\n",
      "  '0.003*\"company\"'),\n",
      " (3,\n",
      "  '0.005*\"would\" + 0.004*\"power\" + 0.004*\"new\" + 0.003*\"please\" + '\n",
      "  '0.003*\"agreement\" + 0.003*\"enron\" + 0.003*\"may\" + 0.003*\"energy\" + '\n",
      "  '0.003*\"california\" + 0.003*\"know\"'),\n",
      " (4,\n",
      "  '0.008*\"enron\" + 0.006*\"new\" + 0.005*\"error\" + 0.004*\"would\" + 0.004*\"power\" '\n",
      "  '+ 0.003*\"please\" + 0.003*\"information\" + 0.003*\"energy\" + 0.003*\"said\" + '\n",
      "  '0.003*\"know\"'),\n",
      " (5,\n",
      "  '0.008*\"enron\" + 0.007*\"email\" + 0.005*\"please\" + 0.005*\"image\" + '\n",
      "  '0.004*\"would\" + 0.003*\"may\" + 0.003*\"company\" + 0.003*\"us\" + 0.003*\"get\" + '\n",
      "  '0.003*\"new\"'),\n",
      " (6,\n",
      "  '0.005*\"us\" + 0.004*\"may\" + 0.004*\"would\" + 0.004*\"power\" + 0.004*\"please\" + '\n",
      "  '0.004*\"know\" + 0.003*\"get\" + 0.003*\"new\" + 0.003*\"also\" + 0.003*\"energy\"'),\n",
      " (7,\n",
      "  '0.006*\"power\" + 0.005*\"would\" + 0.005*\"said\" + 0.005*\"email\" + '\n",
      "  '0.004*\"energy\" + 0.003*\"new\" + 0.003*\"please\" + 0.003*\"get\" + 0.003*\"enron\" '\n",
      "  '+ 0.003*\"may\"'),\n",
      " (8,\n",
      "  '0.006*\"would\" + 0.006*\"please\" + 0.004*\"enron\" + 0.003*\"know\" + '\n",
      "  '0.003*\"also\" + 0.003*\"need\" + 0.003*\"may\" + 0.003*\"let\" + 0.003*\"call\" + '\n",
      "  '0.003*\"one\"'),\n",
      " (9,\n",
      "  '0.005*\"enron\" + 0.005*\"power\" + 0.005*\"would\" + 0.005*\"energy\" + '\n",
      "  '0.004*\"gas\" + 0.004*\"email\" + 0.004*\"may\" + 0.004*\"please\" + 0.003*\"know\" + '\n",
      "  '0.003*\"market\"')]\n"
     ]
    }
   ],
   "source": [
    "from pprint import pprint# number of topics\n",
    "num_topics = 10# Build LDA model\n",
    "lda_model = gensim.models.LdaMulticore(corpus=corpus,\n",
    "                                       id2word=id2word,\n",
    "                                       num_topics=num_topics)# Print the Keyword in the 10 topics\n",
    "pprint(lda_model.print_topics())\n",
    "doc_lda = lda_model[corpus]"
   ]
  },
  {
   "cell_type": "code",
   "execution_count": null,
   "metadata": {},
   "outputs": [],
   "source": [
    "lda_model_tfidf = gensim.models.LdaMulticore(corpus_tfidf, num_topics=10, id2word=dictionary, passes=2, workers=4)for idx, topic in lda_model_tfidf.print_topics(-1):\n",
    "    print('Topic: {} Word: {}'.format(idx, topic))"
   ]
  },
  {
   "cell_type": "code",
   "execution_count": null,
   "metadata": {},
   "outputs": [],
   "source": []
  }
 ],
 "metadata": {
  "kernelspec": {
   "display_name": "Python 3",
   "language": "python",
   "name": "python3"
  },
  "language_info": {
   "codemirror_mode": {
    "name": "ipython",
    "version": 3
   },
   "file_extension": ".py",
   "mimetype": "text/x-python",
   "name": "python",
   "nbconvert_exporter": "python",
   "pygments_lexer": "ipython3",
   "version": "3.7.6"
  }
 },
 "nbformat": 4,
 "nbformat_minor": 4
}
