{
 "cells": [
  {
   "cell_type": "code",
   "execution_count": 1,
   "metadata": {},
   "outputs": [],
   "source": [
    "import pandas as pd\n",
    "import re\n",
    "import numpy as np\n",
    "import gensim\n",
    "import warnings\n",
    "warnings.simplefilter(action='ignore', category=FutureWarning)"
   ]
  },
  {
   "cell_type": "code",
   "execution_count": 37,
   "metadata": {},
   "outputs": [],
   "source": [
    "# spacy for lemmatization\n",
    "# import spacy\n",
    "from nltk.stem import WordNetLemmatizer \n",
    "from nltk.stem import PorterStemmer\n",
    "from IPython.display import clear_output\n",
    "from sklearn.feature_extraction.text import TfidfVectorizer\n",
    "import nltk\n",
    "from sklearn.metrics import accuracy_score\n",
    "# Import the wordcloud library\n",
    "from wordcloud import WordCloud\n",
    "\n",
    "lemmatizer = WordNetLemmatizer()\n",
    "w_tokenizer = nltk.tokenize.WhitespaceTokenizer()\n",
    "lemmatizer = nltk.stem.WordNetLemmatizer()"
   ]
  },
  {
   "cell_type": "code",
   "execution_count": 3,
   "metadata": {},
   "outputs": [],
   "source": [
    "# for plotting\n",
    "import pyLDAvis\n",
    "import pyLDAvis.gensim\n",
    "import matplotlib.pyplot as plt"
   ]
  },
  {
   "cell_type": "markdown",
   "metadata": {},
   "source": [
    "### Loading data"
   ]
  },
  {
   "cell_type": "code",
   "execution_count": 4,
   "metadata": {},
   "outputs": [],
   "source": [
    "import os\n",
    "pwd = os.getcwd()"
   ]
  },
  {
   "cell_type": "code",
   "execution_count": 5,
   "metadata": {},
   "outputs": [],
   "source": [
    "emails = pd.read_csv(os.path.basename(pwd +'/emails.csv'))"
   ]
  },
  {
   "cell_type": "code",
   "execution_count": 6,
   "metadata": {},
   "outputs": [
    {
     "data": {
      "text/plain": [
       "file       517401\n",
       "message    517401\n",
       "dtype: int64"
      ]
     },
     "execution_count": 6,
     "metadata": {},
     "output_type": "execute_result"
    }
   ],
   "source": [
    "emails.count()"
   ]
  },
  {
   "cell_type": "code",
   "execution_count": 50,
   "metadata": {},
   "outputs": [
    {
     "name": "stdout",
     "output_type": "stream",
     "text": [
      "(2000, 2)\n",
      "                            file  \\\n",
      "1000  allen-p/all_documents/462.   \n",
      "1001  allen-p/all_documents/463.   \n",
      "1002  allen-p/all_documents/464.   \n",
      "1003  allen-p/all_documents/465.   \n",
      "1004  allen-p/all_documents/466.   \n",
      "\n",
      "                                                message  \n",
      "1000  Message-ID: <1081797.1075855696183.JavaMail.ev...  \n",
      "1001  Message-ID: <28830232.1075855696211.JavaMail.e...  \n",
      "1002  Message-ID: <23711632.1075855696233.JavaMail.e...  \n",
      "1003  Message-ID: <28968716.1075855696255.JavaMail.e...  \n",
      "1004  Message-ID: <2413536.1075855696276.JavaMail.ev...  \n"
     ]
    }
   ],
   "source": [
    "# email_subset = emails.sample(frac=0.05, random_state=1)\n",
    "email_subset = emails[1000:3000]\n",
    "print(email_subset.shape)\n",
    "print(email_subset.head())"
   ]
  },
  {
   "cell_type": "markdown",
   "metadata": {},
   "source": [
    "### Data Cleaning\n",
    "- We have to do topic modelling on text data, I have removed redundant imformation and kept only: email body , From and To.\n",
    "- I am only using 5000 emails"
   ]
  },
  {
   "cell_type": "code",
   "execution_count": 51,
   "metadata": {},
   "outputs": [],
   "source": [
    "def parse_raw_message(raw_message):\n",
    "    lines = raw_message.split('\\n')\n",
    "    email = {}\n",
    "    message = ''\n",
    "    keys_to_extract = ['from', 'to', 'date']\n",
    "    for line in lines:\n",
    "        if ':' not in line:\n",
    "            message += line.strip()\n",
    "            email['body'] = message\n",
    "        else:\n",
    "            pairs = line.split(':')\n",
    "            key = pairs[0].lower()\n",
    "            val = pairs[1].strip()\n",
    "            if key in keys_to_extract:\n",
    "                email[key] = val\n",
    "    return email"
   ]
  },
  {
   "cell_type": "code",
   "execution_count": 52,
   "metadata": {},
   "outputs": [],
   "source": [
    "def parse_into_emails(messages):\n",
    "    emails = [parse_raw_message(message) for message in messages]\n",
    "    return {\n",
    "        'body': map_to_list(emails, 'body'),\n",
    "        'to': map_to_list(emails, 'to'),\n",
    "        'from_': map_to_list(emails, 'from'),\n",
    "        'date': map_to_list(emails, 'date'),\n",
    "        'TC': 0,\n",
    "        'SN': 0,\n",
    "        'KS': 0,\n",
    "        'OT': 0,\n",
    "        'print': np.nan\n",
    "    }"
   ]
  },
  {
   "cell_type": "code",
   "execution_count": 53,
   "metadata": {},
   "outputs": [],
   "source": [
    "def map_to_list(emails, key):\n",
    "    results = []\n",
    "    for email in emails:\n",
    "        if key not in email:\n",
    "            results.append('')\n",
    "        else:\n",
    "            results.append(email[key])\n",
    "    return results"
   ]
  },
  {
   "cell_type": "code",
   "execution_count": 54,
   "metadata": {},
   "outputs": [],
   "source": [
    "def clean_text(text):\n",
    "    text = text.lower()\n",
    "    text = re.sub(r\"what's\", \"what is \", text)\n",
    "    text = re.sub(r\"\\'s\", \" \", text)\n",
    "    text = re.sub(r\"\\'ve\", \" have \", text)\n",
    "    text = re.sub(r\"can't\", \"can not \", text)\n",
    "    text = re.sub(r\"n't\", \" not \", text)\n",
    "    text = re.sub(r\"i'm\", \"i am \", text)\n",
    "    text = re.sub(r\"\\'re\", \" are \", text)\n",
    "    text = re.sub(r\"\\'d\", \" would \", text)\n",
    "    text = re.sub(r\"\\'ll\", \" will \", text)\n",
    "    text = re.sub(r\"\\'scuse\", \" excuse \", text)\n",
    "    text = re.sub(r'\\W', ' ', text)\n",
    "    text = re.sub(r'\\s+', ' ', text)\n",
    "    text = text.strip(' ')\n",
    "    return text"
   ]
  },
  {
   "cell_type": "code",
   "execution_count": 55,
   "metadata": {},
   "outputs": [],
   "source": [
    "email_df = pd.DataFrame(parse_into_emails(email_subset.message))"
   ]
  },
  {
   "cell_type": "code",
   "execution_count": 56,
   "metadata": {},
   "outputs": [
    {
     "data": {
      "text/html": [
       "<div>\n",
       "<style scoped>\n",
       "    .dataframe tbody tr th:only-of-type {\n",
       "        vertical-align: middle;\n",
       "    }\n",
       "\n",
       "    .dataframe tbody tr th {\n",
       "        vertical-align: top;\n",
       "    }\n",
       "\n",
       "    .dataframe thead th {\n",
       "        text-align: right;\n",
       "    }\n",
       "</style>\n",
       "<table border=\"1\" class=\"dataframe\">\n",
       "  <thead>\n",
       "    <tr style=\"text-align: right;\">\n",
       "      <th></th>\n",
       "      <th>body</th>\n",
       "      <th>to</th>\n",
       "      <th>from_</th>\n",
       "      <th>date</th>\n",
       "      <th>TC</th>\n",
       "      <th>SN</th>\n",
       "      <th>KS</th>\n",
       "      <th>OT</th>\n",
       "      <th>print</th>\n",
       "    </tr>\n",
       "  </thead>\n",
       "  <tbody>\n",
       "    <tr>\n",
       "      <th>0</th>\n",
       "      <td>Lucy,Here is the rentroll.My only questions ar...</td>\n",
       "      <td>stagecoachmama@hotmail.com</td>\n",
       "      <td>phillip.allen@enron.com</td>\n",
       "      <td>Thu, 15 Mar 2001 07</td>\n",
       "      <td>0</td>\n",
       "      <td>0</td>\n",
       "      <td>0</td>\n",
       "      <td>0</td>\n",
       "      <td>NaN</td>\n",
       "    </tr>\n",
       "    <tr>\n",
       "      <th>1</th>\n",
       "      <td>I also need to know the base salaries of Jay R...</td>\n",
       "      <td>todd.burke@enron.com</td>\n",
       "      <td>phillip.allen@enron.com</td>\n",
       "      <td>Thu, 15 Mar 2001 06</td>\n",
       "      <td>0</td>\n",
       "      <td>0</td>\n",
       "      <td>0</td>\n",
       "      <td>0</td>\n",
       "      <td>NaN</td>\n",
       "    </tr>\n",
       "    <tr>\n",
       "      <th>2</th>\n",
       "      <td>---------------------- Forwarded by Phillip K ...</td>\n",
       "      <td>Western.Price.Survey.contacts@ren-10.cais.net</td>\n",
       "      <td>phillip.allen@enron.com</td>\n",
       "      <td>Thu, 15 Mar 2001 06</td>\n",
       "      <td>0</td>\n",
       "      <td>0</td>\n",
       "      <td>0</td>\n",
       "      <td>0</td>\n",
       "      <td>NaN</td>\n",
       "    </tr>\n",
       "    <tr>\n",
       "      <th>3</th>\n",
       "      <td>Thanks for the information.  It would be helpf...</td>\n",
       "      <td>kim.bolton@enron.com</td>\n",
       "      <td>phillip.allen@enron.com</td>\n",
       "      <td>Thu, 15 Mar 2001 06</td>\n",
       "      <td>0</td>\n",
       "      <td>0</td>\n",
       "      <td>0</td>\n",
       "      <td>0</td>\n",
       "      <td>NaN</td>\n",
       "    </tr>\n",
       "    <tr>\n",
       "      <th>4</th>\n",
       "      <td>---------------------- Forwarded by Phillip K ...</td>\n",
       "      <td>Phillip.K.Allen@enron.com</td>\n",
       "      <td>phillip.allen@enron.com</td>\n",
       "      <td>Thu, 15 Mar 2001 04</td>\n",
       "      <td>0</td>\n",
       "      <td>0</td>\n",
       "      <td>0</td>\n",
       "      <td>0</td>\n",
       "      <td>NaN</td>\n",
       "    </tr>\n",
       "  </tbody>\n",
       "</table>\n",
       "</div>"
      ],
      "text/plain": [
       "                                                body  \\\n",
       "0  Lucy,Here is the rentroll.My only questions ar...   \n",
       "1  I also need to know the base salaries of Jay R...   \n",
       "2  ---------------------- Forwarded by Phillip K ...   \n",
       "3  Thanks for the information.  It would be helpf...   \n",
       "4  ---------------------- Forwarded by Phillip K ...   \n",
       "\n",
       "                                              to                    from_  \\\n",
       "0                     stagecoachmama@hotmail.com  phillip.allen@enron.com   \n",
       "1                           todd.burke@enron.com  phillip.allen@enron.com   \n",
       "2  Western.Price.Survey.contacts@ren-10.cais.net  phillip.allen@enron.com   \n",
       "3                           kim.bolton@enron.com  phillip.allen@enron.com   \n",
       "4                      Phillip.K.Allen@enron.com  phillip.allen@enron.com   \n",
       "\n",
       "                  date  TC  SN  KS  OT  print  \n",
       "0  Thu, 15 Mar 2001 07   0   0   0   0    NaN  \n",
       "1  Thu, 15 Mar 2001 06   0   0   0   0    NaN  \n",
       "2  Thu, 15 Mar 2001 06   0   0   0   0    NaN  \n",
       "3  Thu, 15 Mar 2001 06   0   0   0   0    NaN  \n",
       "4  Thu, 15 Mar 2001 04   0   0   0   0    NaN  "
      ]
     },
     "execution_count": 56,
     "metadata": {},
     "output_type": "execute_result"
    }
   ],
   "source": [
    "# To check there are no empty columns\n",
    "email_df.drop(email_df.query(\n",
    "    \"body == '' | to == '' | from_ == '' | date == ''\"\n",
    ").index, inplace=True)\n",
    "email_df.head()"
   ]
  },
  {
   "cell_type": "code",
   "execution_count": 57,
   "metadata": {},
   "outputs": [
    {
     "data": {
      "text/plain": [
       "body     1888\n",
       "to       1888\n",
       "from_    1888\n",
       "date     1888\n",
       "TC       1888\n",
       "SN       1888\n",
       "KS       1888\n",
       "OT       1888\n",
       "print       0\n",
       "dtype: int64"
      ]
     },
     "execution_count": 57,
     "metadata": {},
     "output_type": "execute_result"
    }
   ],
   "source": [
    "email_df.count()"
   ]
  },
  {
   "cell_type": "code",
   "execution_count": 58,
   "metadata": {},
   "outputs": [
    {
     "data": {
      "text/plain": [
       "'I also need to know the base salaries of Jay Reitmeyer and Monique Sanchez.They are doing the same job as Matt.'"
      ]
     },
     "execution_count": 58,
     "metadata": {},
     "output_type": "execute_result"
    }
   ],
   "source": [
    "email_df['date'] = email_df['date'].str[4:16]\n",
    "email_df['body'][1]"
   ]
  },
  {
   "cell_type": "markdown",
   "metadata": {},
   "source": [
    "### Remove punctuation/lower casing\n",
    "- Preprocessing on the content to make it more amenable for analysis"
   ]
  },
  {
   "cell_type": "code",
   "execution_count": 59,
   "metadata": {},
   "outputs": [],
   "source": [
    "# Remove punctuation\n",
    "email_df['text_processed'] = \\\n",
    "email_df['text_processed'] = email_df['body'].str.replace(r'[^\\w\\s]','')\n",
    "# Convert the textto lowercase\n",
    "email_df['text_processed'] = \\\n",
    "email_df['text_processed'].map(lambda x: x.lower())\n"
   ]
  },
  {
   "cell_type": "code",
   "execution_count": 60,
   "metadata": {},
   "outputs": [],
   "source": [
    "email_df['text_processed'] = email_df['text_processed'].map(lambda com : clean_text(com))"
   ]
  },
  {
   "cell_type": "code",
   "execution_count": 61,
   "metadata": {},
   "outputs": [
    {
     "data": {
      "text/plain": [
       "'i also need to know the base salaries of jay reitmeyer and monique sanchezthey are doing the same job as matt'"
      ]
     },
     "execution_count": 61,
     "metadata": {},
     "output_type": "execute_result"
    }
   ],
   "source": [
    "email_df['text_processed'][1]"
   ]
  },
  {
   "cell_type": "markdown",
   "metadata": {},
   "source": [
    "### Exploratory Analysis\n",
    "Wordcloud package to get a visual representation of most common words"
   ]
  },
  {
   "cell_type": "code",
   "execution_count": 62,
   "metadata": {},
   "outputs": [
    {
     "data": {
      "image/png": "[encoded data removed]",
      "text/plain": [
       "<PIL.Image.Image image mode=RGB size=400x200 at 0x1BBDC937248>"
      ]
     },
     "execution_count": 62,
     "metadata": {},
     "output_type": "execute_result"
    }
   ],
   "source": [
    "# Join the different processed titles together.\n",
    "long_string = ','.join(list(email_df['text_processed'].values))# Create a WordCloud object\n",
    "wordcloud = WordCloud(background_color=\"white\", max_words=5000, contour_width=3, contour_color='steelblue')# Generate a word cloud\n",
    "wordcloud.generate(long_string)# Visualize the word cloud\n",
    "wordcloud.to_image()\n"
   ]
  },
  {
   "cell_type": "markdown",
   "metadata": {},
   "source": [
    "### LDA Analysis : Transform data in a format that will serve as an input for training LDA model"
   ]
  },
  {
   "cell_type": "code",
   "execution_count": 63,
   "metadata": {},
   "outputs": [
    {
     "name": "stderr",
     "output_type": "stream",
     "text": [
      "[nltk_data] Downloading package stopwords to\n",
      "[nltk_data]     C:\\Users\\shrad\\AppData\\Roaming\\nltk_data...\n",
      "[nltk_data]   Package stopwords is already up-to-date!\n",
      "[nltk_data] Downloading package wordnet to\n",
      "[nltk_data]     C:\\Users\\shrad\\AppData\\Roaming\\nltk_data...\n",
      "[nltk_data]   Package wordnet is already up-to-date!\n"
     ]
    }
   ],
   "source": [
    "import gensim.corpora as corpora\n",
    "from gensim.utils import simple_preprocess\n",
    "from gensim.models import CoherenceModel\n",
    "from gensim.models.phrases import Phrases, Phraser\n",
    "import nltk\n",
    "from nltk import word_tokenize\n",
    "nltk.download('stopwords')\n",
    "nltk.download('wordnet')\n",
    "from nltk.corpus import stopwords"
   ]
  },
  {
   "cell_type": "markdown",
   "metadata": {},
   "source": [
    "### Analyzing text with TF-IDF"
   ]
  },
  {
   "cell_type": "code",
   "execution_count": 64,
   "metadata": {},
   "outputs": [],
   "source": [
    "\n",
    "vect = TfidfVectorizer(stop_words='english', max_df=0.50, min_df=2)\n",
    "# X = vect.fit_transform(email_df.text_processed)"
   ]
  },
  {
   "cell_type": "code",
   "execution_count": 65,
   "metadata": {},
   "outputs": [],
   "source": [
    "email_df.to_pickle('email.pickle')\n"
   ]
  },
  {
   "cell_type": "code",
   "execution_count": null,
   "metadata": {},
   "outputs": [],
   "source": [
    "# def manually_label(email_file):\n",
    "    \n",
    "df = pd.read_pickle('email.pickle')\n",
    "for index, row in df.iterrows():\n",
    "        print('Is this sentence? Type 1 if team communication,',\n",
    "              '\\nType 2: social networking,','\\nType 3:  knowledge sharing and ',\n",
    "              '\\nType 4: others . \\n')\n",
    "        print(row.text_processed)\n",
    "        label = input()\n",
    "        print(label)\n",
    "        if '1' in label:\n",
    "            df.loc[index, 'TC'] = 1\n",
    "        if '2' in label:\n",
    "            df.loc[index, 'SN'] = 1\n",
    "        if '3' in label:\n",
    "            df.loc[index, 'KS'] = 1\n",
    "        if '4' in label:\n",
    "            df.loc[index, 'OT'] = 1\n",
    "        if label == '':\n",
    "            df.loc[index, 'OT'] = 1\n",
    "        clear_output()\n",
    "        \n",
    "        df.to_pickle('email.pickle')\n",
    "        \n",
    "print('No more labels to classify!')\n",
    "    \n"
   ]
  },
  {
   "cell_type": "code",
   "execution_count": null,
   "metadata": {},
   "outputs": [],
   "source": [
    "df.head(5)"
   ]
  },
  {
   "cell_type": "code",
   "execution_count": null,
   "metadata": {},
   "outputs": [],
   "source": [
    "df.to_csv(os.path.basename(pwd +'/final_result1.csv'))"
   ]
  },
  {
   "cell_type": "code",
   "execution_count": 67,
   "metadata": {},
   "outputs": [],
   "source": [
    "df = pd.read_csv(os.path.basename(pwd +'/final_result.csv'))"
   ]
  },
  {
   "cell_type": "code",
   "execution_count": 68,
   "metadata": {},
   "outputs": [
    {
     "data": {
      "text/html": [
       "<div>\n",
       "<style scoped>\n",
       "    .dataframe tbody tr th:only-of-type {\n",
       "        vertical-align: middle;\n",
       "    }\n",
       "\n",
       "    .dataframe tbody tr th {\n",
       "        vertical-align: top;\n",
       "    }\n",
       "\n",
       "    .dataframe thead th {\n",
       "        text-align: right;\n",
       "    }\n",
       "</style>\n",
       "<table border=\"1\" class=\"dataframe\">\n",
       "  <thead>\n",
       "    <tr style=\"text-align: right;\">\n",
       "      <th></th>\n",
       "      <th>Unnamed: 0</th>\n",
       "      <th>body</th>\n",
       "      <th>to</th>\n",
       "      <th>from_</th>\n",
       "      <th>date</th>\n",
       "      <th>TC</th>\n",
       "      <th>SN</th>\n",
       "      <th>KS</th>\n",
       "      <th>OT</th>\n",
       "      <th>print</th>\n",
       "      <th>text_processed</th>\n",
       "    </tr>\n",
       "  </thead>\n",
       "  <tbody>\n",
       "    <tr>\n",
       "      <th>0</th>\n",
       "      <td>0</td>\n",
       "      <td>Here is our forecast</td>\n",
       "      <td>tim.belden@enron.com</td>\n",
       "      <td>phillip.allen@enron.com</td>\n",
       "      <td>14 May 2001</td>\n",
       "      <td>1</td>\n",
       "      <td>0</td>\n",
       "      <td>0</td>\n",
       "      <td>0</td>\n",
       "      <td>NaN</td>\n",
       "      <td>here is our forecast</td>\n",
       "    </tr>\n",
       "    <tr>\n",
       "      <th>1</th>\n",
       "      <td>1</td>\n",
       "      <td>Traveling to have a business meeting takes the...</td>\n",
       "      <td>john.lavorato@enron.com</td>\n",
       "      <td>phillip.allen@enron.com</td>\n",
       "      <td>4 May 2001</td>\n",
       "      <td>0</td>\n",
       "      <td>1</td>\n",
       "      <td>0</td>\n",
       "      <td>0</td>\n",
       "      <td>NaN</td>\n",
       "      <td>traveling to have a business meeting takes the...</td>\n",
       "    </tr>\n",
       "    <tr>\n",
       "      <th>2</th>\n",
       "      <td>2</td>\n",
       "      <td>test successful.  way to go!!!</td>\n",
       "      <td>leah.arsdall@enron.com</td>\n",
       "      <td>phillip.allen@enron.com</td>\n",
       "      <td>18 Oct 2000</td>\n",
       "      <td>1</td>\n",
       "      <td>0</td>\n",
       "      <td>0</td>\n",
       "      <td>0</td>\n",
       "      <td>NaN</td>\n",
       "      <td>test successful way to go</td>\n",
       "    </tr>\n",
       "    <tr>\n",
       "      <th>3</th>\n",
       "      <td>3</td>\n",
       "      <td>Randy,Can you send me a schedule of the salary...</td>\n",
       "      <td>randall.gay@enron.com</td>\n",
       "      <td>phillip.allen@enron.com</td>\n",
       "      <td>23 Oct 2000</td>\n",
       "      <td>1</td>\n",
       "      <td>0</td>\n",
       "      <td>0</td>\n",
       "      <td>0</td>\n",
       "      <td>NaN</td>\n",
       "      <td>randycan you send me a schedule of the salary ...</td>\n",
       "    </tr>\n",
       "    <tr>\n",
       "      <th>4</th>\n",
       "      <td>5</td>\n",
       "      <td>Greg,How about either next Tuesday or Thursday...</td>\n",
       "      <td>greg.piper@enron.com</td>\n",
       "      <td>phillip.allen@enron.com</td>\n",
       "      <td>31 Aug 2000</td>\n",
       "      <td>0</td>\n",
       "      <td>1</td>\n",
       "      <td>0</td>\n",
       "      <td>0</td>\n",
       "      <td>NaN</td>\n",
       "      <td>greghow about either next tuesday or thursdayp...</td>\n",
       "    </tr>\n",
       "  </tbody>\n",
       "</table>\n",
       "</div>"
      ],
      "text/plain": [
       "   Unnamed: 0                                               body  \\\n",
       "0           0                               Here is our forecast   \n",
       "1           1  Traveling to have a business meeting takes the...   \n",
       "2           2                     test successful.  way to go!!!   \n",
       "3           3  Randy,Can you send me a schedule of the salary...   \n",
       "4           5  Greg,How about either next Tuesday or Thursday...   \n",
       "\n",
       "                        to                    from_          date  TC  SN  KS  \\\n",
       "0     tim.belden@enron.com  phillip.allen@enron.com   14 May 2001   1   0   0   \n",
       "1  john.lavorato@enron.com  phillip.allen@enron.com   4 May 2001    0   1   0   \n",
       "2   leah.arsdall@enron.com  phillip.allen@enron.com   18 Oct 2000   1   0   0   \n",
       "3    randall.gay@enron.com  phillip.allen@enron.com   23 Oct 2000   1   0   0   \n",
       "4     greg.piper@enron.com  phillip.allen@enron.com   31 Aug 2000   0   1   0   \n",
       "\n",
       "   OT  print                                     text_processed  \n",
       "0   0    NaN                               here is our forecast  \n",
       "1   0    NaN  traveling to have a business meeting takes the...  \n",
       "2   0    NaN                          test successful way to go  \n",
       "3   0    NaN  randycan you send me a schedule of the salary ...  \n",
       "4   0    NaN  greghow about either next tuesday or thursdayp...  "
      ]
     },
     "execution_count": 68,
     "metadata": {},
     "output_type": "execute_result"
    }
   ],
   "source": [
    "df.head()"
   ]
  },
  {
   "cell_type": "code",
   "execution_count": 24,
   "metadata": {},
   "outputs": [
    {
     "data": {
      "text/plain": [
       "Unnamed: 0        978\n",
       "body              978\n",
       "to                978\n",
       "from_             978\n",
       "date              978\n",
       "TC                978\n",
       "SN                978\n",
       "KS                978\n",
       "OT                978\n",
       "print               0\n",
       "text_processed    978\n",
       "dtype: int64"
      ]
     },
     "execution_count": 24,
     "metadata": {},
     "output_type": "execute_result"
    }
   ],
   "source": [
    "df.count()"
   ]
  },
  {
   "cell_type": "code",
   "execution_count": 25,
   "metadata": {},
   "outputs": [],
   "source": [
    "categories = ['TC','SN','KS','OT']"
   ]
  },
  {
   "cell_type": "code",
   "execution_count": 26,
   "metadata": {},
   "outputs": [],
   "source": [
    "counts = []\n",
    "for i in categories:\n",
    "    counts.append((i, df[i].sum()))"
   ]
  },
  {
   "cell_type": "code",
   "execution_count": 27,
   "metadata": {},
   "outputs": [
    {
     "data": {
      "text/html": [
       "<div>\n",
       "<style scoped>\n",
       "    .dataframe tbody tr th:only-of-type {\n",
       "        vertical-align: middle;\n",
       "    }\n",
       "\n",
       "    .dataframe tbody tr th {\n",
       "        vertical-align: top;\n",
       "    }\n",
       "\n",
       "    .dataframe thead th {\n",
       "        text-align: right;\n",
       "    }\n",
       "</style>\n",
       "<table border=\"1\" class=\"dataframe\">\n",
       "  <thead>\n",
       "    <tr style=\"text-align: right;\">\n",
       "      <th></th>\n",
       "      <th>category</th>\n",
       "      <th>number_of_comments</th>\n",
       "    </tr>\n",
       "  </thead>\n",
       "  <tbody>\n",
       "    <tr>\n",
       "      <th>0</th>\n",
       "      <td>TC</td>\n",
       "      <td>650</td>\n",
       "    </tr>\n",
       "    <tr>\n",
       "      <th>1</th>\n",
       "      <td>SN</td>\n",
       "      <td>240</td>\n",
       "    </tr>\n",
       "    <tr>\n",
       "      <th>2</th>\n",
       "      <td>KS</td>\n",
       "      <td>145</td>\n",
       "    </tr>\n",
       "    <tr>\n",
       "      <th>3</th>\n",
       "      <td>OT</td>\n",
       "      <td>77</td>\n",
       "    </tr>\n",
       "  </tbody>\n",
       "</table>\n",
       "</div>"
      ],
      "text/plain": [
       "  category  number_of_comments\n",
       "0       TC                 650\n",
       "1       SN                 240\n",
       "2       KS                 145\n",
       "3       OT                  77"
      ]
     },
     "execution_count": 27,
     "metadata": {},
     "output_type": "execute_result"
    }
   ],
   "source": [
    "df_stats = pd.DataFrame(counts, columns=['category', 'number_of_comments'])\n",
    "df_stats"
   ]
  },
  {
   "cell_type": "code",
   "execution_count": 28,
   "metadata": {},
   "outputs": [
    {
     "data": {
      "text/plain": [
       "Text(0.5, 0, 'category')"
      ]
     },
     "execution_count": 28,
     "metadata": {},
     "output_type": "execute_result"
    },
    {
     "data": {
      "image/png": "[encoded data removed]",
      "text/plain": [
       "<Figure size 576x360 with 1 Axes>"
      ]
     },
     "metadata": {
      "needs_background": "light"
     },
     "output_type": "display_data"
    }
   ],
   "source": [
    "df_stats.plot(x='category', y='number_of_comments', kind='bar', legend=False, grid=True, figsize=(8, 5))\n",
    "plt.title(\"Number of comments per category\")\n",
    "plt.ylabel('# of Occurrences', fontsize=12)\n",
    "plt.xlabel('category', fontsize=12)"
   ]
  },
  {
   "cell_type": "code",
   "execution_count": 29,
   "metadata": {},
   "outputs": [
    {
     "data": {
      "text/plain": [
       "Text(0.5, 0, '# of categories')"
      ]
     },
     "execution_count": 29,
     "metadata": {},
     "output_type": "execute_result"
    },
    {
     "data": {
      "image/png": "[encoded data removed]",
      "text/plain": [
       "<Figure size 576x360 with 1 Axes>"
      ]
     },
     "metadata": {
      "needs_background": "light"
     },
     "output_type": "display_data"
    }
   ],
   "source": [
    "import seaborn as sns\n",
    "rowsums = df.iloc[:,2:].sum(axis=1)\n",
    "x=rowsums.value_counts()#plot\n",
    "plt.figure(figsize=(8,5))\n",
    "ax = sns.barplot(x.index, x.values)\n",
    "plt.title(\"Multiple categories per comment\")\n",
    "plt.ylabel('# of Occurrences', fontsize=12)\n",
    "plt.xlabel('# of categories', fontsize=12)"
   ]
  },
  {
   "cell_type": "code",
   "execution_count": 69,
   "metadata": {},
   "outputs": [
    {
     "name": "stdout",
     "output_type": "stream",
     "text": [
      "(655,)\n",
      "(323,)\n"
     ]
    }
   ],
   "source": [
    "from sklearn.model_selection import train_test_split\n",
    "categories = ['TC', 'SN', 'KS', 'OT']\n",
    "train, test = train_test_split(df, random_state=42, test_size=0.33, shuffle=True)\n",
    "\n",
    "X_train = train.text_processed\n",
    "X_test = test.text_processed\n",
    "print(X_train.shape)\n",
    "print(X_test.shape)"
   ]
  },
  {
   "cell_type": "code",
   "execution_count": 73,
   "metadata": {},
   "outputs": [
    {
     "data": {
      "text/plain": [
       "172    maryif we add both balances together the total...\n",
       "125    timcan you authorize access to the west power ...\n",
       "750    janemtholtenroncom mikegrigsbyenroncomtranswes...\n",
       "398    georgei am back in the office and ready to foc...\n",
       "882    forwarded by phillip k allenhouect on 05022001...\n",
       "Name: text_processed, dtype: object"
      ]
     },
     "execution_count": 73,
     "metadata": {},
     "output_type": "execute_result"
    }
   ],
   "source": [
    "X_train.head()"
   ]
  },
  {
   "cell_type": "code",
   "execution_count": 33,
   "metadata": {},
   "outputs": [],
   "source": [
    "stop_words = stopwords.words('english')# replace with space\n",
    "stop_words.extend(['from', 'subject', 're', 'edu', 'use'])"
   ]
  },
  {
   "cell_type": "markdown",
   "metadata": {},
   "source": [
    "### Naive Bayes"
   ]
  },
  {
   "cell_type": "code",
   "execution_count": 35,
   "metadata": {},
   "outputs": [],
   "source": [
    "# Define a pipeline combining a text feature extractor with multi lable classifier\n",
    "from sklearn.pipeline import Pipeline\n",
    "from sklearn.naive_bayes import MultinomialNB\n",
    "from sklearn.multiclass import OneVsRestClassifier\n",
    "\n",
    "NB_pipeline = Pipeline([\n",
    "                ('tfidf', TfidfVectorizer(stop_words=stop_words)),\n",
    "                ('clf', OneVsRestClassifier(MultinomialNB(\n",
    "                    fit_prior=True, class_prior=None))),\n",
    "            ])"
   ]
  },
  {
   "cell_type": "code",
   "execution_count": 38,
   "metadata": {},
   "outputs": [
    {
     "name": "stdout",
     "output_type": "stream",
     "text": [
      "... Processing TC\n",
      "Test accuracy is 0.7120743034055728\n",
      "... Processing SN\n",
      "Test accuracy is 0.7523219814241486\n",
      "... Processing KS\n",
      "Test accuracy is 0.8637770897832817\n",
      "... Processing OT\n",
      "Test accuracy is 0.9256965944272446\n"
     ]
    }
   ],
   "source": [
    "for category in categories:\n",
    "    print('... Processing {}'.format(category))\n",
    "    # train the model using X_dtm & y\n",
    "    NB_pipeline.fit(X_train, train[category])\n",
    "    # compute the testing accuracy\n",
    "    prediction = NB_pipeline.predict(X_test)\n",
    "    print('Test accuracy is {}'.format(accuracy_score(test[category], prediction)))"
   ]
  },
  {
   "cell_type": "markdown",
   "metadata": {},
   "source": [
    "### Linear SVC"
   ]
  },
  {
   "cell_type": "code",
   "execution_count": 39,
   "metadata": {},
   "outputs": [],
   "source": [
    "from sklearn.svm import LinearSVC\n",
    "SVC_pipeline = Pipeline([\n",
    "                ('tfidf', TfidfVectorizer(stop_words=stop_words)),\n",
    "                ('clf', OneVsRestClassifier(LinearSVC(), n_jobs=1)),\n",
    "            ])\n"
   ]
  },
  {
   "cell_type": "code",
   "execution_count": 40,
   "metadata": {},
   "outputs": [
    {
     "name": "stdout",
     "output_type": "stream",
     "text": [
      "... Processing TC\n",
      "Test accuracy is 0.7770897832817337\n",
      "... Processing SN\n",
      "Test accuracy is 0.8018575851393189\n",
      "... Processing KS\n",
      "Test accuracy is 0.9009287925696594\n",
      "... Processing OT\n",
      "Test accuracy is 0.9473684210526315\n"
     ]
    }
   ],
   "source": [
    "for category in categories:\n",
    "    print('... Processing {}'.format(category))\n",
    "    # train the model using X_dtm & y\n",
    "    SVC_pipeline.fit(X_train, train[category])\n",
    "    # compute the testing accuracy\n",
    "    prediction = SVC_pipeline.predict(X_test)\n",
    "    print('Test accuracy is {}'.format(accuracy_score(test[category], prediction)))"
   ]
  },
  {
   "cell_type": "markdown",
   "metadata": {},
   "source": [
    "### Logistic Regression"
   ]
  },
  {
   "cell_type": "code",
   "execution_count": 41,
   "metadata": {},
   "outputs": [],
   "source": [
    "from sklearn.linear_model import LogisticRegression\n",
    "LogReg_pipeline = Pipeline([\n",
    "                ('tfidf', TfidfVectorizer(stop_words=stop_words)),\n",
    "                ('clf', OneVsRestClassifier(LogisticRegression(solver='sag'), n_jobs=1)),\n",
    "            ])\n"
   ]
  },
  {
   "cell_type": "code",
   "execution_count": 42,
   "metadata": {},
   "outputs": [
    {
     "name": "stdout",
     "output_type": "stream",
     "text": [
      "... Processing TC\n",
      "Test accuracy is 0.7306501547987616\n",
      "... Processing SN\n",
      "Test accuracy is 0.7585139318885449\n",
      "... Processing KS\n",
      "Test accuracy is 0.8730650154798761\n",
      "... Processing OT\n",
      "Test accuracy is 0.9473684210526315\n"
     ]
    }
   ],
   "source": [
    "for category in categories:\n",
    "    print('... Processing {}'.format(category))\n",
    "    # train the model using X_dtm & y\n",
    "    LogReg_pipeline.fit(X_train, train[category])\n",
    "    # compute the testing accuracy\n",
    "    prediction = LogReg_pipeline.predict(X_test)\n",
    "    print('Test accuracy is {}'.format(accuracy_score(test[category], prediction)))"
   ]
  },
  {
   "cell_type": "markdown",
   "metadata": {},
   "source": [
    "### Artificial Neural Network"
   ]
  },
  {
   "cell_type": "code",
   "execution_count": 46,
   "metadata": {},
   "outputs": [],
   "source": [
    "from tensorflow import keras\n",
    "model = keras.models.Sequential()\n",
    "model.add(keras.layers.Flatten(input_shape=[28,28]))\n",
    "model.add(keras.layers.Dense(512, activation=\"relu\"))\n",
    "model.add(keras.layers.Dense(256, activation=\"relu\"))\n",
    "model.add(keras.layers.Dense(128, activation=\"relu\"))\n",
    "model.add(keras.layers.Dense(10,activation=\"softmax\"))"
   ]
  },
  {
   "cell_type": "code",
   "execution_count": 47,
   "metadata": {},
   "outputs": [],
   "source": [
    "model.compile(loss=\"sparse_categorical_crossentropy\",optimizer=\"sgd\",metrics=[\"accuracy\"])"
   ]
  },
  {
   "cell_type": "code",
   "execution_count": 49,
   "metadata": {},
   "outputs": [],
   "source": [
    "# model_history = model.fit(X_train,Y_train,epochs=30)"
   ]
  },
  {
   "cell_type": "code",
   "execution_count": null,
   "metadata": {},
   "outputs": [],
   "source": []
  },
  {
   "cell_type": "markdown",
   "metadata": {},
   "source": [
    "### SVM"
   ]
  },
  {
   "cell_type": "code",
   "execution_count": 43,
   "metadata": {},
   "outputs": [],
   "source": [
    "from sklearn.svm import SVC\n",
    "SVM_pipeline = Pipeline([\n",
    "                ('tfidf', TfidfVectorizer(stop_words=stop_words)),\n",
    "                ('clf', SVC()),\n",
    "            ])"
   ]
  },
  {
   "cell_type": "code",
   "execution_count": 44,
   "metadata": {},
   "outputs": [
    {
     "name": "stdout",
     "output_type": "stream",
     "text": [
      "... Processing TC\n",
      "Test accuracy is 0.7461300309597523\n",
      "... Processing SN\n",
      "Test accuracy is 0.7925696594427245\n",
      "... Processing KS\n",
      "Test accuracy is 0.8978328173374613\n",
      "... Processing OT\n",
      "Test accuracy is 0.9504643962848297\n"
     ]
    }
   ],
   "source": [
    "for category in categories:\n",
    "    print('... Processing {}'.format(category))\n",
    "    # train the model using X_dtm & y\n",
    "    SVM_pipeline.fit(X_train, train[category])\n",
    "    # compute the testing accuracy\n",
    "    prediction = SVM_pipeline.predict(X_test)\n",
    "    print('Test accuracy is {}'.format(accuracy_score(test[category], prediction)))"
   ]
  },
  {
   "cell_type": "markdown",
   "metadata": {},
   "source": [
    "#### Linear SVC  performed better as compared to other models"
   ]
  },
  {
   "cell_type": "code",
   "execution_count": 66,
   "metadata": {},
   "outputs": [
    {
     "data": {
      "text/html": [
       "<div>\n",
       "<style scoped>\n",
       "    .dataframe tbody tr th:only-of-type {\n",
       "        vertical-align: middle;\n",
       "    }\n",
       "\n",
       "    .dataframe tbody tr th {\n",
       "        vertical-align: top;\n",
       "    }\n",
       "\n",
       "    .dataframe thead th {\n",
       "        text-align: right;\n",
       "    }\n",
       "</style>\n",
       "<table border=\"1\" class=\"dataframe\">\n",
       "  <thead>\n",
       "    <tr style=\"text-align: right;\">\n",
       "      <th></th>\n",
       "      <th>body</th>\n",
       "      <th>to</th>\n",
       "      <th>from_</th>\n",
       "      <th>date</th>\n",
       "      <th>TC</th>\n",
       "      <th>SN</th>\n",
       "      <th>KS</th>\n",
       "      <th>OT</th>\n",
       "      <th>print</th>\n",
       "      <th>text_processed</th>\n",
       "    </tr>\n",
       "  </thead>\n",
       "  <tbody>\n",
       "    <tr>\n",
       "      <th>0</th>\n",
       "      <td>Lucy,Here is the rentroll.My only questions ar...</td>\n",
       "      <td>stagecoachmama@hotmail.com</td>\n",
       "      <td>phillip.allen@enron.com</td>\n",
       "      <td>15 Mar 2001</td>\n",
       "      <td>0</td>\n",
       "      <td>0</td>\n",
       "      <td>0</td>\n",
       "      <td>0</td>\n",
       "      <td>NaN</td>\n",
       "      <td>lucyhere is the rentrollmy only questions are ...</td>\n",
       "    </tr>\n",
       "    <tr>\n",
       "      <th>1</th>\n",
       "      <td>I also need to know the base salaries of Jay R...</td>\n",
       "      <td>todd.burke@enron.com</td>\n",
       "      <td>phillip.allen@enron.com</td>\n",
       "      <td>15 Mar 2001</td>\n",
       "      <td>0</td>\n",
       "      <td>0</td>\n",
       "      <td>0</td>\n",
       "      <td>0</td>\n",
       "      <td>NaN</td>\n",
       "      <td>i also need to know the base salaries of jay r...</td>\n",
       "    </tr>\n",
       "    <tr>\n",
       "      <th>2</th>\n",
       "      <td>---------------------- Forwarded by Phillip K ...</td>\n",
       "      <td>Western.Price.Survey.contacts@ren-10.cais.net</td>\n",
       "      <td>phillip.allen@enron.com</td>\n",
       "      <td>15 Mar 2001</td>\n",
       "      <td>0</td>\n",
       "      <td>0</td>\n",
       "      <td>0</td>\n",
       "      <td>0</td>\n",
       "      <td>NaN</td>\n",
       "      <td>forwarded by phillip k allenhouect on 03152001...</td>\n",
       "    </tr>\n",
       "    <tr>\n",
       "      <th>3</th>\n",
       "      <td>Thanks for the information.  It would be helpf...</td>\n",
       "      <td>kim.bolton@enron.com</td>\n",
       "      <td>phillip.allen@enron.com</td>\n",
       "      <td>15 Mar 2001</td>\n",
       "      <td>0</td>\n",
       "      <td>0</td>\n",
       "      <td>0</td>\n",
       "      <td>0</td>\n",
       "      <td>NaN</td>\n",
       "      <td>thanks for the information it would be helpful...</td>\n",
       "    </tr>\n",
       "    <tr>\n",
       "      <th>4</th>\n",
       "      <td>---------------------- Forwarded by Phillip K ...</td>\n",
       "      <td>Phillip.K.Allen@enron.com</td>\n",
       "      <td>phillip.allen@enron.com</td>\n",
       "      <td>15 Mar 2001</td>\n",
       "      <td>0</td>\n",
       "      <td>0</td>\n",
       "      <td>0</td>\n",
       "      <td>0</td>\n",
       "      <td>NaN</td>\n",
       "      <td>forwarded by phillip k allenhouect on 03152001...</td>\n",
       "    </tr>\n",
       "  </tbody>\n",
       "</table>\n",
       "</div>"
      ],
      "text/plain": [
       "                                                body  \\\n",
       "0  Lucy,Here is the rentroll.My only questions ar...   \n",
       "1  I also need to know the base salaries of Jay R...   \n",
       "2  ---------------------- Forwarded by Phillip K ...   \n",
       "3  Thanks for the information.  It would be helpf...   \n",
       "4  ---------------------- Forwarded by Phillip K ...   \n",
       "\n",
       "                                              to                    from_  \\\n",
       "0                     stagecoachmama@hotmail.com  phillip.allen@enron.com   \n",
       "1                           todd.burke@enron.com  phillip.allen@enron.com   \n",
       "2  Western.Price.Survey.contacts@ren-10.cais.net  phillip.allen@enron.com   \n",
       "3                           kim.bolton@enron.com  phillip.allen@enron.com   \n",
       "4                      Phillip.K.Allen@enron.com  phillip.allen@enron.com   \n",
       "\n",
       "           date  TC  SN  KS  OT  print  \\\n",
       "0   15 Mar 2001   0   0   0   0    NaN   \n",
       "1   15 Mar 2001   0   0   0   0    NaN   \n",
       "2   15 Mar 2001   0   0   0   0    NaN   \n",
       "3   15 Mar 2001   0   0   0   0    NaN   \n",
       "4   15 Mar 2001   0   0   0   0    NaN   \n",
       "\n",
       "                                      text_processed  \n",
       "0  lucyhere is the rentrollmy only questions are ...  \n",
       "1  i also need to know the base salaries of jay r...  \n",
       "2  forwarded by phillip k allenhouect on 03152001...  \n",
       "3  thanks for the information it would be helpful...  \n",
       "4  forwarded by phillip k allenhouect on 03152001...  "
      ]
     },
     "execution_count": 66,
     "metadata": {},
     "output_type": "execute_result"
    }
   ],
   "source": [
    "email_df.head()"
   ]
  },
  {
   "cell_type": "code",
   "execution_count": 83,
   "metadata": {},
   "outputs": [
    {
     "name": "stdout",
     "output_type": "stream",
     "text": [
      "... Processing TC\n",
      "... Processing SN\n",
      "... Processing KS\n",
      "... Processing OT\n"
     ]
    }
   ],
   "source": [
    "for category in categories:\n",
    "    print('... Processing {}'.format(category))\n",
    "    # train the model using X_dtm & y\n",
    "    SVC_pipeline.fit(X_train, train[category])\n",
    "    # compute the testing accuracy\n",
    "    prediction = SVC_pipeline.predict(email_df['text_processed'])\n",
    "    email_df[category] = prediction"
   ]
  },
  {
   "cell_type": "code",
   "execution_count": 88,
   "metadata": {},
   "outputs": [
    {
     "data": {
      "text/html": [
       "<div>\n",
       "<style scoped>\n",
       "    .dataframe tbody tr th:only-of-type {\n",
       "        vertical-align: middle;\n",
       "    }\n",
       "\n",
       "    .dataframe tbody tr th {\n",
       "        vertical-align: top;\n",
       "    }\n",
       "\n",
       "    .dataframe thead th {\n",
       "        text-align: right;\n",
       "    }\n",
       "</style>\n",
       "<table border=\"1\" class=\"dataframe\">\n",
       "  <thead>\n",
       "    <tr style=\"text-align: right;\">\n",
       "      <th></th>\n",
       "      <th>body</th>\n",
       "      <th>to</th>\n",
       "      <th>from_</th>\n",
       "      <th>date</th>\n",
       "      <th>TC</th>\n",
       "      <th>SN</th>\n",
       "      <th>KS</th>\n",
       "      <th>OT</th>\n",
       "      <th>print</th>\n",
       "      <th>text_processed</th>\n",
       "    </tr>\n",
       "  </thead>\n",
       "  <tbody>\n",
       "    <tr>\n",
       "      <th>0</th>\n",
       "      <td>Lucy,Here is the rentroll.My only questions ar...</td>\n",
       "      <td>stagecoachmama@hotmail.com</td>\n",
       "      <td>phillip.allen@enron.com</td>\n",
       "      <td>15 Mar 2001</td>\n",
       "      <td>0</td>\n",
       "      <td>1</td>\n",
       "      <td>0</td>\n",
       "      <td>0</td>\n",
       "      <td>NaN</td>\n",
       "      <td>lucyhere is the rentrollmy only questions are ...</td>\n",
       "    </tr>\n",
       "    <tr>\n",
       "      <th>1</th>\n",
       "      <td>I also need to know the base salaries of Jay R...</td>\n",
       "      <td>todd.burke@enron.com</td>\n",
       "      <td>phillip.allen@enron.com</td>\n",
       "      <td>15 Mar 2001</td>\n",
       "      <td>0</td>\n",
       "      <td>1</td>\n",
       "      <td>0</td>\n",
       "      <td>0</td>\n",
       "      <td>NaN</td>\n",
       "      <td>i also need to know the base salaries of jay r...</td>\n",
       "    </tr>\n",
       "    <tr>\n",
       "      <th>2</th>\n",
       "      <td>---------------------- Forwarded by Phillip K ...</td>\n",
       "      <td>Western.Price.Survey.contacts@ren-10.cais.net</td>\n",
       "      <td>phillip.allen@enron.com</td>\n",
       "      <td>15 Mar 2001</td>\n",
       "      <td>1</td>\n",
       "      <td>0</td>\n",
       "      <td>0</td>\n",
       "      <td>0</td>\n",
       "      <td>NaN</td>\n",
       "      <td>forwarded by phillip k allenhouect on 03152001...</td>\n",
       "    </tr>\n",
       "    <tr>\n",
       "      <th>3</th>\n",
       "      <td>Thanks for the information.  It would be helpf...</td>\n",
       "      <td>kim.bolton@enron.com</td>\n",
       "      <td>phillip.allen@enron.com</td>\n",
       "      <td>15 Mar 2001</td>\n",
       "      <td>1</td>\n",
       "      <td>0</td>\n",
       "      <td>0</td>\n",
       "      <td>0</td>\n",
       "      <td>NaN</td>\n",
       "      <td>thanks for the information it would be helpful...</td>\n",
       "    </tr>\n",
       "    <tr>\n",
       "      <th>4</th>\n",
       "      <td>---------------------- Forwarded by Phillip K ...</td>\n",
       "      <td>Phillip.K.Allen@enron.com</td>\n",
       "      <td>phillip.allen@enron.com</td>\n",
       "      <td>15 Mar 2001</td>\n",
       "      <td>1</td>\n",
       "      <td>0</td>\n",
       "      <td>0</td>\n",
       "      <td>0</td>\n",
       "      <td>NaN</td>\n",
       "      <td>forwarded by phillip k allenhouect on 03152001...</td>\n",
       "    </tr>\n",
       "  </tbody>\n",
       "</table>\n",
       "</div>"
      ],
      "text/plain": [
       "                                                body  \\\n",
       "0  Lucy,Here is the rentroll.My only questions ar...   \n",
       "1  I also need to know the base salaries of Jay R...   \n",
       "2  ---------------------- Forwarded by Phillip K ...   \n",
       "3  Thanks for the information.  It would be helpf...   \n",
       "4  ---------------------- Forwarded by Phillip K ...   \n",
       "\n",
       "                                              to                    from_  \\\n",
       "0                     stagecoachmama@hotmail.com  phillip.allen@enron.com   \n",
       "1                           todd.burke@enron.com  phillip.allen@enron.com   \n",
       "2  Western.Price.Survey.contacts@ren-10.cais.net  phillip.allen@enron.com   \n",
       "3                           kim.bolton@enron.com  phillip.allen@enron.com   \n",
       "4                      Phillip.K.Allen@enron.com  phillip.allen@enron.com   \n",
       "\n",
       "           date  TC  SN  KS  OT  print  \\\n",
       "0   15 Mar 2001   0   1   0   0    NaN   \n",
       "1   15 Mar 2001   0   1   0   0    NaN   \n",
       "2   15 Mar 2001   1   0   0   0    NaN   \n",
       "3   15 Mar 2001   1   0   0   0    NaN   \n",
       "4   15 Mar 2001   1   0   0   0    NaN   \n",
       "\n",
       "                                      text_processed  \n",
       "0  lucyhere is the rentrollmy only questions are ...  \n",
       "1  i also need to know the base salaries of jay r...  \n",
       "2  forwarded by phillip k allenhouect on 03152001...  \n",
       "3  thanks for the information it would be helpful...  \n",
       "4  forwarded by phillip k allenhouect on 03152001...  "
      ]
     },
     "execution_count": 88,
     "metadata": {},
     "output_type": "execute_result"
    }
   ],
   "source": [
    "email_df.head()"
   ]
  },
  {
   "cell_type": "code",
   "execution_count": 89,
   "metadata": {},
   "outputs": [],
   "source": [
    "df.to_csv(os.path.basename(pwd +'/final_test.csv'))"
   ]
  },
  {
   "cell_type": "code",
   "execution_count": 93,
   "metadata": {},
   "outputs": [
    {
     "name": "stdout",
     "output_type": "stream",
     "text": [
      "i also need to know the base salaries of jay reitmeyer and monique sanchezthey are doing the same job as matt\n"
     ]
    }
   ],
   "source": [
    "print(email_df.iloc[1]['text_processed'])"
   ]
  },
  {
   "cell_type": "code",
   "execution_count": 94,
   "metadata": {},
   "outputs": [],
   "source": [
    "data = email_df.text_processed.values.tolist()"
   ]
  },
  {
   "cell_type": "code",
   "execution_count": 95,
   "metadata": {},
   "outputs": [],
   "source": [
    "def sent_to_words(sentences):\n",
    "    for sentence in sentences:\n",
    "        yield(gensim.utils.simple_preprocess(str(sentence), deacc=True))\n",
    "        \n",
    "def remove_stopwords(texts):\n",
    "    return [[word for word in simple_preprocess(str(doc)) if word not in stop_words] for doc in texts]\n",
    "\n",
    "def make_bigrams(texts):\n",
    "    return [bigram_mod[doc] for doc in texts]\n",
    "\n",
    "def make_trigrams(texts):\n",
    "    return [trigram_mod[bigram_mod[doc]] for doc in texts]\n",
    "\n",
    "def lemmatization(texts):\n",
    "    texts_out = []\n",
    "    for sent in texts:\n",
    "        texts_out.append([lemmatizer.lemmatize(i) for i in sent])\n",
    "    return texts_out"
   ]
  },
  {
   "cell_type": "code",
   "execution_count": 96,
   "metadata": {},
   "outputs": [],
   "source": [
    "data_words = list(sent_to_words(data))"
   ]
  },
  {
   "cell_type": "code",
   "execution_count": 97,
   "metadata": {},
   "outputs": [
    {
     "name": "stdout",
     "output_type": "stream",
     "text": [
      "['also', 'need', 'to', 'know', 'the', 'base', 'salaries', 'of', 'jay', 'reitmeyer', 'and', 'monique', 'sanchezthey', 'are', 'doing', 'the', 'same', 'job', 'as', 'matt']\n"
     ]
    }
   ],
   "source": [
    "print(data_words[1])"
   ]
  },
  {
   "cell_type": "code",
   "execution_count": 98,
   "metadata": {},
   "outputs": [],
   "source": [
    "# ugs = word_tokenize(raw)\n",
    "# bgs = nltk.bigrams(ugs)\n",
    "# tgs = nltk.trigrams(ugs)\n",
    "# fogs=nltk.ngrams(ugs,4)\n",
    "# figs=nltk.ngrams(ugs,5)"
   ]
  },
  {
   "cell_type": "code",
   "execution_count": 99,
   "metadata": {},
   "outputs": [],
   "source": [
    "# # Build the bigram and trigram models\n",
    "# bigram = gensim.models.Phrases(data_words, min_count=5, threshold=100)\n",
    "# trigram = gensim.models.Phrases(bigram[data_words], threshold=100)"
   ]
  },
  {
   "cell_type": "code",
   "execution_count": 100,
   "metadata": {},
   "outputs": [],
   "source": [
    "# # Faster way to get a sentence clubbed as a trigram/bigram\n",
    "# # bigram_mod = Phraser(bigram)\n",
    "# # trigram_mod = Phraser(trigram)\n",
    "# bigram_mod = gensim.models.phrases.Phraser(bigram)\n",
    "# trigram_mod = gensim.models.phrases.Phraser(trigram)"
   ]
  },
  {
   "cell_type": "code",
   "execution_count": 101,
   "metadata": {},
   "outputs": [],
   "source": [
    "# print(bigram_mod[data_words[11]])"
   ]
  },
  {
   "cell_type": "code",
   "execution_count": 102,
   "metadata": {},
   "outputs": [],
   "source": [
    "# Remove Stop Words\n",
    "data_words_nostops = remove_stopwords(data_words)"
   ]
  },
  {
   "cell_type": "code",
   "execution_count": 103,
   "metadata": {},
   "outputs": [],
   "source": [
    "#  Form Bigrams\n",
    "# data_words_bigrams = make_bigrams(data_words_nostops)"
   ]
  },
  {
   "cell_type": "code",
   "execution_count": 104,
   "metadata": {},
   "outputs": [],
   "source": [
    "# data_lemmatized = lemmatization(data_words_bigrams)\n",
    "data_lemmatized = lemmatization(data_words_nostops)"
   ]
  },
  {
   "cell_type": "code",
   "execution_count": 105,
   "metadata": {},
   "outputs": [
    {
     "name": "stdout",
     "output_type": "stream",
     "text": [
      "['also', 'need', 'know', 'base', 'salary', 'jay', 'reitmeyer', 'monique', 'sanchezthey', 'job', 'matt']\n"
     ]
    }
   ],
   "source": [
    "print(data_lemmatized[1])"
   ]
  },
  {
   "cell_type": "markdown",
   "metadata": {},
   "source": [
    "### Bag of Words on the Data set"
   ]
  },
  {
   "cell_type": "code",
   "execution_count": 106,
   "metadata": {},
   "outputs": [],
   "source": [
    "import gensim.corpora as corpora# Create Dictionary\n",
    "dictionary = corpora.Dictionary(data_lemmatized)# Create Corpus"
   ]
  },
  {
   "cell_type": "code",
   "execution_count": 107,
   "metadata": {},
   "outputs": [
    {
     "name": "stdout",
     "output_type": "stream",
     "text": [
      "Number of unique words in initital documents: 16344\n"
     ]
    }
   ],
   "source": [
    "print('Number of unique words in initital documents:', len(dictionary))"
   ]
  },
  {
   "cell_type": "code",
   "execution_count": 108,
   "metadata": {},
   "outputs": [
    {
     "name": "stdout",
     "output_type": "stream",
     "text": [
      "Number of unique words after removing rare and common words: 1344\n"
     ]
    }
   ],
   "source": [
    "# Filter out words that occur less than 10 documents, or more than 20% of the documents.\n",
    "dictionary.filter_extremes(no_below=15, no_above=0.5, keep_n=100000)\n",
    "print('Number of unique words after removing rare and common words:', len(dictionary))"
   ]
  },
  {
   "cell_type": "code",
   "execution_count": 109,
   "metadata": {},
   "outputs": [
    {
     "name": "stdout",
     "output_type": "stream",
     "text": [
      "0 ad\n",
      "1 discount\n",
      "2 five\n",
      "3 going\n",
      "4 letter\n",
      "5 like\n",
      "6 look\n",
      "7 lucyhere\n",
      "8 missed\n",
      "9 need\n",
      "10 next\n"
     ]
    }
   ],
   "source": [
    "count = 0\n",
    "for k, v in dictionary.iteritems():\n",
    "    print(k, v)\n",
    "    count += 1\n",
    "    if count > 10:\n",
    "        break"
   ]
  },
  {
   "cell_type": "markdown",
   "metadata": {},
   "source": [
    "### Gensim doc2bow"
   ]
  },
  {
   "cell_type": "code",
   "execution_count": 110,
   "metadata": {},
   "outputs": [
    {
     "data": {
      "text/plain": [
       "[(56, 1),\n",
       " (105, 3),\n",
       " (118, 1),\n",
       " (186, 1),\n",
       " (200, 1),\n",
       " (290, 1),\n",
       " (415, 2),\n",
       " (440, 1),\n",
       " (521, 1),\n",
       " (589, 1),\n",
       " (682, 1),\n",
       " (729, 1),\n",
       " (871, 1),\n",
       " (925, 1),\n",
       " (1028, 1),\n",
       " (1039, 1),\n",
       " (1299, 1)]"
      ]
     },
     "execution_count": 110,
     "metadata": {},
     "output_type": "execute_result"
    }
   ],
   "source": [
    "bow_corpus = [dictionary.doc2bow(doc) for doc in data_lemmatized]\n",
    "bow_corpus[489]"
   ]
  },
  {
   "cell_type": "code",
   "execution_count": 111,
   "metadata": {},
   "outputs": [
    {
     "name": "stdout",
     "output_type": "stream",
     "text": [
      "Word 56 (\"please\") appears 1 time.\n",
      "Word 105 (\"email\") appears 3 time.\n",
      "Word 118 (\"austin\") appears 1 time.\n",
      "Word 186 (\"service\") appears 1 time.\n",
      "Word 200 (\"tx\") appears 1 time.\n",
      "Word 290 (\"receive\") appears 1 time.\n",
      "Word 415 (\"message\") appears 2 time.\n",
      "Word 440 (\"common\") appears 1 time.\n",
      "Word 521 (\"line\") appears 1 time.\n",
      "Word 589 (\"road\") appears 1 time.\n",
      "Word 682 (\"thank\") appears 1 time.\n",
      "Word 729 (\"wish\") appears 1 time.\n",
      "Word 871 (\"joe\") appears 1 time.\n",
      "Word 925 (\"address\") appears 1 time.\n",
      "Word 1028 (\"south\") appears 1 time.\n",
      "Word 1039 (\"longer\") appears 1 time.\n",
      "Word 1299 (\"replyto\") appears 1 time.\n"
     ]
    }
   ],
   "source": [
    "bow_doc_489 = bow_corpus[489]\n",
    "for i in range(len(bow_doc_489)):\n",
    "    print(\"Word {} (\\\"{}\\\") appears {} time.\".format(bow_doc_489[i][0], \n",
    "                                               dictionary[bow_doc_489[i][0]], \n",
    "bow_doc_489[i][1]))"
   ]
  },
  {
   "cell_type": "markdown",
   "metadata": {},
   "source": [
    "### TF-IDF"
   ]
  },
  {
   "cell_type": "code",
   "execution_count": 112,
   "metadata": {},
   "outputs": [
    {
     "name": "stdout",
     "output_type": "stream",
     "text": [
      "[(0, 0.3013197954885115),\n",
      " (1, 0.28339212170251354),\n",
      " (2, 0.2720302687844622),\n",
      " (3, 0.1643938997545552),\n",
      " (4, 0.24851817489694025),\n",
      " (5, 0.11360270062920255),\n",
      " (6, 0.14179855165841324),\n",
      " (7, 0.2541025949984642),\n",
      " (8, 0.2746824843961455),\n",
      " (9, 0.10156347516456478),\n",
      " (10, 0.18435470138731772),\n",
      " (11, 0.13396089765249478),\n",
      " (12, 0.23285684762153333),\n",
      " (13, 0.27745261425439766),\n",
      " (14, 0.19938335662233636),\n",
      " (15, 0.20356732091748403),\n",
      " (16, 0.16168400930236546),\n",
      " (17, 0.12853855218255927),\n",
      " (18, 0.1427697556383092),\n",
      " (19, 0.2670421944846301),\n",
      " (20, 0.28995794257046015)]\n"
     ]
    }
   ],
   "source": [
    "from gensim import corpora, models\n",
    "from pprint import pprint\n",
    "\n",
    "tfidf = models.TfidfModel(bow_corpus)\n",
    "corpus_tfidf = tfidf[bow_corpus]\n",
    "\n",
    "for doc in corpus_tfidf:\n",
    "    if doc != []:\n",
    "        pprint(doc)\n",
    "        break"
   ]
  },
  {
   "cell_type": "markdown",
   "metadata": {},
   "source": [
    "### LDA using Bag of Words"
   ]
  },
  {
   "cell_type": "code",
   "execution_count": 113,
   "metadata": {},
   "outputs": [],
   "source": [
    "lda_model = gensim.models.LdaMulticore(bow_corpus,\n",
    "                                       num_topics=10, \n",
    "                                       id2word=dictionary,\n",
    "                                       passes=2, workers=2)"
   ]
  },
  {
   "cell_type": "code",
   "execution_count": 114,
   "metadata": {},
   "outputs": [
    {
     "name": "stdout",
     "output_type": "stream",
     "text": [
      "Topic: 0 \n",
      "Words: 0.139*\"image\" + 0.017*\"change\" + 0.012*\"power\" + 0.012*\"story\" + 0.011*\"full\" + 0.008*\"market\" + 0.007*\"close\" + 0.007*\"gas\" + 0.007*\"plant\" + 0.007*\"new\"\n",
      "Topic: 1 \n",
      "Words: 0.017*\"cost\" + 0.014*\"loan\" + 0.009*\"would\" + 0.009*\"please\" + 0.007*\"phillip\" + 0.006*\"u\" + 0.006*\"email\" + 0.006*\"time\" + 0.006*\"market\" + 0.006*\"land\"\n",
      "Topic: 2 \n",
      "Words: 0.011*\"please\" + 0.010*\"position\" + 0.009*\"image\" + 0.009*\"need\" + 0.007*\"gas\" + 0.007*\"would\" + 0.007*\"new\" + 0.007*\"phillip\" + 0.006*\"yes\" + 0.006*\"power\"\n",
      "Topic: 3 \n",
      "Words: 0.033*\"email\" + 0.018*\"gas\" + 0.011*\"please\" + 0.009*\"phillip\" + 0.007*\"u\" + 0.007*\"forwarded\" + 0.007*\"price\" + 0.007*\"trade\" + 0.007*\"make\" + 0.006*\"allenhouect\"\n",
      "Topic: 4 \n",
      "Words: 0.033*\"phillip\" + 0.029*\"forwarded\" + 0.026*\"allenhouect\" + 0.012*\"please\" + 0.007*\"need\" + 0.007*\"contact\" + 0.007*\"project\" + 0.006*\"date\" + 0.006*\"email\" + 0.006*\"file\"\n",
      "Topic: 5 \n",
      "Words: 0.048*\"buy\" + 0.017*\"downgraded\" + 0.014*\"strong\" + 0.013*\"would\" + 0.012*\"initiated\" + 0.011*\"coverage\" + 0.010*\"get\" + 0.009*\"u\" + 0.009*\"need\" + 0.008*\"please\"\n",
      "Topic: 6 \n",
      "Words: 0.013*\"message\" + 0.012*\"please\" + 0.010*\"new\" + 0.010*\"email\" + 0.009*\"yahoo\" + 0.009*\"enron\" + 0.009*\"recipient\" + 0.009*\"contract\" + 0.008*\"free\" + 0.008*\"time\"\n",
      "Topic: 7 \n",
      "Words: 0.011*\"would\" + 0.010*\"please\" + 0.010*\"plan\" + 0.008*\"need\" + 0.007*\"two\" + 0.007*\"phillip\" + 0.007*\"distribution\" + 0.007*\"email\" + 0.007*\"meeting\" + 0.007*\"share\"\n",
      "Topic: 8 \n",
      "Words: 0.019*\"would\" + 0.012*\"gas\" + 0.012*\"like\" + 0.009*\"need\" + 0.008*\"price\" + 0.008*\"work\" + 0.007*\"get\" + 0.007*\"know\" + 0.007*\"cost\" + 0.006*\"project\"\n",
      "Topic: 9 \n",
      "Words: 0.014*\"email\" + 0.014*\"please\" + 0.010*\"gas\" + 0.010*\"would\" + 0.009*\"phillip\" + 0.008*\"information\" + 0.008*\"provide\" + 0.008*\"question\" + 0.007*\"may\" + 0.007*\"basis\"\n"
     ]
    }
   ],
   "source": [
    "for idx, topic in lda_model.print_topics(-1):\n",
    "    print('Topic: {} \\nWords: {}'.format(idx, topic))"
   ]
  },
  {
   "cell_type": "markdown",
   "metadata": {},
   "source": [
    "### Running LDA using TF-IDF"
   ]
  },
  {
   "cell_type": "code",
   "execution_count": 115,
   "metadata": {},
   "outputs": [
    {
     "name": "stdout",
     "output_type": "stream",
     "text": [
      "Topic: 0 Word: 0.010*\"buy\" + 0.006*\"gas\" + 0.006*\"basis\" + 0.006*\"phillip\" + 0.005*\"enron\" + 0.005*\"forwarded\" + 0.005*\"market\" + 0.005*\"corp\" + 0.005*\"allenhouect\" + 0.005*\"deal\"\n",
      "Topic: 1 Word: 0.021*\"image\" + 0.007*\"rent\" + 0.007*\"missed\" + 0.007*\"guest\" + 0.007*\"san\" + 0.007*\"comment\" + 0.007*\"phillip\" + 0.006*\"gas\" + 0.006*\"forwarded\" + 0.006*\"email\"\n",
      "Topic: 2 Word: 0.010*\"phillip\" + 0.010*\"forwarded\" + 0.010*\"allenhouect\" + 0.008*\"would\" + 0.006*\"yes\" + 0.005*\"please\" + 0.005*\"message\" + 0.004*\"cost\" + 0.004*\"original\" + 0.004*\"tim\"\n",
      "Topic: 3 Word: 0.008*\"phillip\" + 0.007*\"forwarded\" + 0.006*\"allenhouect\" + 0.006*\"new\" + 0.006*\"check\" + 0.005*\"spreadsheet\" + 0.005*\"time\" + 0.005*\"socal\" + 0.005*\"go\" + 0.005*\"need\"\n",
      "Topic: 4 Word: 0.006*\"email\" + 0.006*\"please\" + 0.006*\"file\" + 0.005*\"would\" + 0.005*\"work\" + 0.005*\"send\" + 0.005*\"desk\" + 0.005*\"report\" + 0.004*\"going\" + 0.004*\"intelligence\"\n",
      "Topic: 5 Word: 0.007*\"load\" + 0.006*\"zdnet\" + 0.006*\"gas\" + 0.006*\"original\" + 0.006*\"update\" + 0.005*\"ina\" + 0.005*\"price\" + 0.005*\"trading\" + 0.005*\"email\" + 0.005*\"need\"\n",
      "Topic: 6 Word: 0.008*\"allen\" + 0.008*\"robert\" + 0.008*\"michael\" + 0.008*\"email\" + 0.007*\"file\" + 0.007*\"mike\" + 0.007*\"john\" + 0.007*\"id\" + 0.006*\"jeff\" + 0.006*\"matt\"\n",
      "Topic: 7 Word: 0.008*\"fax\" + 0.006*\"lgayenroncom\" + 0.006*\"number\" + 0.005*\"need\" + 0.005*\"loan\" + 0.005*\"please\" + 0.005*\"cost\" + 0.005*\"call\" + 0.005*\"tax\" + 0.005*\"statement\"\n",
      "Topic: 8 Word: 0.006*\"ok\" + 0.006*\"question\" + 0.006*\"tim\" + 0.006*\"phillip\" + 0.006*\"allenhouect\" + 0.006*\"forwarded\" + 0.005*\"email\" + 0.005*\"shively\" + 0.005*\"meeting\" + 0.005*\"send\"\n",
      "Topic: 9 Word: 0.010*\"allenhouect\" + 0.009*\"forwarded\" + 0.009*\"phillip\" + 0.006*\"west\" + 0.006*\"put\" + 0.005*\"would\" + 0.005*\"today\" + 0.005*\"image\" + 0.005*\"project\" + 0.005*\"pl\"\n"
     ]
    }
   ],
   "source": [
    "lda_model_tfidf = gensim.models.LdaMulticore(corpus_tfidf, num_topics=10,\n",
    "                                             id2word=dictionary,\n",
    "                                             passes=2, workers=4)\n",
    "\n",
    "for idx, topic in lda_model_tfidf.print_topics(-1):\n",
    "    print('Topic: {} Word: {}'.format(idx, topic))"
   ]
  },
  {
   "cell_type": "code",
   "execution_count": 116,
   "metadata": {},
   "outputs": [
    {
     "name": "stdout",
     "output_type": "stream",
     "text": [
      "\n",
      "Score: 0.3426913619041443\t \n",
      "Topic: 0.033*\"phillip\" + 0.029*\"forwarded\" + 0.026*\"allenhouect\" + 0.012*\"please\" + 0.007*\"need\" + 0.007*\"contact\" + 0.007*\"project\" + 0.006*\"date\" + 0.006*\"email\" + 0.006*\"file\"\n",
      "\n",
      "Score: 0.34148046374320984\t \n",
      "Topic: 0.033*\"email\" + 0.018*\"gas\" + 0.011*\"please\" + 0.009*\"phillip\" + 0.007*\"u\" + 0.007*\"forwarded\" + 0.007*\"price\" + 0.007*\"trade\" + 0.007*\"make\" + 0.006*\"allenhouect\"\n",
      "\n",
      "Score: 0.2824830412864685\t \n",
      "Topic: 0.013*\"message\" + 0.012*\"please\" + 0.010*\"new\" + 0.010*\"email\" + 0.009*\"yahoo\" + 0.009*\"enron\" + 0.009*\"recipient\" + 0.009*\"contract\" + 0.008*\"free\" + 0.008*\"time\"\n"
     ]
    }
   ],
   "source": [
    "for index, score in sorted(lda_model[bow_corpus[489]], key=lambda tup: -1*tup[1]):\n",
    "    print(\"\\nScore: {}\\t \\nTopic: {}\".format(score, lda_model.print_topic(index, 10)))"
   ]
  },
  {
   "cell_type": "code",
   "execution_count": 117,
   "metadata": {},
   "outputs": [
    {
     "name": "stdout",
     "output_type": "stream",
     "text": [
      "\n",
      "Score: 0.7534192800521851\t \n",
      "Topic: 0.010*\"phillip\" + 0.010*\"forwarded\" + 0.010*\"allenhouect\" + 0.008*\"would\" + 0.006*\"yes\" + 0.005*\"please\" + 0.005*\"message\" + 0.004*\"cost\" + 0.004*\"original\" + 0.004*\"tim\"\n",
      "\n",
      "Score: 0.20846998691558838\t \n",
      "Topic: 0.010*\"buy\" + 0.006*\"gas\" + 0.006*\"basis\" + 0.006*\"phillip\" + 0.005*\"enron\" + 0.005*\"forwarded\" + 0.005*\"market\" + 0.005*\"corp\" + 0.005*\"allenhouect\" + 0.005*\"deal\"\n"
     ]
    }
   ],
   "source": [
    "for index, score in sorted(lda_model_tfidf[bow_corpus[489]], key=lambda tup: -1*tup[1]):\n",
    "    print(\"\\nScore: {}\\t \\nTopic: {}\".format(score, lda_model_tfidf.print_topic(index, 10)))"
   ]
  },
  {
   "cell_type": "code",
   "execution_count": null,
   "metadata": {},
   "outputs": [],
   "source": []
  },
  {
   "cell_type": "code",
   "execution_count": null,
   "metadata": {},
   "outputs": [],
   "source": []
  }
 ],
 "metadata": {
  "kernelspec": {
   "display_name": "Python 3",
   "language": "python",
   "name": "python3"
  },
  "language_info": {
   "codemirror_mode": {
    "name": "ipython",
    "version": 3
   },
   "file_extension": ".py",
   "mimetype": "text/x-python",
   "name": "python",
   "nbconvert_exporter": "python",
   "pygments_lexer": "ipython3",
   "version": "3.7.6"
  }
 },
 "nbformat": 4,
 "nbformat_minor": 4
}
