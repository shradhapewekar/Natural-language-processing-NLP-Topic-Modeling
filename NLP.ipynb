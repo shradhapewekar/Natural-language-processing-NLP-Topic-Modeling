{
 "cells": [
  {
   "cell_type": "code",
   "execution_count": 1,
   "metadata": {},
   "outputs": [],
   "source": [
    "import pandas as pd\n",
    "import re\n",
    "import numpy as np\n",
    "import gensim\n",
    "import warnings\n",
    "warnings.simplefilter(action='ignore', category=FutureWarning)"
   ]
  },
  {
   "cell_type": "code",
   "execution_count": 2,
   "metadata": {},
   "outputs": [],
   "source": [
    "# spacy for lemmatization\n",
    "# import spacy\n",
    "from nltk.stem import WordNetLemmatizer \n",
    "from nltk.stem import PorterStemmer\n",
    "from sklearn.metrics import precision_score\n",
    "from sklearn.metrics import recall_score\n",
    "from IPython.display import clear_output\n",
    "from sklearn.feature_extraction.text import TfidfVectorizer\n",
    "from keras.preprocessing.text import Tokenizer\n",
    "from keras.preprocessing.sequence import pad_sequences\n",
    "import nltk\n",
    "from datetime import datetime\n",
    "from sklearn.metrics import accuracy_score\n",
    "from sklearn.metrics import f1_score\n",
    "# Import the wordcloud library\n",
    "from wordcloud import WordCloud\n",
    "\n",
    "lemmatizer = WordNetLemmatizer()\n",
    "w_tokenizer = nltk.tokenize.WhitespaceTokenizer()\n",
    "lemmatizer = nltk.stem.WordNetLemmatizer()"
   ]
  },
  {
   "cell_type": "code",
   "execution_count": 3,
   "metadata": {},
   "outputs": [],
   "source": [
    "# for plotting\n",
    "import pyLDAvis\n",
    "import pyLDAvis.gensim\n",
    "import matplotlib.pyplot as plt"
   ]
  },
  {
   "cell_type": "markdown",
   "metadata": {},
   "source": [
    "### Loading data"
   ]
  },
  {
   "cell_type": "code",
   "execution_count": 4,
   "metadata": {},
   "outputs": [],
   "source": [
    "import os\n",
    "pwd = os.getcwd()"
   ]
  },
  {
   "cell_type": "code",
   "execution_count": 5,
   "metadata": {},
   "outputs": [],
   "source": [
    "emails = pd.read_csv(os.path.basename(pwd +'/emails.csv'))"
   ]
  },
  {
   "cell_type": "code",
   "execution_count": 6,
   "metadata": {},
   "outputs": [
    {
     "data": {
      "text/plain": [
       "file       517401\n",
       "message    517401\n",
       "dtype: int64"
      ]
     },
     "execution_count": 6,
     "metadata": {},
     "output_type": "execute_result"
    }
   ],
   "source": [
    "emails.count()"
   ]
  },
  {
   "cell_type": "code",
   "execution_count": 7,
   "metadata": {},
   "outputs": [
    {
     "name": "stdout",
     "output_type": "stream",
     "text": [
      "(2000, 2)\n",
      "                            file  \\\n",
      "1000  allen-p/all_documents/462.   \n",
      "1001  allen-p/all_documents/463.   \n",
      "1002  allen-p/all_documents/464.   \n",
      "1003  allen-p/all_documents/465.   \n",
      "1004  allen-p/all_documents/466.   \n",
      "\n",
      "                                                message  \n",
      "1000  Message-ID: <1081797.1075855696183.JavaMail.ev...  \n",
      "1001  Message-ID: <28830232.1075855696211.JavaMail.e...  \n",
      "1002  Message-ID: <23711632.1075855696233.JavaMail.e...  \n",
      "1003  Message-ID: <28968716.1075855696255.JavaMail.e...  \n",
      "1004  Message-ID: <2413536.1075855696276.JavaMail.ev...  \n"
     ]
    }
   ],
   "source": [
    "# email_subset = emails.sample(frac=0.05, random_state=1)\n",
    "email_subset = emails[1000:3000]\n",
    "print(email_subset.shape)\n",
    "print(email_subset.head())"
   ]
  },
  {
   "cell_type": "markdown",
   "metadata": {},
   "source": [
    "### Data Cleaning\n",
    "- We have to do topic modelling on text data, I have removed redundant imformation and kept only: email body , From and To.\n",
    "- I am only using 5000 emails"
   ]
  },
  {
   "cell_type": "code",
   "execution_count": 8,
   "metadata": {},
   "outputs": [],
   "source": [
    "def parse_raw_message(raw_message):\n",
    "    lines = raw_message.split('\\n')\n",
    "    email = {}\n",
    "    message = ''\n",
    "    keys_to_extract = ['from', 'to', 'date']\n",
    "    for line in lines:\n",
    "        if ':' not in line:\n",
    "            message += line.strip()\n",
    "            email['body'] = message\n",
    "        else:\n",
    "            pairs = line.split(':')\n",
    "            key = pairs[0].lower()\n",
    "            val = pairs[1].strip()\n",
    "            if key in keys_to_extract:\n",
    "                email[key] = val\n",
    "    return email"
   ]
  },
  {
   "cell_type": "code",
   "execution_count": 9,
   "metadata": {},
   "outputs": [],
   "source": [
    "def parse_into_emails(messages):\n",
    "    emails = [parse_raw_message(message) for message in messages]\n",
    "    return {\n",
    "        'body': map_to_list(emails, 'body'),\n",
    "        'to': map_to_list(emails, 'to'),\n",
    "        'from_': map_to_list(emails, 'from'),\n",
    "        'date': map_to_list(emails, 'date'),\n",
    "        'TC': 0,\n",
    "        'SN': 0,\n",
    "        'KS': 0,\n",
    "        'OT': 0,\n",
    "        'print': np.nan\n",
    "    }"
   ]
  },
  {
   "cell_type": "code",
   "execution_count": 10,
   "metadata": {},
   "outputs": [],
   "source": [
    "def map_to_list(emails, key):\n",
    "    results = []\n",
    "    for email in emails:\n",
    "        if key not in email:\n",
    "            results.append('')\n",
    "        else:\n",
    "            results.append(email[key])\n",
    "    return results"
   ]
  },
  {
   "cell_type": "code",
   "execution_count": 11,
   "metadata": {},
   "outputs": [],
   "source": [
    "def clean_text(text):\n",
    "    text = text.lower()\n",
    "    text = re.sub(r\"what's\", \"what is \", text)\n",
    "    text = re.sub(r\"\\'s\", \" \", text)\n",
    "    text = re.sub(r\"\\'ve\", \" have \", text)\n",
    "    text = re.sub(r\"can't\", \"can not \", text)\n",
    "    text = re.sub(r\"n't\", \" not \", text)\n",
    "    text = re.sub(r\"i'm\", \"i am \", text)\n",
    "    text = re.sub(r\"\\'re\", \" are \", text)\n",
    "    text = re.sub(r\"\\'d\", \" would \", text)\n",
    "    text = re.sub(r\"\\'ll\", \" will \", text)\n",
    "    text = re.sub(r\"\\'scuse\", \" excuse \", text)\n",
    "    text = re.sub(r'\\W', ' ', text)\n",
    "    text = re.sub(r'\\s+', ' ', text)\n",
    "    text = text.strip(' ')\n",
    "    return text"
   ]
  },
  {
   "cell_type": "code",
   "execution_count": 12,
   "metadata": {},
   "outputs": [],
   "source": [
    "email_df = pd.DataFrame(parse_into_emails(email_subset.message))"
   ]
  },
  {
   "cell_type": "code",
   "execution_count": 13,
   "metadata": {},
   "outputs": [
    {
     "data": {
      "text/html": [
       "<div>\n",
       "<style scoped>\n",
       "    .dataframe tbody tr th:only-of-type {\n",
       "        vertical-align: middle;\n",
       "    }\n",
       "\n",
       "    .dataframe tbody tr th {\n",
       "        vertical-align: top;\n",
       "    }\n",
       "\n",
       "    .dataframe thead th {\n",
       "        text-align: right;\n",
       "    }\n",
       "</style>\n",
       "<table border=\"1\" class=\"dataframe\">\n",
       "  <thead>\n",
       "    <tr style=\"text-align: right;\">\n",
       "      <th></th>\n",
       "      <th>body</th>\n",
       "      <th>to</th>\n",
       "      <th>from_</th>\n",
       "      <th>date</th>\n",
       "      <th>TC</th>\n",
       "      <th>SN</th>\n",
       "      <th>KS</th>\n",
       "      <th>OT</th>\n",
       "      <th>print</th>\n",
       "    </tr>\n",
       "  </thead>\n",
       "  <tbody>\n",
       "    <tr>\n",
       "      <th>0</th>\n",
       "      <td>Lucy,Here is the rentroll.My only questions ar...</td>\n",
       "      <td>stagecoachmama@hotmail.com</td>\n",
       "      <td>phillip.allen@enron.com</td>\n",
       "      <td>Thu, 15 Mar 2001 07</td>\n",
       "      <td>0</td>\n",
       "      <td>0</td>\n",
       "      <td>0</td>\n",
       "      <td>0</td>\n",
       "      <td>NaN</td>\n",
       "    </tr>\n",
       "    <tr>\n",
       "      <th>1</th>\n",
       "      <td>I also need to know the base salaries of Jay R...</td>\n",
       "      <td>todd.burke@enron.com</td>\n",
       "      <td>phillip.allen@enron.com</td>\n",
       "      <td>Thu, 15 Mar 2001 06</td>\n",
       "      <td>0</td>\n",
       "      <td>0</td>\n",
       "      <td>0</td>\n",
       "      <td>0</td>\n",
       "      <td>NaN</td>\n",
       "    </tr>\n",
       "    <tr>\n",
       "      <th>2</th>\n",
       "      <td>---------------------- Forwarded by Phillip K ...</td>\n",
       "      <td>Western.Price.Survey.contacts@ren-10.cais.net</td>\n",
       "      <td>phillip.allen@enron.com</td>\n",
       "      <td>Thu, 15 Mar 2001 06</td>\n",
       "      <td>0</td>\n",
       "      <td>0</td>\n",
       "      <td>0</td>\n",
       "      <td>0</td>\n",
       "      <td>NaN</td>\n",
       "    </tr>\n",
       "    <tr>\n",
       "      <th>3</th>\n",
       "      <td>Thanks for the information.  It would be helpf...</td>\n",
       "      <td>kim.bolton@enron.com</td>\n",
       "      <td>phillip.allen@enron.com</td>\n",
       "      <td>Thu, 15 Mar 2001 06</td>\n",
       "      <td>0</td>\n",
       "      <td>0</td>\n",
       "      <td>0</td>\n",
       "      <td>0</td>\n",
       "      <td>NaN</td>\n",
       "    </tr>\n",
       "    <tr>\n",
       "      <th>4</th>\n",
       "      <td>---------------------- Forwarded by Phillip K ...</td>\n",
       "      <td>Phillip.K.Allen@enron.com</td>\n",
       "      <td>phillip.allen@enron.com</td>\n",
       "      <td>Thu, 15 Mar 2001 04</td>\n",
       "      <td>0</td>\n",
       "      <td>0</td>\n",
       "      <td>0</td>\n",
       "      <td>0</td>\n",
       "      <td>NaN</td>\n",
       "    </tr>\n",
       "  </tbody>\n",
       "</table>\n",
       "</div>"
      ],
      "text/plain": [
       "                                                body  \\\n",
       "0  Lucy,Here is the rentroll.My only questions ar...   \n",
       "1  I also need to know the base salaries of Jay R...   \n",
       "2  ---------------------- Forwarded by Phillip K ...   \n",
       "3  Thanks for the information.  It would be helpf...   \n",
       "4  ---------------------- Forwarded by Phillip K ...   \n",
       "\n",
       "                                              to                    from_  \\\n",
       "0                     stagecoachmama@hotmail.com  phillip.allen@enron.com   \n",
       "1                           todd.burke@enron.com  phillip.allen@enron.com   \n",
       "2  Western.Price.Survey.contacts@ren-10.cais.net  phillip.allen@enron.com   \n",
       "3                           kim.bolton@enron.com  phillip.allen@enron.com   \n",
       "4                      Phillip.K.Allen@enron.com  phillip.allen@enron.com   \n",
       "\n",
       "                  date  TC  SN  KS  OT  print  \n",
       "0  Thu, 15 Mar 2001 07   0   0   0   0    NaN  \n",
       "1  Thu, 15 Mar 2001 06   0   0   0   0    NaN  \n",
       "2  Thu, 15 Mar 2001 06   0   0   0   0    NaN  \n",
       "3  Thu, 15 Mar 2001 06   0   0   0   0    NaN  \n",
       "4  Thu, 15 Mar 2001 04   0   0   0   0    NaN  "
      ]
     },
     "execution_count": 13,
     "metadata": {},
     "output_type": "execute_result"
    }
   ],
   "source": [
    "# To check there are no empty columns\n",
    "email_df.drop(email_df.query(\n",
    "    \"body == '' | to == '' | from_ == '' | date == ''\"\n",
    ").index, inplace=True)\n",
    "email_df.head()"
   ]
  },
  {
   "cell_type": "code",
   "execution_count": 14,
   "metadata": {},
   "outputs": [
    {
     "data": {
      "text/plain": [
       "body     1888\n",
       "to       1888\n",
       "from_    1888\n",
       "date     1888\n",
       "TC       1888\n",
       "SN       1888\n",
       "KS       1888\n",
       "OT       1888\n",
       "print       0\n",
       "dtype: int64"
      ]
     },
     "execution_count": 14,
     "metadata": {},
     "output_type": "execute_result"
    }
   ],
   "source": [
    "email_df.count()"
   ]
  },
  {
   "cell_type": "code",
   "execution_count": 15,
   "metadata": {},
   "outputs": [
    {
     "data": {
      "text/plain": [
       "'I also need to know the base salaries of Jay Reitmeyer and Monique Sanchez.They are doing the same job as Matt.'"
      ]
     },
     "execution_count": 15,
     "metadata": {},
     "output_type": "execute_result"
    }
   ],
   "source": [
    "email_df['date'] = email_df['date'].str[4:16]\n",
    "email_df['body'][1]"
   ]
  },
  {
   "cell_type": "markdown",
   "metadata": {},
   "source": [
    "### Remove punctuation/lower casing\n",
    "- Preprocessing on the content to make it more amenable for analysis"
   ]
  },
  {
   "cell_type": "code",
   "execution_count": 16,
   "metadata": {},
   "outputs": [],
   "source": [
    "# Remove punctuation\n",
    "email_df['text_processed'] = \\\n",
    "email_df['text_processed'] = email_df['body'].str.replace(r'[^\\w\\s]','')\n",
    "# Convert the textto lowercase\n",
    "email_df['text_processed'] = \\\n",
    "email_df['text_processed'].map(lambda x: x.lower())\n"
   ]
  },
  {
   "cell_type": "code",
   "execution_count": 17,
   "metadata": {},
   "outputs": [],
   "source": [
    "email_df['text_processed'] = email_df['text_processed'].map(lambda com : clean_text(com))"
   ]
  },
  {
   "cell_type": "code",
   "execution_count": 18,
   "metadata": {},
   "outputs": [
    {
     "data": {
      "text/plain": [
       "'i also need to know the base salaries of jay reitmeyer and monique sanchezthey are doing the same job as matt'"
      ]
     },
     "execution_count": 18,
     "metadata": {},
     "output_type": "execute_result"
    }
   ],
   "source": [
    "email_df['text_processed'][1]"
   ]
  },
  {
   "cell_type": "markdown",
   "metadata": {},
   "source": [
    "### Exploratory Analysis\n",
    "Wordcloud package to get a visual representation of most common words"
   ]
  },
  {
   "cell_type": "code",
   "execution_count": 19,
   "metadata": {},
   "outputs": [
    {
     "data": {
      "image/png": "[encoded data removed]",
      "text/plain": [
       "<PIL.Image.Image image mode=RGB size=400x200 at 0x243C3510BC8>"
      ]
     },
     "execution_count": 19,
     "metadata": {},
     "output_type": "execute_result"
    }
   ],
   "source": [
    "# Join the different processed titles together.\n",
    "long_string = ','.join(list(email_df['text_processed'].values))# Create a WordCloud object\n",
    "wordcloud = WordCloud(background_color=\"white\", max_words=5000, contour_width=3, contour_color='steelblue')# Generate a word cloud\n",
    "wordcloud.generate(long_string)# Visualize the word cloud\n",
    "wordcloud.to_image()\n"
   ]
  },
  {
   "cell_type": "markdown",
   "metadata": {},
   "source": [
    "### LDA Analysis : Transform data in a format that will serve as an input for training LDA model"
   ]
  },
  {
   "cell_type": "code",
   "execution_count": 20,
   "metadata": {},
   "outputs": [
    {
     "name": "stderr",
     "output_type": "stream",
     "text": [
      "[nltk_data] Downloading package stopwords to\n",
      "[nltk_data]     C:\\Users\\shrad\\AppData\\Roaming\\nltk_data...\n",
      "[nltk_data]   Package stopwords is already up-to-date!\n",
      "[nltk_data] Downloading package wordnet to\n",
      "[nltk_data]     C:\\Users\\shrad\\AppData\\Roaming\\nltk_data...\n",
      "[nltk_data]   Package wordnet is already up-to-date!\n"
     ]
    }
   ],
   "source": [
    "import gensim.corpora as corpora\n",
    "from gensim.utils import simple_preprocess\n",
    "from gensim.models import CoherenceModel\n",
    "from gensim.models.phrases import Phrases, Phraser\n",
    "import nltk\n",
    "from nltk import word_tokenize\n",
    "nltk.download('stopwords')\n",
    "nltk.download('wordnet')\n",
    "from nltk.corpus import stopwords"
   ]
  },
  {
   "cell_type": "code",
   "execution_count": 22,
   "metadata": {},
   "outputs": [],
   "source": [
    "email_df.to_pickle('email.pickle')\n"
   ]
  },
  {
   "cell_type": "code",
   "execution_count": 23,
   "metadata": {},
   "outputs": [],
   "source": [
    "# def manually_label(email_file):\n",
    "    \n",
    "# df = pd.read_pickle('email.pickle')\n",
    "# for index, row in df.iterrows():\n",
    "#         print('Is this sentence? Type 1 if team communication,',\n",
    "#               '\\nType 2: social networking,','\\nType 3:  knowledge sharing and ',\n",
    "#               '\\nType 4: others . \\n')\n",
    "#         print(row.text_processed)\n",
    "#         label = input()\n",
    "#         print(label)\n",
    "#         if '1' in label:\n",
    "#             df.loc[index, 'TC'] = 1\n",
    "#         if '2' in label:\n",
    "#             df.loc[index, 'SN'] = 1\n",
    "#         if '3' in label:\n",
    "#             df.loc[index, 'KS'] = 1\n",
    "#         if '4' in label:\n",
    "#             df.loc[index, 'OT'] = 1\n",
    "#         if label == '':\n",
    "#             df.loc[index, 'OT'] = 1\n",
    "#         clear_output()\n",
    "        \n",
    "#         df.to_pickle('email.pickle')\n",
    "        \n",
    "# print('No more labels to classify!')\n",
    "    "
   ]
  },
  {
   "cell_type": "code",
   "execution_count": 24,
   "metadata": {},
   "outputs": [],
   "source": [
    "# df.to_csv(os.path.basename(pwd +'/final_result1.csv'))"
   ]
  },
  {
   "cell_type": "code",
   "execution_count": 25,
   "metadata": {},
   "outputs": [],
   "source": [
    "df = pd.read_csv(os.path.basename(pwd +'/final_train.csv'))"
   ]
  },
  {
   "cell_type": "code",
   "execution_count": 26,
   "metadata": {},
   "outputs": [
    {
     "data": {
      "text/html": [
       "<div>\n",
       "<style scoped>\n",
       "    .dataframe tbody tr th:only-of-type {\n",
       "        vertical-align: middle;\n",
       "    }\n",
       "\n",
       "    .dataframe tbody tr th {\n",
       "        vertical-align: top;\n",
       "    }\n",
       "\n",
       "    .dataframe thead th {\n",
       "        text-align: right;\n",
       "    }\n",
       "</style>\n",
       "<table border=\"1\" class=\"dataframe\">\n",
       "  <thead>\n",
       "    <tr style=\"text-align: right;\">\n",
       "      <th></th>\n",
       "      <th>body</th>\n",
       "      <th>to</th>\n",
       "      <th>from</th>\n",
       "      <th>date</th>\n",
       "      <th>TC</th>\n",
       "      <th>SN</th>\n",
       "      <th>KS</th>\n",
       "      <th>OT</th>\n",
       "      <th>text_processed</th>\n",
       "    </tr>\n",
       "  </thead>\n",
       "  <tbody>\n",
       "    <tr>\n",
       "      <th>0</th>\n",
       "      <td>Here is our forecast</td>\n",
       "      <td>tim.belden@enron.com</td>\n",
       "      <td>phillip.allen@enron.com</td>\n",
       "      <td>14-May-2001</td>\n",
       "      <td>1</td>\n",
       "      <td>0</td>\n",
       "      <td>0</td>\n",
       "      <td>0</td>\n",
       "      <td>here is our forecast</td>\n",
       "    </tr>\n",
       "    <tr>\n",
       "      <th>1</th>\n",
       "      <td>Traveling to have a business meeting takes the...</td>\n",
       "      <td>john.lavorato@enron.com</td>\n",
       "      <td>phillip.allen@enron.com</td>\n",
       "      <td>4-May-2001</td>\n",
       "      <td>0</td>\n",
       "      <td>1</td>\n",
       "      <td>0</td>\n",
       "      <td>0</td>\n",
       "      <td>traveling to have a business meeting takes the...</td>\n",
       "    </tr>\n",
       "    <tr>\n",
       "      <th>2</th>\n",
       "      <td>test successful.  way to go!!!</td>\n",
       "      <td>leah.arsdall@enron.com</td>\n",
       "      <td>phillip.allen@enron.com</td>\n",
       "      <td>18-Oct-2000</td>\n",
       "      <td>1</td>\n",
       "      <td>0</td>\n",
       "      <td>0</td>\n",
       "      <td>0</td>\n",
       "      <td>test successful way to go</td>\n",
       "    </tr>\n",
       "  </tbody>\n",
       "</table>\n",
       "</div>"
      ],
      "text/plain": [
       "                                                body                       to  \\\n",
       "0                               Here is our forecast     tim.belden@enron.com   \n",
       "1  Traveling to have a business meeting takes the...  john.lavorato@enron.com   \n",
       "2                     test successful.  way to go!!!   leah.arsdall@enron.com   \n",
       "\n",
       "                      from         date  TC  SN  KS  OT  \\\n",
       "0  phillip.allen@enron.com  14-May-2001   1   0   0   0   \n",
       "1  phillip.allen@enron.com   4-May-2001   0   1   0   0   \n",
       "2  phillip.allen@enron.com  18-Oct-2000   1   0   0   0   \n",
       "\n",
       "                                      text_processed  \n",
       "0                               here is our forecast  \n",
       "1  traveling to have a business meeting takes the...  \n",
       "2                          test successful way to go  "
      ]
     },
     "execution_count": 26,
     "metadata": {},
     "output_type": "execute_result"
    }
   ],
   "source": [
    "df.head(3)"
   ]
  },
  {
   "cell_type": "code",
   "execution_count": 27,
   "metadata": {},
   "outputs": [],
   "source": [
    "categories = ['TC','SN','KS','OT']"
   ]
  },
  {
   "cell_type": "code",
   "execution_count": 28,
   "metadata": {},
   "outputs": [],
   "source": [
    "counts = []\n",
    "for i in categories:\n",
    "    counts.append((i, df[i].sum()))"
   ]
  },
  {
   "cell_type": "code",
   "execution_count": 29,
   "metadata": {},
   "outputs": [
    {
     "data": {
      "text/html": [
       "<div>\n",
       "<style scoped>\n",
       "    .dataframe tbody tr th:only-of-type {\n",
       "        vertical-align: middle;\n",
       "    }\n",
       "\n",
       "    .dataframe tbody tr th {\n",
       "        vertical-align: top;\n",
       "    }\n",
       "\n",
       "    .dataframe thead th {\n",
       "        text-align: right;\n",
       "    }\n",
       "</style>\n",
       "<table border=\"1\" class=\"dataframe\">\n",
       "  <thead>\n",
       "    <tr style=\"text-align: right;\">\n",
       "      <th></th>\n",
       "      <th>category</th>\n",
       "      <th>number_of_comments</th>\n",
       "    </tr>\n",
       "  </thead>\n",
       "  <tbody>\n",
       "    <tr>\n",
       "      <th>0</th>\n",
       "      <td>TC</td>\n",
       "      <td>643</td>\n",
       "    </tr>\n",
       "    <tr>\n",
       "      <th>1</th>\n",
       "      <td>SN</td>\n",
       "      <td>240</td>\n",
       "    </tr>\n",
       "    <tr>\n",
       "      <th>2</th>\n",
       "      <td>KS</td>\n",
       "      <td>143</td>\n",
       "    </tr>\n",
       "    <tr>\n",
       "      <th>3</th>\n",
       "      <td>OT</td>\n",
       "      <td>77</td>\n",
       "    </tr>\n",
       "  </tbody>\n",
       "</table>\n",
       "</div>"
      ],
      "text/plain": [
       "  category  number_of_comments\n",
       "0       TC                 643\n",
       "1       SN                 240\n",
       "2       KS                 143\n",
       "3       OT                  77"
      ]
     },
     "execution_count": 29,
     "metadata": {},
     "output_type": "execute_result"
    }
   ],
   "source": [
    "df_stats = pd.DataFrame(counts, columns=['category','number_of_comments'])\n",
    "df_stats"
   ]
  },
  {
   "cell_type": "code",
   "execution_count": 30,
   "metadata": {},
   "outputs": [
    {
     "data": {
      "text/plain": [
       "Text(0.5, 0, 'category')"
      ]
     },
     "execution_count": 30,
     "metadata": {},
     "output_type": "execute_result"
    },
    {
     "data": {
      "image/png": "[encoded data removed]",
      "text/plain": [
       "<Figure size 576x360 with 1 Axes>"
      ]
     },
     "metadata": {
      "needs_background": "light"
     },
     "output_type": "display_data"
    }
   ],
   "source": [
    "df_stats.plot(x='category', y='number_of_comments', kind='bar', legend=False, grid=True, figsize=(8, 5))\n",
    "plt.title(\"Number of comments per category\")\n",
    "plt.ylabel('# of Occurrences', fontsize=12)\n",
    "plt.xlabel('category', fontsize=12)"
   ]
  },
  {
   "cell_type": "code",
   "execution_count": 31,
   "metadata": {},
   "outputs": [
    {
     "data": {
      "text/plain": [
       "Text(0.5, 0, '# of categories')"
      ]
     },
     "execution_count": 31,
     "metadata": {},
     "output_type": "execute_result"
    },
    {
     "data": {
      "image/png": "[encoded data removed]",
      "text/plain": [
       "<Figure size 576x360 with 1 Axes>"
      ]
     },
     "metadata": {
      "needs_background": "light"
     },
     "output_type": "display_data"
    }
   ],
   "source": [
    "import seaborn as sns\n",
    "rowsums = df.iloc[:,2:].sum(axis=1)\n",
    "x=rowsums.value_counts()#plot\n",
    "plt.figure(figsize=(8,5))\n",
    "ax = sns.barplot(x.index, x.values)\n",
    "plt.title(\"Multiple categories per comment\")\n",
    "plt.ylabel('# of Occurrences', fontsize=12)\n",
    "plt.xlabel('# of categories', fontsize=12)"
   ]
  },
  {
   "cell_type": "code",
   "execution_count": 32,
   "metadata": {},
   "outputs": [
    {
     "data": {
      "text/plain": [
       "body              object\n",
       "to                object\n",
       "from              object\n",
       "date              object\n",
       "TC                 int64\n",
       "SN                 int64\n",
       "KS                 int64\n",
       "OT                 int64\n",
       "text_processed    object\n",
       "dtype: object"
      ]
     },
     "execution_count": 32,
     "metadata": {},
     "output_type": "execute_result"
    }
   ],
   "source": [
    "df.dtypes"
   ]
  },
  {
   "cell_type": "code",
   "execution_count": 33,
   "metadata": {},
   "outputs": [
    {
     "name": "stdout",
     "output_type": "stream",
     "text": [
      "(650,)\n",
      "(321,)\n"
     ]
    }
   ],
   "source": [
    "from sklearn.model_selection import train_test_split\n",
    "categories = ['TC', 'SN', 'KS', 'OT']\n",
    "train, test = train_test_split(df, random_state=42, test_size=0.33, shuffle=True)\n",
    "\n",
    "X_train = train.text_processed\n",
    "X_test = test.text_processed\n",
    "print(X_train.shape)\n",
    "print(X_test.shape)"
   ]
  },
  {
   "cell_type": "code",
   "execution_count": 34,
   "metadata": {},
   "outputs": [
    {
     "data": {
      "text/plain": [
       "922    forwarded by phillip k allenhouect on 04102001...\n",
       "90     open the utility spreadsheet and try to comple...\n",
       "911    jeffi am in the office today any isssues to de...\n",
       "181    forwarded by phillip k allenhouect on 04282000...\n",
       "274    forwarded by phillip k allenhouect on 05072001...\n",
       "Name: text_processed, dtype: object"
      ]
     },
     "execution_count": 34,
     "metadata": {},
     "output_type": "execute_result"
    }
   ],
   "source": [
    "X_train.head()"
   ]
  },
  {
   "cell_type": "code",
   "execution_count": 35,
   "metadata": {},
   "outputs": [],
   "source": [
    "stop_words = stopwords.words('english')# replace with space\n",
    "stop_words.extend(['from', 'subject', 're', 'edu', 'use'])"
   ]
  },
  {
   "cell_type": "markdown",
   "metadata": {},
   "source": [
    "### Pad Sequence: Normally model expects that each text sequence  will be of the same length "
   ]
  },
  {
   "cell_type": "code",
   "execution_count": 36,
   "metadata": {},
   "outputs": [],
   "source": [
    "# maxlen = 750 # max number of words in a question to use\n",
    "# train = pad_sequences(xtrain, maxlen=maxlen)\n",
    "# test = pad_sequences(xtest, maxlen=maxlen)"
   ]
  },
  {
   "cell_type": "code",
   "execution_count": 37,
   "metadata": {},
   "outputs": [],
   "source": [
    "df_result = pd.DataFrame(columns=('Type',  'Model', 'Accuray','Precision',\n",
    "                                   'Recall','Fmeasure'))"
   ]
  },
  {
   "cell_type": "markdown",
   "metadata": {},
   "source": [
    "### Naive Bayes"
   ]
  },
  {
   "cell_type": "code",
   "execution_count": 38,
   "metadata": {},
   "outputs": [],
   "source": [
    "# Define a pipeline combining a text feature extractor with multi lable classifier\n",
    "from sklearn.pipeline import Pipeline\n",
    "from sklearn.naive_bayes import MultinomialNB\n",
    "from sklearn.multiclass import OneVsRestClassifier\n",
    "\n",
    "NB_pipeline = Pipeline([\n",
    "                ('tfidf', TfidfVectorizer(stop_words=stop_words)),\n",
    "                ('clf', OneVsRestClassifier(MultinomialNB(\n",
    "                    fit_prior=True, class_prior=None))),\n",
    "            ])"
   ]
  },
  {
   "cell_type": "code",
   "execution_count": 39,
   "metadata": {},
   "outputs": [
    {
     "name": "stdout",
     "output_type": "stream",
     "text": [
      "... Processing TC\n",
      "... Processing SN\n",
      "... Processing KS\n",
      "... Processing OT\n"
     ]
    },
    {
     "name": "stderr",
     "output_type": "stream",
     "text": [
      "C:\\Users\\shrad\\anaconda3\\lib\\site-packages\\sklearn\\metrics\\_classification.py:1245: UndefinedMetricWarning: Precision is ill-defined and being set to 0.0 due to no predicted samples. Use `zero_division` parameter to control this behavior.\n",
      "  _warn_prf(average, modifier, msg_start, len(result))\n"
     ]
    }
   ],
   "source": [
    "result=[]\n",
    "count = 0\n",
    "# df_result.set_index('Type')\n",
    "for category in categories:\n",
    "    print('... Processing {}'.format(category))\n",
    "    # train the model using X_dtm & y\n",
    "    NB_pipeline.fit(X_train, train[category])\n",
    "    # compute the testing accuracy\n",
    "    prediction = NB_pipeline.predict(X_test)\n",
    "    result = {'Type' :category,\n",
    "              'Model' : 'NB',\n",
    "             ('Accuray' ):  accuracy_score(test[category], prediction),\n",
    "             ('Precision' ) :precision_score(test[category], prediction),\n",
    "             ('Recall') :recall_score(test[category], prediction),\n",
    "             ('Fmeasure') :f1_score(test[category], prediction)}\n",
    "    \n",
    "    row_to_add = pd.Series(result, name='x')\n",
    "    df_result = df_result.append(result ,ignore_index=True)\n",
    "\n",
    "    "
   ]
  },
  {
   "cell_type": "markdown",
   "metadata": {},
   "source": [
    "### Linear SVC"
   ]
  },
  {
   "cell_type": "code",
   "execution_count": 40,
   "metadata": {},
   "outputs": [],
   "source": [
    "from sklearn.svm import LinearSVC\n",
    "SVC_pipeline = Pipeline([\n",
    "                ('tfidf', TfidfVectorizer(stop_words=stop_words)),\n",
    "                ('clf', OneVsRestClassifier(LinearSVC(), n_jobs=1)),\n",
    "            ])\n"
   ]
  },
  {
   "cell_type": "code",
   "execution_count": 41,
   "metadata": {},
   "outputs": [
    {
     "name": "stdout",
     "output_type": "stream",
     "text": [
      "... Processing TC\n",
      "... Processing SN\n",
      "... Processing KS\n",
      "... Processing OT\n"
     ]
    }
   ],
   "source": [
    "for category in categories:\n",
    "    print('... Processing {}'.format(category))\n",
    "    # train the model using X_dtm & y\n",
    "    SVC_pipeline.fit(X_train, train[category])\n",
    "    # compute the testing accuracy\n",
    "    prediction = SVC_pipeline.predict(X_test)\n",
    "    result = {'Type' :category,\n",
    "              'Model' : 'SVC',\n",
    "             ('Accuray' ):  accuracy_score(test[category], prediction),\n",
    "             ('Precision' ) :precision_score(test[category], prediction),\n",
    "             ('Recall') :recall_score(test[category], prediction),\n",
    "             ('Fmeasure') :f1_score(test[category], prediction)}\n",
    "    \n",
    "    row_to_add = pd.Series(result, name='x')\n",
    "    df_result = df_result.append(result ,ignore_index=True)"
   ]
  },
  {
   "cell_type": "markdown",
   "metadata": {},
   "source": [
    "### Logistic Regression"
   ]
  },
  {
   "cell_type": "code",
   "execution_count": 42,
   "metadata": {},
   "outputs": [],
   "source": [
    "from sklearn.linear_model import LogisticRegression\n",
    "LogReg_pipeline = Pipeline([\n",
    "                ('tfidf', TfidfVectorizer(stop_words=stop_words)),\n",
    "                ('clf', OneVsRestClassifier(LogisticRegression(solver='sag'), n_jobs=1)),\n",
    "            ])\n"
   ]
  },
  {
   "cell_type": "code",
   "execution_count": 43,
   "metadata": {},
   "outputs": [
    {
     "name": "stdout",
     "output_type": "stream",
     "text": [
      "... Processing TC\n",
      "... Processing SN\n",
      "... Processing KS\n",
      "... Processing OT\n"
     ]
    }
   ],
   "source": [
    "for category in categories:\n",
    "    print('... Processing {}'.format(category))\n",
    "    # train the model using X_dtm & y\n",
    "    LogReg_pipeline.fit(X_train, train[category])\n",
    "    # compute the testing accuracy\n",
    "    prediction = LogReg_pipeline.predict(X_test)\n",
    "    result = {'Type' :category,\n",
    "              'Model' : 'LR',\n",
    "             ('Accuray' ):  accuracy_score(test[category], prediction),\n",
    "             ('Precision' ) :precision_score(test[category], prediction),\n",
    "             ('Recall') :recall_score(test[category], prediction),\n",
    "             ('Fmeasure') :f1_score(test[category], prediction)}\n",
    "    \n",
    "    row_to_add = pd.Series(result, name='x')\n",
    "    df_result = df_result.append(result ,ignore_index=True)"
   ]
  },
  {
   "cell_type": "markdown",
   "metadata": {},
   "source": [
    "### Artificial Neural Network"
   ]
  },
  {
   "cell_type": "code",
   "execution_count": 44,
   "metadata": {},
   "outputs": [
    {
     "data": {
      "text/plain": [
       "922    forwarded by phillip k allenhouect on 04102001...\n",
       "90     open the utility spreadsheet and try to comple...\n",
       "911    jeffi am in the office today any isssues to de...\n",
       "181    forwarded by phillip k allenhouect on 04282000...\n",
       "274    forwarded by phillip k allenhouect on 05072001...\n",
       "Name: text_processed, dtype: object"
      ]
     },
     "execution_count": 44,
     "metadata": {},
     "output_type": "execute_result"
    }
   ],
   "source": [
    "X_train.head()"
   ]
  },
  {
   "cell_type": "code",
   "execution_count": 46,
   "metadata": {},
   "outputs": [],
   "source": [
    "x_train = X_train.map(lambda com : clean_text(com))\n",
    "x_train = X_train.map(lambda x: x.lower())\n",
    "\n",
    "\n",
    "x_test = X_test.map(lambda com : clean_text(com))\n",
    "x_test = X_test.map(lambda x: x.lower())"
   ]
  },
  {
   "cell_type": "code",
   "execution_count": 48,
   "metadata": {},
   "outputs": [],
   "source": [
    "\n",
    "vocab_size = 20000\n",
    "tokenizer = Tokenizer(num_words=vocab_size, oov_token='<OOV>')\n",
    "tokenizer.fit_on_texts(x_train)\n",
    "word_index = tokenizer.word_index\n",
    "x_seq = tokenizer.texts_to_sequences(x_train)\n",
    "\n",
    "\n",
    "tokenizer.fit_on_texts(x_test)\n",
    "word_index = tokenizer.word_index\n",
    "x_seq_test = tokenizer.texts_to_sequences(x_test)"
   ]
  },
  {
   "cell_type": "code",
   "execution_count": 49,
   "metadata": {},
   "outputs": [
    {
     "data": {
      "text/plain": [
       "1458"
      ]
     },
     "execution_count": 49,
     "metadata": {},
     "output_type": "execute_result"
    }
   ],
   "source": [
    "max([len(e) for e in x_seq])"
   ]
  },
  {
   "cell_type": "code",
   "execution_count": 50,
   "metadata": {},
   "outputs": [],
   "source": [
    "padding_type = 'post'\n",
    "max_len = 1500\n",
    "x_train = pad_sequences(x_seq, padding=padding_type, maxlen=max_len)\n",
    "\n",
    "x_test = pad_sequences(x_seq_test, padding=padding_type, maxlen=max_len)"
   ]
  },
  {
   "cell_type": "code",
   "execution_count": 51,
   "metadata": {},
   "outputs": [],
   "source": [
    "import tensorflow as tf\n",
    "model = tf.keras.Sequential([\n",
    "                            tf.keras.layers.Embedding(vocab_size, 32, input_length=x_train.shape[1]),\n",
    "                            tf.keras.layers.GlobalAveragePooling1D(),\n",
    "                            tf.keras.layers.Dropout(0.2),\n",
    "                            tf.keras.layers.Dense(32, activation='relu'),\n",
    "                            tf.keras.layers.Dropout(0.2),\n",
    "                            tf.keras.layers.Dense(1, activation='sigmoid')\n",
    "])"
   ]
  },
  {
   "cell_type": "code",
   "execution_count": 52,
   "metadata": {},
   "outputs": [
    {
     "name": "stdout",
     "output_type": "stream",
     "text": [
      "Model: \"sequential\"\n",
      "_________________________________________________________________\n",
      "Layer (type)                 Output Shape              Param #   \n",
      "=================================================================\n",
      "embedding (Embedding)        (None, 1500, 32)          640000    \n",
      "_________________________________________________________________\n",
      "global_average_pooling1d (Gl (None, 32)                0         \n",
      "_________________________________________________________________\n",
      "dropout (Dropout)            (None, 32)                0         \n",
      "_________________________________________________________________\n",
      "dense (Dense)                (None, 32)                1056      \n",
      "_________________________________________________________________\n",
      "dropout_1 (Dropout)          (None, 32)                0         \n",
      "_________________________________________________________________\n",
      "dense_1 (Dense)              (None, 1)                 33        \n",
      "=================================================================\n",
      "Total params: 641,089\n",
      "Trainable params: 641,089\n",
      "Non-trainable params: 0\n",
      "_________________________________________________________________\n"
     ]
    }
   ],
   "source": [
    "model.compile(loss='binary_crossentropy', optimizer='adam', metrics=['accuracy'])\n",
    "model.summary()"
   ]
  },
  {
   "cell_type": "code",
   "execution_count": 53,
   "metadata": {},
   "outputs": [
    {
     "name": "stdout",
     "output_type": "stream",
     "text": [
      "... Processing TC\n",
      "Epoch 1/50\n"
     ]
    },
    {
     "name": "stderr",
     "output_type": "stream",
     "text": [
      "C:\\Users\\shrad\\anaconda3\\lib\\site-packages\\tensorflow\\python\\framework\\tensor_util.py:523: DeprecationWarning: tostring() is deprecated. Use tobytes() instead.\n",
      "  tensor_proto.tensor_content = nparray.tostring()\n"
     ]
    },
    {
     "name": "stdout",
     "output_type": "stream",
     "text": [
      "21/21 [==============================] - 1s 26ms/step - loss: 0.6792 - accuracy: 0.6723\n",
      "Epoch 2/50\n",
      "21/21 [==============================] - 1s 26ms/step - loss: 0.6609 - accuracy: 0.6692\n",
      "Epoch 3/50\n",
      "21/21 [==============================] - 1s 25ms/step - loss: 0.6455 - accuracy: 0.6692\n",
      "Epoch 4/50\n",
      "21/21 [==============================] - 1s 26ms/step - loss: 0.6378 - accuracy: 0.6692\n",
      "Epoch 5/50\n",
      "21/21 [==============================] - 1s 26ms/step - loss: 0.6390 - accuracy: 0.6692\n",
      "Epoch 6/50\n",
      "21/21 [==============================] - 1s 26ms/step - loss: 0.6353 - accuracy: 0.6692\n",
      "Epoch 7/50\n",
      "21/21 [==============================] - 1s 26ms/step - loss: 0.6376 - accuracy: 0.6692\n",
      "Epoch 8/50\n",
      "21/21 [==============================] - 1s 27ms/step - loss: 0.6368 - accuracy: 0.6692\n",
      "Epoch 9/50\n",
      "21/21 [==============================] - 1s 26ms/step - loss: 0.6339 - accuracy: 0.6692\n",
      "Epoch 10/50\n",
      "21/21 [==============================] - 1s 26ms/step - loss: 0.6305 - accuracy: 0.6692\n",
      "Epoch 11/50\n",
      "21/21 [==============================] - 1s 24ms/step - loss: 0.6274 - accuracy: 0.6692\n",
      "Epoch 12/50\n",
      "21/21 [==============================] - 1s 24ms/step - loss: 0.6256 - accuracy: 0.6692\n",
      "Epoch 13/50\n",
      "21/21 [==============================] - 1s 24ms/step - loss: 0.6228 - accuracy: 0.6692\n",
      "Epoch 14/50\n",
      "21/21 [==============================] - 1s 24ms/step - loss: 0.6192 - accuracy: 0.6692\n",
      "Epoch 15/50\n",
      "21/21 [==============================] - 0s 24ms/step - loss: 0.6165 - accuracy: 0.6692\n",
      "Epoch 16/50\n",
      "21/21 [==============================] - 1s 26ms/step - loss: 0.6128 - accuracy: 0.6692\n",
      "Epoch 17/50\n",
      "21/21 [==============================] - 1s 26ms/step - loss: 0.6090 - accuracy: 0.6692\n",
      "Epoch 18/50\n",
      "21/21 [==============================] - 1s 26ms/step - loss: 0.6006 - accuracy: 0.6692\n",
      "Epoch 19/50\n",
      "21/21 [==============================] - 1s 28ms/step - loss: 0.5982 - accuracy: 0.6692\n",
      "Epoch 20/50\n",
      "21/21 [==============================] - 1s 25ms/step - loss: 0.5908 - accuracy: 0.6692\n",
      "Epoch 21/50\n",
      "21/21 [==============================] - 1s 27ms/step - loss: 0.5904 - accuracy: 0.6692\n",
      "Epoch 22/50\n",
      "21/21 [==============================] - 1s 26ms/step - loss: 0.5817 - accuracy: 0.6692\n",
      "Epoch 23/50\n",
      "21/21 [==============================] - 1s 27ms/step - loss: 0.5733 - accuracy: 0.6692\n",
      "Epoch 24/50\n",
      "21/21 [==============================] - 1s 25ms/step - loss: 0.5694 - accuracy: 0.6692\n",
      "Epoch 25/50\n",
      "21/21 [==============================] - 1s 26ms/step - loss: 0.5683 - accuracy: 0.6754\n",
      "Epoch 26/50\n",
      "21/21 [==============================] - 1s 26ms/step - loss: 0.5537 - accuracy: 0.6692\n",
      "Epoch 27/50\n",
      "21/21 [==============================] - 1s 26ms/step - loss: 0.5471 - accuracy: 0.6785 0s - loss: 0.5471 - accuracy: 0.67\n",
      "Epoch 28/50\n",
      "21/21 [==============================] - 1s 25ms/step - loss: 0.5492 - accuracy: 0.6708\n",
      "Epoch 29/50\n",
      "21/21 [==============================] - 1s 27ms/step - loss: 0.5422 - accuracy: 0.6785\n",
      "Epoch 30/50\n",
      "21/21 [==============================] - 1s 26ms/step - loss: 0.5330 - accuracy: 0.6785\n",
      "Epoch 31/50\n",
      "21/21 [==============================] - 1s 25ms/step - loss: 0.5325 - accuracy: 0.7185\n",
      "Epoch 32/50\n",
      "21/21 [==============================] - 0s 22ms/step - loss: 0.5202 - accuracy: 0.7462\n",
      "Epoch 33/50\n",
      "21/21 [==============================] - 0s 21ms/step - loss: 0.5217 - accuracy: 0.7015\n",
      "Epoch 34/50\n",
      "21/21 [==============================] - 0s 22ms/step - loss: 0.5119 - accuracy: 0.7523\n",
      "Epoch 35/50\n",
      "21/21 [==============================] - 0s 23ms/step - loss: 0.5036 - accuracy: 0.7662\n",
      "Epoch 36/50\n",
      "21/21 [==============================] - 1s 26ms/step - loss: 0.4999 - accuracy: 0.7308\n",
      "Epoch 37/50\n",
      "21/21 [==============================] - 1s 25ms/step - loss: 0.4993 - accuracy: 0.7708\n",
      "Epoch 38/50\n",
      "21/21 [==============================] - 0s 23ms/step - loss: 0.4926 - accuracy: 0.7646\n",
      "Epoch 39/50\n",
      "21/21 [==============================] - 0s 21ms/step - loss: 0.4941 - accuracy: 0.7554\n",
      "Epoch 40/50\n",
      "21/21 [==============================] - 0s 22ms/step - loss: 0.4823 - accuracy: 0.7862\n",
      "Epoch 41/50\n",
      "21/21 [==============================] - 0s 20ms/step - loss: 0.4743 - accuracy: 0.7938\n",
      "Epoch 42/50\n",
      "21/21 [==============================] - 0s 22ms/step - loss: 0.4837 - accuracy: 0.7831\n",
      "Epoch 43/50\n",
      "21/21 [==============================] - 0s 23ms/step - loss: 0.4744 - accuracy: 0.7862\n",
      "Epoch 44/50\n",
      "21/21 [==============================] - 1s 25ms/step - loss: 0.4722 - accuracy: 0.7800\n",
      "Epoch 45/50\n",
      "21/21 [==============================] - 1s 26ms/step - loss: 0.4706 - accuracy: 0.7523\n",
      "Epoch 46/50\n",
      "21/21 [==============================] - 0s 23ms/step - loss: 0.4566 - accuracy: 0.8046\n",
      "Epoch 47/50\n",
      "21/21 [==============================] - 1s 25ms/step - loss: 0.4538 - accuracy: 0.8169\n",
      "Epoch 48/50\n",
      "21/21 [==============================] - 1s 25ms/step - loss: 0.4625 - accuracy: 0.7785\n",
      "Epoch 49/50\n",
      "21/21 [==============================] - 1s 25ms/step - loss: 0.4373 - accuracy: 0.8323\n",
      "Epoch 50/50\n",
      "21/21 [==============================] - 1s 26ms/step - loss: 0.4418 - accuracy: 0.8185\n"
     ]
    },
    {
     "name": "stderr",
     "output_type": "stream",
     "text": [
      "C:\\Users\\shrad\\anaconda3\\lib\\site-packages\\tensorflow\\python\\framework\\tensor_util.py:523: DeprecationWarning: tostring() is deprecated. Use tobytes() instead.\n",
      "  tensor_proto.tensor_content = nparray.tostring()\n",
      "C:\\Users\\shrad\\anaconda3\\lib\\site-packages\\tensorflow\\python\\framework\\tensor_util.py:523: DeprecationWarning: tostring() is deprecated. Use tobytes() instead.\n",
      "  tensor_proto.tensor_content = nparray.tostring()\n"
     ]
    },
    {
     "name": "stdout",
     "output_type": "stream",
     "text": [
      "... Processing SN\n",
      "Epoch 1/50\n",
      " 3/21 [===>..........................] - ETA: 0s - loss: 1.5439 - accuracy: 0.2500"
     ]
    },
    {
     "name": "stderr",
     "output_type": "stream",
     "text": [
      "C:\\Users\\shrad\\anaconda3\\lib\\site-packages\\tensorflow\\python\\framework\\tensor_util.py:523: DeprecationWarning: tostring() is deprecated. Use tobytes() instead.\n",
      "  tensor_proto.tensor_content = nparray.tostring()\n"
     ]
    },
    {
     "name": "stdout",
     "output_type": "stream",
     "text": [
      "21/21 [==============================] - 1s 27ms/step - loss: 1.3832 - accuracy: 0.5046\n",
      "Epoch 2/50\n",
      "21/21 [==============================] - 1s 27ms/step - loss: 0.9020 - accuracy: 0.6938\n",
      "Epoch 3/50\n",
      "21/21 [==============================] - 1s 27ms/step - loss: 0.7486 - accuracy: 0.7031\n",
      "Epoch 4/50\n",
      "21/21 [==============================] - 1s 27ms/step - loss: 0.6955 - accuracy: 0.7031\n",
      "Epoch 5/50\n",
      "21/21 [==============================] - 1s 26ms/step - loss: 0.6422 - accuracy: 0.7215\n",
      "Epoch 6/50\n",
      "21/21 [==============================] - 1s 28ms/step - loss: 0.6119 - accuracy: 0.7277\n",
      "Epoch 7/50\n",
      "21/21 [==============================] - 1s 28ms/step - loss: 0.6057 - accuracy: 0.7308\n",
      "Epoch 8/50\n",
      "21/21 [==============================] - 1s 26ms/step - loss: 0.5723 - accuracy: 0.7431\n",
      "Epoch 9/50\n",
      "21/21 [==============================] - 1s 27ms/step - loss: 0.5509 - accuracy: 0.7446\n",
      "Epoch 10/50\n",
      "21/21 [==============================] - 1s 27ms/step - loss: 0.5438 - accuracy: 0.7523\n",
      "Epoch 11/50\n",
      "21/21 [==============================] - 1s 27ms/step - loss: 0.5321 - accuracy: 0.7523\n",
      "Epoch 12/50\n",
      "21/21 [==============================] - 1s 27ms/step - loss: 0.5251 - accuracy: 0.7554\n",
      "Epoch 13/50\n",
      "21/21 [==============================] - 1s 28ms/step - loss: 0.5151 - accuracy: 0.7538\n",
      "Epoch 14/50\n",
      "21/21 [==============================] - 1s 26ms/step - loss: 0.5051 - accuracy: 0.7538\n",
      "Epoch 15/50\n",
      "21/21 [==============================] - 1s 27ms/step - loss: 0.4998 - accuracy: 0.7538\n",
      "Epoch 16/50\n",
      "21/21 [==============================] - 1s 25ms/step - loss: 0.4890 - accuracy: 0.7538\n",
      "Epoch 17/50\n",
      "21/21 [==============================] - 1s 25ms/step - loss: 0.4872 - accuracy: 0.7569\n",
      "Epoch 18/50\n",
      "21/21 [==============================] - 1s 25ms/step - loss: 0.4854 - accuracy: 0.7585\n",
      "Epoch 19/50\n",
      "21/21 [==============================] - 1s 26ms/step - loss: 0.4788 - accuracy: 0.7554\n",
      "Epoch 20/50\n",
      "21/21 [==============================] - 1s 25ms/step - loss: 0.4740 - accuracy: 0.7554\n",
      "Epoch 21/50\n",
      "21/21 [==============================] - 1s 26ms/step - loss: 0.4634 - accuracy: 0.7554\n",
      "Epoch 22/50\n",
      "21/21 [==============================] - 1s 24ms/step - loss: 0.4628 - accuracy: 0.7492\n",
      "Epoch 23/50\n",
      "21/21 [==============================] - 1s 26ms/step - loss: 0.4476 - accuracy: 0.7523\n",
      "Epoch 24/50\n",
      "21/21 [==============================] - 1s 26ms/step - loss: 0.4485 - accuracy: 0.7600 0s - loss: 0.4316 - accu\n",
      "Epoch 25/50\n",
      "21/21 [==============================] - 1s 26ms/step - loss: 0.4443 - accuracy: 0.7662\n",
      "Epoch 26/50\n",
      "21/21 [==============================] - 0s 24ms/step - loss: 0.4370 - accuracy: 0.7754\n",
      "Epoch 27/50\n",
      "21/21 [==============================] - 1s 27ms/step - loss: 0.4331 - accuracy: 0.7646\n",
      "Epoch 28/50\n",
      "21/21 [==============================] - 1s 26ms/step - loss: 0.4289 - accuracy: 0.7615\n",
      "Epoch 29/50\n",
      "21/21 [==============================] - 1s 27ms/step - loss: 0.4279 - accuracy: 0.7677\n",
      "Epoch 30/50\n",
      "21/21 [==============================] - 1s 26ms/step - loss: 0.4254 - accuracy: 0.7754\n",
      "Epoch 31/50\n",
      "21/21 [==============================] - 1s 27ms/step - loss: 0.4096 - accuracy: 0.8031\n",
      "Epoch 32/50\n",
      "21/21 [==============================] - 1s 27ms/step - loss: 0.4151 - accuracy: 0.7677\n",
      "Epoch 33/50\n",
      "21/21 [==============================] - 1s 27ms/step - loss: 0.4107 - accuracy: 0.7769\n",
      "Epoch 34/50\n",
      "21/21 [==============================] - 1s 26ms/step - loss: 0.4059 - accuracy: 0.7846\n",
      "Epoch 35/50\n",
      "21/21 [==============================] - 1s 27ms/step - loss: 0.3979 - accuracy: 0.7815 0s - loss: 0.3880 - accuracy: \n",
      "Epoch 36/50\n",
      "21/21 [==============================] - 1s 26ms/step - loss: 0.3970 - accuracy: 0.7892\n",
      "Epoch 37/50\n",
      "21/21 [==============================] - 1s 26ms/step - loss: 0.3820 - accuracy: 0.7985\n",
      "Epoch 38/50\n",
      "21/21 [==============================] - 1s 28ms/step - loss: 0.3743 - accuracy: 0.8046 0s - loss: 0.3573 - accu\n",
      "Epoch 39/50\n",
      "21/21 [==============================] - 1s 26ms/step - loss: 0.3763 - accuracy: 0.8138\n",
      "Epoch 40/50\n",
      "21/21 [==============================] - 1s 24ms/step - loss: 0.3836 - accuracy: 0.8062\n",
      "Epoch 41/50\n",
      "21/21 [==============================] - 0s 24ms/step - loss: 0.3685 - accuracy: 0.8123\n",
      "Epoch 42/50\n",
      "21/21 [==============================] - 1s 27ms/step - loss: 0.3666 - accuracy: 0.8231\n",
      "Epoch 43/50\n",
      "21/21 [==============================] - 1s 27ms/step - loss: 0.3650 - accuracy: 0.8092\n",
      "Epoch 44/50\n",
      "21/21 [==============================] - 1s 27ms/step - loss: 0.3617 - accuracy: 0.8231\n",
      "Epoch 45/50\n",
      "21/21 [==============================] - 1s 26ms/step - loss: 0.3552 - accuracy: 0.8323\n",
      "Epoch 46/50\n",
      "21/21 [==============================] - 1s 27ms/step - loss: 0.3593 - accuracy: 0.8200\n",
      "Epoch 47/50\n",
      "21/21 [==============================] - 1s 28ms/step - loss: 0.3513 - accuracy: 0.8308\n",
      "Epoch 48/50\n",
      "21/21 [==============================] - 1s 26ms/step - loss: 0.3491 - accuracy: 0.8292\n",
      "Epoch 49/50\n",
      "21/21 [==============================] - 1s 27ms/step - loss: 0.3408 - accuracy: 0.8431\n",
      "Epoch 50/50\n",
      "21/21 [==============================] - 1s 26ms/step - loss: 0.3392 - accuracy: 0.8538\n"
     ]
    },
    {
     "name": "stderr",
     "output_type": "stream",
     "text": [
      "C:\\Users\\shrad\\anaconda3\\lib\\site-packages\\tensorflow\\python\\framework\\tensor_util.py:523: DeprecationWarning: tostring() is deprecated. Use tobytes() instead.\n",
      "  tensor_proto.tensor_content = nparray.tostring()\n",
      "C:\\Users\\shrad\\anaconda3\\lib\\site-packages\\tensorflow\\python\\framework\\tensor_util.py:523: DeprecationWarning: tostring() is deprecated. Use tobytes() instead.\n",
      "  tensor_proto.tensor_content = nparray.tostring()\n"
     ]
    },
    {
     "name": "stdout",
     "output_type": "stream",
     "text": [
      "... Processing KS\n",
      "Epoch 1/50\n",
      "\r",
      " 1/21 [>.............................] - ETA: 0s - loss: 1.6130 - accuracy: 0.6562"
     ]
    },
    {
     "name": "stderr",
     "output_type": "stream",
     "text": [
      "C:\\Users\\shrad\\anaconda3\\lib\\site-packages\\tensorflow\\python\\framework\\tensor_util.py:523: DeprecationWarning: tostring() is deprecated. Use tobytes() instead.\n",
      "  tensor_proto.tensor_content = nparray.tostring()\n"
     ]
    },
    {
     "name": "stdout",
     "output_type": "stream",
     "text": [
      "21/21 [==============================] - 1s 30ms/step - loss: 1.1705 - accuracy: 0.8092\n",
      "Epoch 2/50\n",
      "21/21 [==============================] - 1s 27ms/step - loss: 0.8424 - accuracy: 0.8477\n",
      "Epoch 3/50\n",
      "21/21 [==============================] - 1s 27ms/step - loss: 0.6449 - accuracy: 0.8492\n",
      "Epoch 4/50\n",
      "21/21 [==============================] - 1s 27ms/step - loss: 0.5220 - accuracy: 0.8477\n",
      "Epoch 5/50\n",
      "21/21 [==============================] - 1s 26ms/step - loss: 0.4639 - accuracy: 0.8523\n",
      "Epoch 6/50\n",
      "21/21 [==============================] - 1s 27ms/step - loss: 0.4081 - accuracy: 0.8585 0s - loss: 0.3698 - \n",
      "Epoch 7/50\n",
      "21/21 [==============================] - 1s 27ms/step - loss: 0.3652 - accuracy: 0.8708 0s - loss: 0.3762 - accu\n",
      "Epoch 8/50\n",
      "21/21 [==============================] - 1s 25ms/step - loss: 0.3496 - accuracy: 0.8738\n",
      "Epoch 9/50\n",
      "21/21 [==============================] - 1s 26ms/step - loss: 0.3194 - accuracy: 0.8800\n",
      "Epoch 10/50\n",
      "21/21 [==============================] - ETA: 0s - loss: 0.3035 - accuracy: 0.88 - 1s 25ms/step - loss: 0.3086 - accuracy: 0.8862\n",
      "Epoch 11/50\n",
      "21/21 [==============================] - 1s 26ms/step - loss: 0.3039 - accuracy: 0.8938\n",
      "Epoch 12/50\n",
      "21/21 [==============================] - 1s 27ms/step - loss: 0.2949 - accuracy: 0.9015\n",
      "Epoch 13/50\n",
      "21/21 [==============================] - 1s 27ms/step - loss: 0.2791 - accuracy: 0.9015\n",
      "Epoch 14/50\n",
      "21/21 [==============================] - 1s 27ms/step - loss: 0.2864 - accuracy: 0.8954\n",
      "Epoch 15/50\n",
      "21/21 [==============================] - 1s 27ms/step - loss: 0.2718 - accuracy: 0.8923\n",
      "Epoch 16/50\n",
      "21/21 [==============================] - 1s 26ms/step - loss: 0.2573 - accuracy: 0.9000\n",
      "Epoch 17/50\n",
      "21/21 [==============================] - 1s 26ms/step - loss: 0.2644 - accuracy: 0.9000\n",
      "Epoch 18/50\n",
      "21/21 [==============================] - 1s 26ms/step - loss: 0.2468 - accuracy: 0.9046\n",
      "Epoch 19/50\n",
      "21/21 [==============================] - 1s 27ms/step - loss: 0.2510 - accuracy: 0.9015\n",
      "Epoch 20/50\n",
      "21/21 [==============================] - 1s 27ms/step - loss: 0.2305 - accuracy: 0.9154\n",
      "Epoch 21/50\n",
      "21/21 [==============================] - 1s 27ms/step - loss: 0.2317 - accuracy: 0.9138\n",
      "Epoch 22/50\n",
      "21/21 [==============================] - 1s 26ms/step - loss: 0.2231 - accuracy: 0.9200\n",
      "Epoch 23/50\n",
      "21/21 [==============================] - 1s 24ms/step - loss: 0.2328 - accuracy: 0.9138 0s - loss: 0.2368 - accuracy: \n",
      "Epoch 24/50\n",
      "21/21 [==============================] - 1s 27ms/step - loss: 0.2053 - accuracy: 0.9277\n",
      "Epoch 25/50\n",
      "21/21 [==============================] - 1s 26ms/step - loss: 0.2309 - accuracy: 0.9123\n",
      "Epoch 26/50\n",
      "21/21 [==============================] - 1s 25ms/step - loss: 0.2120 - accuracy: 0.9262\n",
      "Epoch 27/50\n",
      "21/21 [==============================] - 1s 26ms/step - loss: 0.2058 - accuracy: 0.9200\n",
      "Epoch 28/50\n",
      "21/21 [==============================] - 1s 25ms/step - loss: 0.2231 - accuracy: 0.9262\n",
      "Epoch 29/50\n",
      "21/21 [==============================] - 1s 24ms/step - loss: 0.2076 - accuracy: 0.9215\n",
      "Epoch 30/50\n",
      "21/21 [==============================] - 1s 25ms/step - loss: 0.2148 - accuracy: 0.9154\n",
      "Epoch 31/50\n",
      "21/21 [==============================] - 1s 24ms/step - loss: 0.2073 - accuracy: 0.9246\n",
      "Epoch 32/50\n",
      "21/21 [==============================] - 1s 25ms/step - loss: 0.1942 - accuracy: 0.9308\n",
      "Epoch 33/50\n",
      "21/21 [==============================] - 1s 25ms/step - loss: 0.1832 - accuracy: 0.9369\n",
      "Epoch 34/50\n",
      "21/21 [==============================] - 1s 27ms/step - loss: 0.1965 - accuracy: 0.9231\n",
      "Epoch 35/50\n",
      "21/21 [==============================] - 1s 28ms/step - loss: 0.1775 - accuracy: 0.9400\n",
      "Epoch 36/50\n",
      "21/21 [==============================] - 1s 25ms/step - loss: 0.1805 - accuracy: 0.9338\n",
      "Epoch 37/50\n",
      "21/21 [==============================] - 1s 26ms/step - loss: 0.1894 - accuracy: 0.9369\n",
      "Epoch 38/50\n",
      "21/21 [==============================] - 1s 25ms/step - loss: 0.1953 - accuracy: 0.9323\n",
      "Epoch 39/50\n",
      "21/21 [==============================] - 1s 27ms/step - loss: 0.1789 - accuracy: 0.9215\n",
      "Epoch 40/50\n",
      "21/21 [==============================] - 1s 24ms/step - loss: 0.1651 - accuracy: 0.9431\n",
      "Epoch 41/50\n",
      "21/21 [==============================] - 1s 25ms/step - loss: 0.1815 - accuracy: 0.9308\n",
      "Epoch 42/50\n",
      "21/21 [==============================] - 1s 26ms/step - loss: 0.1765 - accuracy: 0.9308\n",
      "Epoch 43/50\n",
      "21/21 [==============================] - 1s 26ms/step - loss: 0.1708 - accuracy: 0.9431\n",
      "Epoch 44/50\n",
      "21/21 [==============================] - 1s 27ms/step - loss: 0.1668 - accuracy: 0.9415\n",
      "Epoch 45/50\n",
      "21/21 [==============================] - 1s 26ms/step - loss: 0.1686 - accuracy: 0.9446\n",
      "Epoch 46/50\n",
      "21/21 [==============================] - 1s 25ms/step - loss: 0.1633 - accuracy: 0.9415\n",
      "Epoch 47/50\n",
      "21/21 [==============================] - 1s 25ms/step - loss: 0.1730 - accuracy: 0.9415\n",
      "Epoch 48/50\n",
      "21/21 [==============================] - 1s 26ms/step - loss: 0.1571 - accuracy: 0.9462\n",
      "Epoch 49/50\n",
      "21/21 [==============================] - 0s 23ms/step - loss: 0.1708 - accuracy: 0.9385\n",
      "Epoch 50/50\n",
      "21/21 [==============================] - 1s 26ms/step - loss: 0.1557 - accuracy: 0.9492\n"
     ]
    },
    {
     "name": "stderr",
     "output_type": "stream",
     "text": [
      "C:\\Users\\shrad\\anaconda3\\lib\\site-packages\\tensorflow\\python\\framework\\tensor_util.py:523: DeprecationWarning: tostring() is deprecated. Use tobytes() instead.\n",
      "  tensor_proto.tensor_content = nparray.tostring()\n",
      "C:\\Users\\shrad\\anaconda3\\lib\\site-packages\\tensorflow\\python\\framework\\tensor_util.py:523: DeprecationWarning: tostring() is deprecated. Use tobytes() instead.\n",
      "  tensor_proto.tensor_content = nparray.tostring()\n"
     ]
    },
    {
     "name": "stdout",
     "output_type": "stream",
     "text": [
      "... Processing OT\n",
      "Epoch 1/50\n",
      " 5/21 [======>.......................] - ETA: 0s - loss: 0.9619 - accuracy: 0.8062"
     ]
    },
    {
     "name": "stderr",
     "output_type": "stream",
     "text": [
      "C:\\Users\\shrad\\anaconda3\\lib\\site-packages\\tensorflow\\python\\framework\\tensor_util.py:523: DeprecationWarning: tostring() is deprecated. Use tobytes() instead.\n",
      "  tensor_proto.tensor_content = nparray.tostring()\n"
     ]
    },
    {
     "name": "stdout",
     "output_type": "stream",
     "text": [
      "21/21 [==============================] - 1s 25ms/step - loss: 0.7217 - accuracy: 0.8431\n",
      "Epoch 2/50\n",
      "21/21 [==============================] - 1s 25ms/step - loss: 0.4384 - accuracy: 0.8800\n",
      "Epoch 3/50\n",
      "21/21 [==============================] - 1s 26ms/step - loss: 0.3272 - accuracy: 0.8938\n",
      "Epoch 4/50\n",
      "21/21 [==============================] - 1s 26ms/step - loss: 0.2899 - accuracy: 0.9185\n",
      "Epoch 5/50\n",
      "21/21 [==============================] - 1s 27ms/step - loss: 0.2724 - accuracy: 0.9169\n",
      "Epoch 6/50\n",
      "21/21 [==============================] - 1s 25ms/step - loss: 0.2698 - accuracy: 0.9246\n",
      "Epoch 7/50\n",
      "21/21 [==============================] - 1s 27ms/step - loss: 0.2746 - accuracy: 0.9246\n",
      "Epoch 8/50\n",
      "21/21 [==============================] - 1s 26ms/step - loss: 0.2684 - accuracy: 0.9246\n",
      "Epoch 9/50\n",
      "21/21 [==============================] - 1s 26ms/step - loss: 0.2705 - accuracy: 0.9246\n",
      "Epoch 10/50\n",
      "21/21 [==============================] - 1s 26ms/step - loss: 0.2620 - accuracy: 0.9246\n",
      "Epoch 11/50\n",
      "21/21 [==============================] - 1s 26ms/step - loss: 0.2705 - accuracy: 0.9246 0s - loss: 0.3524 - \n",
      "Epoch 12/50\n",
      "21/21 [==============================] - 1s 27ms/step - loss: 0.2563 - accuracy: 0.9246\n",
      "Epoch 13/50\n",
      "21/21 [==============================] - 1s 26ms/step - loss: 0.2549 - accuracy: 0.9231\n",
      "Epoch 14/50\n",
      "21/21 [==============================] - 1s 27ms/step - loss: 0.2658 - accuracy: 0.9246\n",
      "Epoch 15/50\n",
      "21/21 [==============================] - 1s 26ms/step - loss: 0.2569 - accuracy: 0.9246\n",
      "Epoch 16/50\n",
      "21/21 [==============================] - 1s 26ms/step - loss: 0.2569 - accuracy: 0.9246\n",
      "Epoch 17/50\n",
      "21/21 [==============================] - 1s 26ms/step - loss: 0.2508 - accuracy: 0.9246\n",
      "Epoch 18/50\n",
      "21/21 [==============================] - 1s 26ms/step - loss: 0.2509 - accuracy: 0.9246\n",
      "Epoch 19/50\n",
      "21/21 [==============================] - 1s 26ms/step - loss: 0.2498 - accuracy: 0.9246\n",
      "Epoch 20/50\n",
      "21/21 [==============================] - 1s 27ms/step - loss: 0.2592 - accuracy: 0.9246\n",
      "Epoch 21/50\n",
      "21/21 [==============================] - 1s 27ms/step - loss: 0.2515 - accuracy: 0.9246\n",
      "Epoch 22/50\n",
      "21/21 [==============================] - 1s 27ms/step - loss: 0.2555 - accuracy: 0.9246\n",
      "Epoch 23/50\n",
      "21/21 [==============================] - 1s 27ms/step - loss: 0.2460 - accuracy: 0.9246\n",
      "Epoch 24/50\n",
      "21/21 [==============================] - 1s 27ms/step - loss: 0.2443 - accuracy: 0.9246\n",
      "Epoch 25/50\n",
      "21/21 [==============================] - 1s 25ms/step - loss: 0.2481 - accuracy: 0.9246\n",
      "Epoch 26/50\n",
      "21/21 [==============================] - 1s 25ms/step - loss: 0.2406 - accuracy: 0.9246\n",
      "Epoch 27/50\n",
      "21/21 [==============================] - 1s 26ms/step - loss: 0.2387 - accuracy: 0.9246\n",
      "Epoch 28/50\n",
      "21/21 [==============================] - 1s 26ms/step - loss: 0.2366 - accuracy: 0.9231\n",
      "Epoch 29/50\n",
      "21/21 [==============================] - 1s 25ms/step - loss: 0.2383 - accuracy: 0.9262\n",
      "Epoch 30/50\n",
      "21/21 [==============================] - 1s 25ms/step - loss: 0.2372 - accuracy: 0.9246\n",
      "Epoch 31/50\n",
      "21/21 [==============================] - 1s 27ms/step - loss: 0.2373 - accuracy: 0.9231\n",
      "Epoch 32/50\n",
      "21/21 [==============================] - 1s 26ms/step - loss: 0.2389 - accuracy: 0.9246\n",
      "Epoch 33/50\n",
      "21/21 [==============================] - 1s 26ms/step - loss: 0.2332 - accuracy: 0.9262\n",
      "Epoch 34/50\n",
      "21/21 [==============================] - 1s 27ms/step - loss: 0.2332 - accuracy: 0.9262\n",
      "Epoch 35/50\n",
      "21/21 [==============================] - 1s 26ms/step - loss: 0.2327 - accuracy: 0.9246\n",
      "Epoch 36/50\n",
      "21/21 [==============================] - 1s 26ms/step - loss: 0.2258 - accuracy: 0.9246\n",
      "Epoch 37/50\n",
      "21/21 [==============================] - 1s 24ms/step - loss: 0.2260 - accuracy: 0.9246\n",
      "Epoch 38/50\n",
      "21/21 [==============================] - 0s 23ms/step - loss: 0.2293 - accuracy: 0.9262\n",
      "Epoch 39/50\n",
      "21/21 [==============================] - 0s 23ms/step - loss: 0.2198 - accuracy: 0.9231\n",
      "Epoch 40/50\n",
      "21/21 [==============================] - 1s 25ms/step - loss: 0.2237 - accuracy: 0.9231\n",
      "Epoch 41/50\n",
      "21/21 [==============================] - 1s 25ms/step - loss: 0.2238 - accuracy: 0.9231\n",
      "Epoch 42/50\n",
      "21/21 [==============================] - 1s 27ms/step - loss: 0.2156 - accuracy: 0.9231\n",
      "Epoch 43/50\n",
      "21/21 [==============================] - 1s 26ms/step - loss: 0.2115 - accuracy: 0.9246\n",
      "Epoch 44/50\n",
      "21/21 [==============================] - 1s 27ms/step - loss: 0.2166 - accuracy: 0.9246\n",
      "Epoch 45/50\n",
      "21/21 [==============================] - 1s 26ms/step - loss: 0.2205 - accuracy: 0.9246\n",
      "Epoch 46/50\n",
      "21/21 [==============================] - 1s 27ms/step - loss: 0.2231 - accuracy: 0.9292\n",
      "Epoch 47/50\n",
      "21/21 [==============================] - 1s 26ms/step - loss: 0.2090 - accuracy: 0.9262\n",
      "Epoch 48/50\n",
      "21/21 [==============================] - 1s 26ms/step - loss: 0.2164 - accuracy: 0.9262\n",
      "Epoch 49/50\n",
      "21/21 [==============================] - 1s 28ms/step - loss: 0.2039 - accuracy: 0.9308 0s - loss: 0.2147 - accuracy: \n",
      "Epoch 50/50\n",
      "21/21 [==============================] - 1s 26ms/step - loss: 0.2093 - accuracy: 0.9231\n"
     ]
    },
    {
     "name": "stderr",
     "output_type": "stream",
     "text": [
      "C:\\Users\\shrad\\anaconda3\\lib\\site-packages\\tensorflow\\python\\framework\\tensor_util.py:523: DeprecationWarning: tostring() is deprecated. Use tobytes() instead.\n",
      "  tensor_proto.tensor_content = nparray.tostring()\n",
      "C:\\Users\\shrad\\anaconda3\\lib\\site-packages\\tensorflow\\python\\framework\\tensor_util.py:523: DeprecationWarning: tostring() is deprecated. Use tobytes() instead.\n",
      "  tensor_proto.tensor_content = nparray.tostring()\n",
      "C:\\Users\\shrad\\anaconda3\\lib\\site-packages\\sklearn\\metrics\\_classification.py:1245: UndefinedMetricWarning: Precision is ill-defined and being set to 0.0 due to no predicted samples. Use `zero_division` parameter to control this behavior.\n",
      "  _warn_prf(average, modifier, msg_start, len(result))\n"
     ]
    }
   ],
   "source": [
    "from sklearn import metrics\n",
    "for category in categories:\n",
    "    print('... Processing {}'.format(category))\n",
    "    model.fit(x_train,  train[category], epochs=50)\n",
    "\n",
    "    # compute the testing accuracy\n",
    "    prediction = model.predict(x_test)\n",
    "    score = model.evaluate(x_test,test[category], verbose=0)\n",
    "    result = {'Type' :category,\n",
    "              'Model' : 'ANN',\n",
    "              \n",
    "             ('Accuray' ):   score[1],\n",
    "             ('Precision' ) :precision_score(test[category], prediction.round()),\n",
    "             ('Recall') :recall_score(test[category], prediction.round()),\n",
    "             ('Fmeasure') :metrics.f1_score(test[category], prediction.round(), average= \"weighted\") }\n",
    "    \n",
    "    row_to_add = pd.Series(result, name='x')\n",
    "    df_result = df_result.append(result ,ignore_index=True)"
   ]
  },
  {
   "cell_type": "code",
   "execution_count": null,
   "metadata": {},
   "outputs": [],
   "source": []
  },
  {
   "cell_type": "markdown",
   "metadata": {},
   "source": [
    "### Random Forest"
   ]
  },
  {
   "cell_type": "code",
   "execution_count": 54,
   "metadata": {},
   "outputs": [],
   "source": [
    "from sklearn.ensemble import RandomForestClassifier"
   ]
  },
  {
   "cell_type": "code",
   "execution_count": 55,
   "metadata": {},
   "outputs": [],
   "source": [
    "from sklearn.linear_model import LogisticRegression\n",
    "RF_pipeline = Pipeline([\n",
    "                ('tfidf', TfidfVectorizer(stop_words=stop_words)),\n",
    "                ('clf', OneVsRestClassifier(RandomForestClassifier())),\n",
    "            ])"
   ]
  },
  {
   "cell_type": "code",
   "execution_count": 56,
   "metadata": {},
   "outputs": [
    {
     "name": "stdout",
     "output_type": "stream",
     "text": [
      "... Processing TC\n",
      "... Processing SN\n",
      "... Processing KS\n",
      "... Processing OT\n"
     ]
    }
   ],
   "source": [
    "for category in categories:\n",
    "    print('... Processing {}'.format(category))\n",
    "\n",
    "    RF_pipeline.fit(X_train, train[category])\n",
    "\n",
    "    prediction = RF_pipeline.predict(X_test)\n",
    "    result = {'Type' :category,\n",
    "              'Model' : 'RF',\n",
    "             ('Accuray' ):  accuracy_score(test[category], prediction),\n",
    "             ('Precision' ) :precision_score(test[category], prediction),\n",
    "             ('Recall') :recall_score(test[category], prediction),\n",
    "             ('Fmeasure') :f1_score(test[category], prediction)}\n",
    "    \n",
    "    row_to_add = pd.Series(result, name='x')\n",
    "    df_result = df_result.append(result ,ignore_index=True)"
   ]
  },
  {
   "cell_type": "markdown",
   "metadata": {},
   "source": [
    "### Deep Learning :Pytorch Model - TextCNN"
   ]
  },
  {
   "cell_type": "code",
   "execution_count": 57,
   "metadata": {},
   "outputs": [],
   "source": [
    "import torch.nn as nn\n",
    "import torch as t\n",
    "import torch.nn as nn\n",
    "import torch.nn.functional as F\n",
    "import torch.optim as optim\n",
    "import torch.nn.functional as F\n",
    "from torch.utils.data import Dataset, DataLoader\n",
    "from torch.nn.utils.rnn import pack_padded_sequence, pad_packed_sequence\n",
    "from torch.autograd import Variable\n",
    "from torch.optim.optimizer import Optimizer\n",
    "\n",
    "embed_size = 300 # how big is each word vector"
   ]
  },
  {
   "cell_type": "code",
   "execution_count": 58,
   "metadata": {},
   "outputs": [],
   "source": [
    "class CNN_Text(nn.Module):\n",
    "    \n",
    "    def __init__(self):\n",
    "        super(CNN_Text, self).__init__()\n",
    "        filter_sizes = [1,2,3,5]\n",
    "        num_filters = 36\n",
    "#         n_classes = len(le.classes_)\n",
    "        self.embedding = nn.Embedding(max_features, embed_size)\n",
    "        self.embedding.weight = nn.Parameter(torch.tensor(embedding_matrix, dtype=torch.float32))\n",
    "        self.embedding.weight.requires_grad = False\n",
    "        self.convs1 = nn.ModuleList([nn.Conv2d(1, num_filters, (K, embed_size)) for K in filter_sizes])\n",
    "        self.dropout = nn.Dropout(0.1)\n",
    "#         self.fc1 = nn.Linear(len(filter_sizes)*num_filters, n_classes)\n",
    "\n",
    "\n",
    "    def forward(self, x):\n",
    "        x = self.embedding(x)  \n",
    "        x = x.unsqueeze(1)  \n",
    "        x = [F.relu(conv(x)).squeeze(3) for conv in self.convs1] \n",
    "        x = [F.max_pool1d(i, i.size(2)).squeeze(2) for i in x]  \n",
    "        x = torch.cat(x, 1)\n",
    "        x = self.dropout(x)  \n",
    "        logit = self.fc1(x) \n",
    "        return logit"
   ]
  },
  {
   "cell_type": "markdown",
   "metadata": {},
   "source": [
    "### SVM"
   ]
  },
  {
   "cell_type": "code",
   "execution_count": 60,
   "metadata": {},
   "outputs": [],
   "source": [
    "from sklearn.svm import SVC\n",
    "SVM_pipeline = Pipeline([\n",
    "                ('tfidf', TfidfVectorizer(stop_words=stop_words)),\n",
    "                ('clf', SVC()),\n",
    "            ])"
   ]
  },
  {
   "cell_type": "code",
   "execution_count": 61,
   "metadata": {},
   "outputs": [
    {
     "name": "stdout",
     "output_type": "stream",
     "text": [
      "... Processing TC\n",
      "... Processing SN\n",
      "... Processing KS\n",
      "... Processing OT\n"
     ]
    }
   ],
   "source": [
    "for category in categories:\n",
    "    print('... Processing {}'.format(category))\n",
    "    # train the model using X_dtm & y\n",
    "    SVM_pipeline.fit(X_train, train[category])\n",
    "    # compute the testing accuracy\n",
    "    prediction = SVM_pipeline.predict(X_test)\n",
    "    result = {'Type' :category,\n",
    "              'Model' : 'SVM',\n",
    "             ('Accuray' ):  accuracy_score(test[category], prediction),\n",
    "             ('Precision' ) :precision_score(test[category], prediction),\n",
    "             ('Recall') :recall_score(test[category], prediction),\n",
    "             ('Fmeasure') :f1_score(test[category], prediction)}\n",
    "    \n",
    "    row_to_add = pd.Series(result, name='x')\n",
    "    df_result = df_result.append(result ,ignore_index=True)"
   ]
  },
  {
   "cell_type": "code",
   "execution_count": 102,
   "metadata": {},
   "outputs": [
    {
     "data": {
      "text/html": [
       "<div>\n",
       "<style scoped>\n",
       "    .dataframe tbody tr th:only-of-type {\n",
       "        vertical-align: middle;\n",
       "    }\n",
       "\n",
       "    .dataframe tbody tr th {\n",
       "        vertical-align: top;\n",
       "    }\n",
       "\n",
       "    .dataframe thead th {\n",
       "        text-align: right;\n",
       "    }\n",
       "</style>\n",
       "<table border=\"1\" class=\"dataframe\">\n",
       "  <thead>\n",
       "    <tr style=\"text-align: right;\">\n",
       "      <th></th>\n",
       "      <th>Type</th>\n",
       "      <th>Model</th>\n",
       "      <th>Accuray</th>\n",
       "      <th>Precision</th>\n",
       "      <th>Recall</th>\n",
       "      <th>Fmeasure</th>\n",
       "    </tr>\n",
       "  </thead>\n",
       "  <tbody>\n",
       "    <tr>\n",
       "      <th>0</th>\n",
       "      <td>TC</td>\n",
       "      <td>NB</td>\n",
       "      <td>0.700935</td>\n",
       "      <td>0.689189</td>\n",
       "      <td>0.980769</td>\n",
       "      <td>0.809524</td>\n",
       "    </tr>\n",
       "    <tr>\n",
       "      <th>1</th>\n",
       "      <td>SN</td>\n",
       "      <td>NB</td>\n",
       "      <td>0.753894</td>\n",
       "      <td>1.000000</td>\n",
       "      <td>0.012500</td>\n",
       "      <td>0.024691</td>\n",
       "    </tr>\n",
       "    <tr>\n",
       "      <th>2</th>\n",
       "      <td>KS</td>\n",
       "      <td>NB</td>\n",
       "      <td>0.869159</td>\n",
       "      <td>0.833333</td>\n",
       "      <td>0.108696</td>\n",
       "      <td>0.192308</td>\n",
       "    </tr>\n",
       "    <tr>\n",
       "      <th>3</th>\n",
       "      <td>OT</td>\n",
       "      <td>NB</td>\n",
       "      <td>0.912773</td>\n",
       "      <td>0.000000</td>\n",
       "      <td>0.000000</td>\n",
       "      <td>0.000000</td>\n",
       "    </tr>\n",
       "    <tr>\n",
       "      <th>4</th>\n",
       "      <td>TC</td>\n",
       "      <td>SVC</td>\n",
       "      <td>0.725857</td>\n",
       "      <td>0.729008</td>\n",
       "      <td>0.918269</td>\n",
       "      <td>0.812766</td>\n",
       "    </tr>\n",
       "  </tbody>\n",
       "</table>\n",
       "</div>"
      ],
      "text/plain": [
       "  Type Model   Accuray  Precision    Recall  Fmeasure\n",
       "0   TC    NB  0.700935   0.689189  0.980769  0.809524\n",
       "1   SN    NB  0.753894   1.000000  0.012500  0.024691\n",
       "2   KS    NB  0.869159   0.833333  0.108696  0.192308\n",
       "3   OT    NB  0.912773   0.000000  0.000000  0.000000\n",
       "4   TC   SVC  0.725857   0.729008  0.918269  0.812766"
      ]
     },
     "execution_count": 102,
     "metadata": {},
     "output_type": "execute_result"
    }
   ],
   "source": [
    "df_result.head()"
   ]
  },
  {
   "cell_type": "code",
   "execution_count": 114,
   "metadata": {},
   "outputs": [
    {
     "data": {
      "text/html": [
       "<div>\n",
       "<style scoped>\n",
       "    .dataframe tbody tr th:only-of-type {\n",
       "        vertical-align: middle;\n",
       "    }\n",
       "\n",
       "    .dataframe tbody tr th {\n",
       "        vertical-align: top;\n",
       "    }\n",
       "\n",
       "    .dataframe thead th {\n",
       "        text-align: right;\n",
       "    }\n",
       "</style>\n",
       "<table border=\"1\" class=\"dataframe\">\n",
       "  <thead>\n",
       "    <tr style=\"text-align: right;\">\n",
       "      <th></th>\n",
       "      <th></th>\n",
       "      <th>Accuray</th>\n",
       "      <th>Fmeasure</th>\n",
       "      <th>Precision</th>\n",
       "      <th>Recall</th>\n",
       "    </tr>\n",
       "    <tr>\n",
       "      <th>Model</th>\n",
       "      <th>Type</th>\n",
       "      <th></th>\n",
       "      <th></th>\n",
       "      <th></th>\n",
       "      <th></th>\n",
       "    </tr>\n",
       "  </thead>\n",
       "  <tbody>\n",
       "    <tr>\n",
       "      <th rowspan=\"4\" valign=\"top\">ANN</th>\n",
       "      <th>KS</th>\n",
       "      <td>0.912773</td>\n",
       "      <td>0.906027</td>\n",
       "      <td>0.781250</td>\n",
       "      <td>0.543478</td>\n",
       "    </tr>\n",
       "    <tr>\n",
       "      <th>OT</th>\n",
       "      <td>0.912773</td>\n",
       "      <td>0.871148</td>\n",
       "      <td>0.000000</td>\n",
       "      <td>0.000000</td>\n",
       "    </tr>\n",
       "    <tr>\n",
       "      <th>SN</th>\n",
       "      <td>0.735202</td>\n",
       "      <td>0.664516</td>\n",
       "      <td>0.352941</td>\n",
       "      <td>0.075000</td>\n",
       "    </tr>\n",
       "    <tr>\n",
       "      <th>TC</th>\n",
       "      <td>0.750779</td>\n",
       "      <td>0.749720</td>\n",
       "      <td>0.801887</td>\n",
       "      <td>0.817308</td>\n",
       "    </tr>\n",
       "    <tr>\n",
       "      <th rowspan=\"4\" valign=\"top\">LR</th>\n",
       "      <th>KS</th>\n",
       "      <td>0.872274</td>\n",
       "      <td>0.196078</td>\n",
       "      <td>1.000000</td>\n",
       "      <td>0.108696</td>\n",
       "    </tr>\n",
       "    <tr>\n",
       "      <th>OT</th>\n",
       "      <td>0.919003</td>\n",
       "      <td>0.187500</td>\n",
       "      <td>0.750000</td>\n",
       "      <td>0.107143</td>\n",
       "    </tr>\n",
       "    <tr>\n",
       "      <th>SN</th>\n",
       "      <td>0.760125</td>\n",
       "      <td>0.072289</td>\n",
       "      <td>1.000000</td>\n",
       "      <td>0.037500</td>\n",
       "    </tr>\n",
       "    <tr>\n",
       "      <th>TC</th>\n",
       "      <td>0.707165</td>\n",
       "      <td>0.815686</td>\n",
       "      <td>0.688742</td>\n",
       "      <td>1.000000</td>\n",
       "    </tr>\n",
       "    <tr>\n",
       "      <th rowspan=\"4\" valign=\"top\">NB</th>\n",
       "      <th>KS</th>\n",
       "      <td>0.869159</td>\n",
       "      <td>0.192308</td>\n",
       "      <td>0.833333</td>\n",
       "      <td>0.108696</td>\n",
       "    </tr>\n",
       "    <tr>\n",
       "      <th>OT</th>\n",
       "      <td>0.912773</td>\n",
       "      <td>0.000000</td>\n",
       "      <td>0.000000</td>\n",
       "      <td>0.000000</td>\n",
       "    </tr>\n",
       "    <tr>\n",
       "      <th>SN</th>\n",
       "      <td>0.753894</td>\n",
       "      <td>0.024691</td>\n",
       "      <td>1.000000</td>\n",
       "      <td>0.012500</td>\n",
       "    </tr>\n",
       "    <tr>\n",
       "      <th>TC</th>\n",
       "      <td>0.700935</td>\n",
       "      <td>0.809524</td>\n",
       "      <td>0.689189</td>\n",
       "      <td>0.980769</td>\n",
       "    </tr>\n",
       "    <tr>\n",
       "      <th rowspan=\"4\" valign=\"top\">RF</th>\n",
       "      <th>KS</th>\n",
       "      <td>0.875389</td>\n",
       "      <td>0.444444</td>\n",
       "      <td>0.615385</td>\n",
       "      <td>0.347826</td>\n",
       "    </tr>\n",
       "    <tr>\n",
       "      <th>OT</th>\n",
       "      <td>0.919003</td>\n",
       "      <td>0.409091</td>\n",
       "      <td>0.562500</td>\n",
       "      <td>0.321429</td>\n",
       "    </tr>\n",
       "    <tr>\n",
       "      <th>SN</th>\n",
       "      <td>0.781931</td>\n",
       "      <td>0.588235</td>\n",
       "      <td>0.555556</td>\n",
       "      <td>0.625000</td>\n",
       "    </tr>\n",
       "    <tr>\n",
       "      <th>TC</th>\n",
       "      <td>0.738318</td>\n",
       "      <td>0.802817</td>\n",
       "      <td>0.784404</td>\n",
       "      <td>0.822115</td>\n",
       "    </tr>\n",
       "    <tr>\n",
       "      <th rowspan=\"4\" valign=\"top\">SVC</th>\n",
       "      <th>KS</th>\n",
       "      <td>0.872274</td>\n",
       "      <td>0.453333</td>\n",
       "      <td>0.586207</td>\n",
       "      <td>0.369565</td>\n",
       "    </tr>\n",
       "    <tr>\n",
       "      <th>OT</th>\n",
       "      <td>0.925234</td>\n",
       "      <td>0.368421</td>\n",
       "      <td>0.700000</td>\n",
       "      <td>0.250000</td>\n",
       "    </tr>\n",
       "    <tr>\n",
       "      <th>SN</th>\n",
       "      <td>0.775701</td>\n",
       "      <td>0.419355</td>\n",
       "      <td>0.590909</td>\n",
       "      <td>0.325000</td>\n",
       "    </tr>\n",
       "    <tr>\n",
       "      <th>TC</th>\n",
       "      <td>0.725857</td>\n",
       "      <td>0.812766</td>\n",
       "      <td>0.729008</td>\n",
       "      <td>0.918269</td>\n",
       "    </tr>\n",
       "    <tr>\n",
       "      <th rowspan=\"4\" valign=\"top\">SVM</th>\n",
       "      <th>KS</th>\n",
       "      <td>0.884735</td>\n",
       "      <td>0.447761</td>\n",
       "      <td>0.714286</td>\n",
       "      <td>0.326087</td>\n",
       "    </tr>\n",
       "    <tr>\n",
       "      <th>OT</th>\n",
       "      <td>0.922118</td>\n",
       "      <td>0.285714</td>\n",
       "      <td>0.714286</td>\n",
       "      <td>0.178571</td>\n",
       "    </tr>\n",
       "    <tr>\n",
       "      <th>SN</th>\n",
       "      <td>0.785047</td>\n",
       "      <td>0.378378</td>\n",
       "      <td>0.677419</td>\n",
       "      <td>0.262500</td>\n",
       "    </tr>\n",
       "    <tr>\n",
       "      <th>TC</th>\n",
       "      <td>0.719626</td>\n",
       "      <td>0.814050</td>\n",
       "      <td>0.713768</td>\n",
       "      <td>0.947115</td>\n",
       "    </tr>\n",
       "  </tbody>\n",
       "</table>\n",
       "</div>"
      ],
      "text/plain": [
       "             Accuray  Fmeasure  Precision    Recall\n",
       "Model Type                                         \n",
       "ANN   KS    0.912773  0.906027   0.781250  0.543478\n",
       "      OT    0.912773  0.871148   0.000000  0.000000\n",
       "      SN    0.735202  0.664516   0.352941  0.075000\n",
       "      TC    0.750779  0.749720   0.801887  0.817308\n",
       "LR    KS    0.872274  0.196078   1.000000  0.108696\n",
       "      OT    0.919003  0.187500   0.750000  0.107143\n",
       "      SN    0.760125  0.072289   1.000000  0.037500\n",
       "      TC    0.707165  0.815686   0.688742  1.000000\n",
       "NB    KS    0.869159  0.192308   0.833333  0.108696\n",
       "      OT    0.912773  0.000000   0.000000  0.000000\n",
       "      SN    0.753894  0.024691   1.000000  0.012500\n",
       "      TC    0.700935  0.809524   0.689189  0.980769\n",
       "RF    KS    0.875389  0.444444   0.615385  0.347826\n",
       "      OT    0.919003  0.409091   0.562500  0.321429\n",
       "      SN    0.781931  0.588235   0.555556  0.625000\n",
       "      TC    0.738318  0.802817   0.784404  0.822115\n",
       "SVC   KS    0.872274  0.453333   0.586207  0.369565\n",
       "      OT    0.925234  0.368421   0.700000  0.250000\n",
       "      SN    0.775701  0.419355   0.590909  0.325000\n",
       "      TC    0.725857  0.812766   0.729008  0.918269\n",
       "SVM   KS    0.884735  0.447761   0.714286  0.326087\n",
       "      OT    0.922118  0.285714   0.714286  0.178571\n",
       "      SN    0.785047  0.378378   0.677419  0.262500\n",
       "      TC    0.719626  0.814050   0.713768  0.947115"
      ]
     },
     "execution_count": 114,
     "metadata": {},
     "output_type": "execute_result"
    }
   ],
   "source": [
    "result = pd.pivot_table(df_result, index=['Model', 'Type'], values=['Accuray','Precision','Recall','Fmeasure'])\n",
    "result"
   ]
  },
  {
   "cell_type": "code",
   "execution_count": 65,
   "metadata": {},
   "outputs": [
    {
     "data": {
      "text/html": [
       "<div>\n",
       "<style scoped>\n",
       "    .dataframe tbody tr th:only-of-type {\n",
       "        vertical-align: middle;\n",
       "    }\n",
       "\n",
       "    .dataframe tbody tr th {\n",
       "        vertical-align: top;\n",
       "    }\n",
       "\n",
       "    .dataframe thead th {\n",
       "        text-align: right;\n",
       "    }\n",
       "</style>\n",
       "<table border=\"1\" class=\"dataframe\">\n",
       "  <thead>\n",
       "    <tr style=\"text-align: right;\">\n",
       "      <th></th>\n",
       "      <th>body</th>\n",
       "      <th>to</th>\n",
       "      <th>from</th>\n",
       "      <th>date</th>\n",
       "      <th>TC</th>\n",
       "      <th>SN</th>\n",
       "      <th>KS</th>\n",
       "      <th>OT</th>\n",
       "      <th>text_processed</th>\n",
       "      <th>Month</th>\n",
       "      <th>Year</th>\n",
       "    </tr>\n",
       "  </thead>\n",
       "  <tbody>\n",
       "    <tr>\n",
       "      <th>0</th>\n",
       "      <td>Here is our forecast</td>\n",
       "      <td>tim.belden@enron.com</td>\n",
       "      <td>phillip.allen@enron.com</td>\n",
       "      <td>14-May-2001</td>\n",
       "      <td>1</td>\n",
       "      <td>0</td>\n",
       "      <td>0</td>\n",
       "      <td>0</td>\n",
       "      <td>here is our forecast</td>\n",
       "      <td>May</td>\n",
       "      <td>2001</td>\n",
       "    </tr>\n",
       "    <tr>\n",
       "      <th>1</th>\n",
       "      <td>Traveling to have a business meeting takes the...</td>\n",
       "      <td>john.lavorato@enron.com</td>\n",
       "      <td>phillip.allen@enron.com</td>\n",
       "      <td>4-May-2001</td>\n",
       "      <td>0</td>\n",
       "      <td>1</td>\n",
       "      <td>0</td>\n",
       "      <td>0</td>\n",
       "      <td>traveling to have a business meeting takes the...</td>\n",
       "      <td>May</td>\n",
       "      <td>2001</td>\n",
       "    </tr>\n",
       "    <tr>\n",
       "      <th>2</th>\n",
       "      <td>test successful.  way to go!!!</td>\n",
       "      <td>leah.arsdall@enron.com</td>\n",
       "      <td>phillip.allen@enron.com</td>\n",
       "      <td>18-Oct-2000</td>\n",
       "      <td>1</td>\n",
       "      <td>0</td>\n",
       "      <td>0</td>\n",
       "      <td>0</td>\n",
       "      <td>test successful way to go</td>\n",
       "      <td>October</td>\n",
       "      <td>2000</td>\n",
       "    </tr>\n",
       "    <tr>\n",
       "      <th>3</th>\n",
       "      <td>Randy,Can you send me a schedule of the salary...</td>\n",
       "      <td>randall.gay@enron.com</td>\n",
       "      <td>phillip.allen@enron.com</td>\n",
       "      <td>23-Oct-2000</td>\n",
       "      <td>1</td>\n",
       "      <td>0</td>\n",
       "      <td>0</td>\n",
       "      <td>0</td>\n",
       "      <td>randycan you send me a schedule of the salary ...</td>\n",
       "      <td>October</td>\n",
       "      <td>2000</td>\n",
       "    </tr>\n",
       "    <tr>\n",
       "      <th>4</th>\n",
       "      <td>Greg,How about either next Tuesday or Thursday...</td>\n",
       "      <td>greg.piper@enron.com</td>\n",
       "      <td>phillip.allen@enron.com</td>\n",
       "      <td>31-Aug-2000</td>\n",
       "      <td>0</td>\n",
       "      <td>1</td>\n",
       "      <td>0</td>\n",
       "      <td>0</td>\n",
       "      <td>greghow about either next tuesday or thursdayp...</td>\n",
       "      <td>August</td>\n",
       "      <td>2000</td>\n",
       "    </tr>\n",
       "  </tbody>\n",
       "</table>\n",
       "</div>"
      ],
      "text/plain": [
       "                                                body                       to  \\\n",
       "0                               Here is our forecast     tim.belden@enron.com   \n",
       "1  Traveling to have a business meeting takes the...  john.lavorato@enron.com   \n",
       "2                     test successful.  way to go!!!   leah.arsdall@enron.com   \n",
       "3  Randy,Can you send me a schedule of the salary...    randall.gay@enron.com   \n",
       "4  Greg,How about either next Tuesday or Thursday...     greg.piper@enron.com   \n",
       "\n",
       "                      from         date  TC  SN  KS  OT  \\\n",
       "0  phillip.allen@enron.com  14-May-2001   1   0   0   0   \n",
       "1  phillip.allen@enron.com   4-May-2001   0   1   0   0   \n",
       "2  phillip.allen@enron.com  18-Oct-2000   1   0   0   0   \n",
       "3  phillip.allen@enron.com  23-Oct-2000   1   0   0   0   \n",
       "4  phillip.allen@enron.com  31-Aug-2000   0   1   0   0   \n",
       "\n",
       "                                      text_processed    Month  Year  \n",
       "0                               here is our forecast      May  2001  \n",
       "1  traveling to have a business meeting takes the...      May  2001  \n",
       "2                          test successful way to go  October  2000  \n",
       "3  randycan you send me a schedule of the salary ...  October  2000  \n",
       "4  greghow about either next tuesday or thursdayp...   August  2000  "
      ]
     },
     "execution_count": 65,
     "metadata": {},
     "output_type": "execute_result"
    }
   ],
   "source": [
    "df[\"Month\"] = list(map(lambda x: datetime.strptime(x,'%d-%b-%Y').strftime('%B'), df['date']))\n",
    "df[\"Year\"] = list(map(lambda x: datetime.strptime(x,'%d-%b-%Y').strftime('%Y'), df['date']))\n",
    "df.head()"
   ]
  },
  {
   "cell_type": "code",
   "execution_count": 66,
   "metadata": {},
   "outputs": [],
   "source": [
    "df.drop(['body', 'to', 'date'], axis=1, inplace=True)"
   ]
  },
  {
   "cell_type": "code",
   "execution_count": 67,
   "metadata": {},
   "outputs": [
    {
     "data": {
      "text/plain": [
       "<AxesSubplot:xlabel='Year,Month'>"
      ]
     },
     "execution_count": 67,
     "metadata": {},
     "output_type": "execute_result"
    },
    {
     "data": {
      "image/png": "[encoded data removed]",
      "text/plain": [
       "<Figure size 1440x720 with 1 Axes>"
      ]
     },
     "metadata": {
      "needs_background": "light"
     },
     "output_type": "display_data"
    }
   ],
   "source": [
    "df.groupby(['Year','Month']).sum().plot(kind=\"bar\",figsize=(20,10), width = 0.7)\n"
   ]
  },
  {
   "cell_type": "code",
   "execution_count": 68,
   "metadata": {},
   "outputs": [
    {
     "name": "stderr",
     "output_type": "stream",
     "text": [
      "<>:2: DeprecationWarning: invalid escape sequence \\d\n",
      "<>:2: DeprecationWarning: invalid escape sequence \\d\n",
      "<>:2: DeprecationWarning: invalid escape sequence \\d\n",
      "<ipython-input-68-9109712eda1f>:2: DeprecationWarning: invalid escape sequence \\d\n",
      "  df['from'] = df['from'].str.replace('\\d+', '')\n"
     ]
    }
   ],
   "source": [
    "df['from'] = df['from'].str.split('@').str[0]\n",
    "df['from'] = df['from'].str.replace('\\d+', '')\n"
   ]
  },
  {
   "cell_type": "code",
   "execution_count": 69,
   "metadata": {},
   "outputs": [],
   "source": [
    "spec_chars = [\"!\",'\"',\"#\",\"%\",\"&\",\"'\",\"(\",\")\",\n",
    "              \"*\",\"+\",\",\",\"-\",\".\",\"/\",\":\",\";\",\"<\",\n",
    "              \"=\",\">\",\"?\",\"@\",\"[\",\"\\\\\",\"]\",\"^\",\"_\",\n",
    "              \"`\",\"{\",\"|\",\"}\",\"~\",\"–\"]\n",
    "for char in spec_chars:\n",
    "    df['from'] = df['from'].str.replace(char, ' ')"
   ]
  },
  {
   "cell_type": "code",
   "execution_count": 70,
   "metadata": {},
   "outputs": [
    {
     "data": {
      "text/plain": [
       "phillip allen               884\n",
       "Phillip K Allen               5\n",
       "critical notice               5\n",
       "ina rangel                    4\n",
       "Phillip K Allen  mailto       4\n",
       "Leslie Lawner                 4\n",
       "Allen  Phillip                3\n",
       "Frank Hayden ENRON            3\n",
       "Sarah Novosel                 3\n",
       "James D Steffes               2\n",
       "pallen                        2\n",
       "ei editor                     2\n",
       "announce                      2\n",
       "Steven J Kean                 2\n",
       "sarah novosel                 2\n",
       "webmaster                     2\n",
       "Andy Chen on                  2\n",
       "Kristin Walsh ENRON           2\n",
       "jsmith                        2\n",
       "aod                           2\n",
       "Mark Whitt                    2\n",
       "rob tom                       1\n",
       "rebecca cantrell              1\n",
       "tiffany miller                1\n",
       "jfreeman                      1\n",
       " Kristin Walsh ENRON          1\n",
       "yahoo delivers                1\n",
       "kim ward                      1\n",
       "lisa jacobson                 1\n",
       "billc                         1\n",
       "yild                          1\n",
       "bobregon                      1\n",
       "philip polsky                 1\n",
       "paul kaufman                  1\n",
       "subscriptions                 1\n",
       "tracy arthur                  1\n",
       "calxa                         1\n",
       "tim heizenrader               1\n",
       "bounce news                   1\n",
       "public relations              1\n",
       "gthorse                       1\n",
       " Wesko  George   gwesko       1\n",
       "Leslie Lawner on              1\n",
       "Hayden  Frank                 1\n",
       "market reply                  1\n",
       "matt                          1\n",
       "perfmgmt                      1\n",
       "Travis McCullough on          1\n",
       "alyse herasimchuk             1\n",
       "Jeff Dasovich on              1\n",
       "grensheltr                    1\n",
       "                              1\n",
       "mark whitt                    1\n",
       "Name: from, dtype: int64"
      ]
     },
     "execution_count": 70,
     "metadata": {},
     "output_type": "execute_result"
    }
   ],
   "source": [
    "df['from'].value_counts()"
   ]
  },
  {
   "cell_type": "markdown",
   "metadata": {},
   "source": [
    "### Calculate Negative and Positive Sentiment"
   ]
  },
  {
   "cell_type": "code",
   "execution_count": 71,
   "metadata": {},
   "outputs": [
    {
     "name": "stderr",
     "output_type": "stream",
     "text": [
      "[nltk_data] Downloading package vader_lexicon to\n",
      "[nltk_data]     C:\\Users\\shrad\\AppData\\Roaming\\nltk_data...\n",
      "[nltk_data]   Package vader_lexicon is already up-to-date!\n"
     ]
    }
   ],
   "source": [
    "from nltk.sentiment.vader import SentimentIntensityAnalyzer as sia\n",
    "from vaderSentiment.vaderSentiment import SentimentIntensityAnalyzer\n",
    "nltk.download('vader_lexicon')\n",
    "from textblob import TextBlob"
   ]
  },
  {
   "cell_type": "code",
   "execution_count": 72,
   "metadata": {},
   "outputs": [
    {
     "data": {
      "text/html": [
       "<div>\n",
       "<style scoped>\n",
       "    .dataframe tbody tr th:only-of-type {\n",
       "        vertical-align: middle;\n",
       "    }\n",
       "\n",
       "    .dataframe tbody tr th {\n",
       "        vertical-align: top;\n",
       "    }\n",
       "\n",
       "    .dataframe thead th {\n",
       "        text-align: right;\n",
       "    }\n",
       "</style>\n",
       "<table border=\"1\" class=\"dataframe\">\n",
       "  <thead>\n",
       "    <tr style=\"text-align: right;\">\n",
       "      <th></th>\n",
       "      <th>from</th>\n",
       "      <th>TC</th>\n",
       "      <th>SN</th>\n",
       "      <th>KS</th>\n",
       "      <th>OT</th>\n",
       "      <th>text_processed</th>\n",
       "      <th>Month</th>\n",
       "      <th>Year</th>\n",
       "      <th>tb_Pol</th>\n",
       "      <th>tb_Subj</th>\n",
       "    </tr>\n",
       "  </thead>\n",
       "  <tbody>\n",
       "    <tr>\n",
       "      <th>0</th>\n",
       "      <td>phillip allen</td>\n",
       "      <td>1</td>\n",
       "      <td>0</td>\n",
       "      <td>0</td>\n",
       "      <td>0</td>\n",
       "      <td>here is our forecast</td>\n",
       "      <td>May</td>\n",
       "      <td>2001</td>\n",
       "      <td>0.00</td>\n",
       "      <td>0.000000</td>\n",
       "    </tr>\n",
       "    <tr>\n",
       "      <th>1</th>\n",
       "      <td>phillip allen</td>\n",
       "      <td>0</td>\n",
       "      <td>1</td>\n",
       "      <td>0</td>\n",
       "      <td>0</td>\n",
       "      <td>traveling to have a business meeting takes the...</td>\n",
       "      <td>May</td>\n",
       "      <td>2001</td>\n",
       "      <td>0.20</td>\n",
       "      <td>0.563333</td>\n",
       "    </tr>\n",
       "    <tr>\n",
       "      <th>2</th>\n",
       "      <td>phillip allen</td>\n",
       "      <td>1</td>\n",
       "      <td>0</td>\n",
       "      <td>0</td>\n",
       "      <td>0</td>\n",
       "      <td>test successful way to go</td>\n",
       "      <td>October</td>\n",
       "      <td>2000</td>\n",
       "      <td>0.75</td>\n",
       "      <td>0.950000</td>\n",
       "    </tr>\n",
       "  </tbody>\n",
       "</table>\n",
       "</div>"
      ],
      "text/plain": [
       "            from  TC  SN  KS  OT  \\\n",
       "0  phillip allen   1   0   0   0   \n",
       "1  phillip allen   0   1   0   0   \n",
       "2  phillip allen   1   0   0   0   \n",
       "\n",
       "                                      text_processed    Month  Year  tb_Pol  \\\n",
       "0                               here is our forecast      May  2001    0.00   \n",
       "1  traveling to have a business meeting takes the...      May  2001    0.20   \n",
       "2                          test successful way to go  October  2000    0.75   \n",
       "\n",
       "    tb_Subj  \n",
       "0  0.000000  \n",
       "1  0.563333  \n",
       "2  0.950000  "
      ]
     },
     "execution_count": 72,
     "metadata": {},
     "output_type": "execute_result"
    }
   ],
   "source": [
    "\n",
    "#load the descriptions into textblob\n",
    "desc_blob = [TextBlob(desc) for desc in df['text_processed']]\n",
    "#add the sentiment metrics to the dataframe\n",
    "df['tb_Pol'] = [b.sentiment.polarity for b in desc_blob]\n",
    "df['tb_Subj'] = [b.sentiment.subjectivity for b in desc_blob]\n",
    "#show dataframe\n",
    "df.head(3)\n",
    "\n"
   ]
  },
  {
   "cell_type": "code",
   "execution_count": 73,
   "metadata": {},
   "outputs": [
    {
     "data": {
      "text/html": [
       "<div>\n",
       "<style scoped>\n",
       "    .dataframe tbody tr th:only-of-type {\n",
       "        vertical-align: middle;\n",
       "    }\n",
       "\n",
       "    .dataframe tbody tr th {\n",
       "        vertical-align: top;\n",
       "    }\n",
       "\n",
       "    .dataframe thead th {\n",
       "        text-align: right;\n",
       "    }\n",
       "</style>\n",
       "<table border=\"1\" class=\"dataframe\">\n",
       "  <thead>\n",
       "    <tr style=\"text-align: right;\">\n",
       "      <th></th>\n",
       "      <th>from</th>\n",
       "      <th>TC</th>\n",
       "      <th>SN</th>\n",
       "      <th>KS</th>\n",
       "      <th>OT</th>\n",
       "      <th>text_processed</th>\n",
       "      <th>Month</th>\n",
       "      <th>Year</th>\n",
       "      <th>tb_Pol</th>\n",
       "      <th>tb_Subj</th>\n",
       "      <th>compound</th>\n",
       "      <th>negative</th>\n",
       "      <th>neutral</th>\n",
       "      <th>positive</th>\n",
       "    </tr>\n",
       "  </thead>\n",
       "  <tbody>\n",
       "    <tr>\n",
       "      <th>0</th>\n",
       "      <td>phillip allen</td>\n",
       "      <td>1</td>\n",
       "      <td>0</td>\n",
       "      <td>0</td>\n",
       "      <td>0</td>\n",
       "      <td>here is our forecast</td>\n",
       "      <td>May</td>\n",
       "      <td>2001</td>\n",
       "      <td>0.00</td>\n",
       "      <td>0.000000</td>\n",
       "      <td>0.0000</td>\n",
       "      <td>0.0</td>\n",
       "      <td>1.000</td>\n",
       "      <td>0.000</td>\n",
       "    </tr>\n",
       "    <tr>\n",
       "      <th>1</th>\n",
       "      <td>phillip allen</td>\n",
       "      <td>0</td>\n",
       "      <td>1</td>\n",
       "      <td>0</td>\n",
       "      <td>0</td>\n",
       "      <td>traveling to have a business meeting takes the...</td>\n",
       "      <td>May</td>\n",
       "      <td>2001</td>\n",
       "      <td>0.20</td>\n",
       "      <td>0.563333</td>\n",
       "      <td>0.9313</td>\n",
       "      <td>0.0</td>\n",
       "      <td>0.892</td>\n",
       "      <td>0.108</td>\n",
       "    </tr>\n",
       "    <tr>\n",
       "      <th>2</th>\n",
       "      <td>phillip allen</td>\n",
       "      <td>1</td>\n",
       "      <td>0</td>\n",
       "      <td>0</td>\n",
       "      <td>0</td>\n",
       "      <td>test successful way to go</td>\n",
       "      <td>October</td>\n",
       "      <td>2000</td>\n",
       "      <td>0.75</td>\n",
       "      <td>0.950000</td>\n",
       "      <td>0.5859</td>\n",
       "      <td>0.0</td>\n",
       "      <td>0.513</td>\n",
       "      <td>0.487</td>\n",
       "    </tr>\n",
       "  </tbody>\n",
       "</table>\n",
       "</div>"
      ],
      "text/plain": [
       "            from  TC  SN  KS  OT  \\\n",
       "0  phillip allen   1   0   0   0   \n",
       "1  phillip allen   0   1   0   0   \n",
       "2  phillip allen   1   0   0   0   \n",
       "\n",
       "                                      text_processed    Month  Year  tb_Pol  \\\n",
       "0                               here is our forecast      May  2001    0.00   \n",
       "1  traveling to have a business meeting takes the...      May  2001    0.20   \n",
       "2                          test successful way to go  October  2000    0.75   \n",
       "\n",
       "    tb_Subj  compound  negative  neutral  positive  \n",
       "0  0.000000    0.0000       0.0    1.000     0.000  \n",
       "1  0.563333    0.9313       0.0    0.892     0.108  \n",
       "2  0.950000    0.5859       0.0    0.513     0.487  "
      ]
     },
     "execution_count": 73,
     "metadata": {},
     "output_type": "execute_result"
    }
   ],
   "source": [
    "#load VADER\n",
    "analyzer = SentimentIntensityAnalyzer()\n",
    "#Add VADER metrics to dataframe\n",
    "df['compound'] = [analyzer.polarity_scores(v)['compound'] for v in df['text_processed']]\n",
    "df['negative'] = [analyzer.polarity_scores(v)['neg'] for v in df['text_processed']]\n",
    "df['neutral']  = [analyzer.polarity_scores(v)['neu'] for v in df['text_processed']]\n",
    "df['positive'] = [analyzer.polarity_scores(v)['pos'] for v in df['text_processed']]\n",
    "df.head(3)"
   ]
  },
  {
   "cell_type": "code",
   "execution_count": 74,
   "metadata": {},
   "outputs": [],
   "source": [
    "df.drop([ 'text_processed','tb_Pol', 'tb_Subj','compound'], axis=1, inplace=True)"
   ]
  },
  {
   "cell_type": "code",
   "execution_count": 75,
   "metadata": {},
   "outputs": [],
   "source": [
    "df_sum   = pd.pivot_table(df, index=['from','Year','Month'],values=['TC','SN','KS','OT','negative', 'neutral','positive'],aggfunc=np.sum).reset_index()\n",
    "df_count = df.groupby(['from','Year','Month'])[\"from\"].count().reset_index(name=\"count\")"
   ]
  },
  {
   "cell_type": "code",
   "execution_count": 76,
   "metadata": {},
   "outputs": [],
   "source": [
    "# df_text = df.groupby(['from','Year','Month'])['text_processed'].apply(lambda x: ','.join(x)).reset_index()"
   ]
  },
  {
   "cell_type": "code",
   "execution_count": 77,
   "metadata": {},
   "outputs": [],
   "source": [
    "df_final = pd.concat([df_sum,df_count['count']],axis=1)"
   ]
  },
  {
   "cell_type": "code",
   "execution_count": 78,
   "metadata": {},
   "outputs": [
    {
     "data": {
      "text/html": [
       "<div>\n",
       "<style scoped>\n",
       "    .dataframe tbody tr th:only-of-type {\n",
       "        vertical-align: middle;\n",
       "    }\n",
       "\n",
       "    .dataframe tbody tr th {\n",
       "        vertical-align: top;\n",
       "    }\n",
       "\n",
       "    .dataframe thead th {\n",
       "        text-align: right;\n",
       "    }\n",
       "</style>\n",
       "<table border=\"1\" class=\"dataframe\">\n",
       "  <thead>\n",
       "    <tr style=\"text-align: right;\">\n",
       "      <th></th>\n",
       "      <th>from</th>\n",
       "      <th>Month</th>\n",
       "      <th>Year</th>\n",
       "      <th>count</th>\n",
       "      <th>SN</th>\n",
       "      <th>KS</th>\n",
       "      <th>TC</th>\n",
       "      <th>OT</th>\n",
       "      <th>negative</th>\n",
       "      <th>neutral</th>\n",
       "      <th>positive</th>\n",
       "    </tr>\n",
       "  </thead>\n",
       "  <tbody>\n",
       "    <tr>\n",
       "      <th>0</th>\n",
       "      <td></td>\n",
       "      <td>December</td>\n",
       "      <td>2000</td>\n",
       "      <td>1</td>\n",
       "      <td>0</td>\n",
       "      <td>1</td>\n",
       "      <td>1</td>\n",
       "      <td>0</td>\n",
       "      <td>0.009</td>\n",
       "      <td>0.851</td>\n",
       "      <td>0.141</td>\n",
       "    </tr>\n",
       "    <tr>\n",
       "      <th>1</th>\n",
       "      <td>Kristin Walsh ENRON</td>\n",
       "      <td>May</td>\n",
       "      <td>2001</td>\n",
       "      <td>1</td>\n",
       "      <td>0</td>\n",
       "      <td>1</td>\n",
       "      <td>1</td>\n",
       "      <td>0</td>\n",
       "      <td>0.044</td>\n",
       "      <td>0.920</td>\n",
       "      <td>0.035</td>\n",
       "    </tr>\n",
       "    <tr>\n",
       "      <th>2</th>\n",
       "      <td>Wesko  George   gwesko</td>\n",
       "      <td>January</td>\n",
       "      <td>2000</td>\n",
       "      <td>1</td>\n",
       "      <td>0</td>\n",
       "      <td>0</td>\n",
       "      <td>1</td>\n",
       "      <td>0</td>\n",
       "      <td>0.000</td>\n",
       "      <td>0.760</td>\n",
       "      <td>0.240</td>\n",
       "    </tr>\n",
       "    <tr>\n",
       "      <th>3</th>\n",
       "      <td>Allen  Phillip</td>\n",
       "      <td>April</td>\n",
       "      <td>2001</td>\n",
       "      <td>3</td>\n",
       "      <td>1</td>\n",
       "      <td>0</td>\n",
       "      <td>2</td>\n",
       "      <td>0</td>\n",
       "      <td>0.000</td>\n",
       "      <td>2.630</td>\n",
       "      <td>0.370</td>\n",
       "    </tr>\n",
       "    <tr>\n",
       "      <th>4</th>\n",
       "      <td>Andy Chen on</td>\n",
       "      <td>July</td>\n",
       "      <td>2000</td>\n",
       "      <td>2</td>\n",
       "      <td>0</td>\n",
       "      <td>0</td>\n",
       "      <td>2</td>\n",
       "      <td>0</td>\n",
       "      <td>0.000</td>\n",
       "      <td>2.000</td>\n",
       "      <td>0.000</td>\n",
       "    </tr>\n",
       "  </tbody>\n",
       "</table>\n",
       "</div>"
      ],
      "text/plain": [
       "                      from     Month  Year  count  SN  KS  TC  OT  negative  \\\n",
       "0                           December  2000      1   0   1   1   0     0.009   \n",
       "1      Kristin Walsh ENRON       May  2001      1   0   1   1   0     0.044   \n",
       "2   Wesko  George   gwesko   January  2000      1   0   0   1   0     0.000   \n",
       "3           Allen  Phillip     April  2001      3   1   0   2   0     0.000   \n",
       "4         Andy Chen on          July  2000      2   0   0   2   0     0.000   \n",
       "\n",
       "   neutral  positive  \n",
       "0    0.851     0.141  \n",
       "1    0.920     0.035  \n",
       "2    0.760     0.240  \n",
       "3    2.630     0.370  \n",
       "4    2.000     0.000  "
      ]
     },
     "execution_count": 78,
     "metadata": {},
     "output_type": "execute_result"
    }
   ],
   "source": [
    "df_final = df_final.reindex(columns = ['from', 'Month', 'Year','count',\n",
    "                  'SN', 'KS', 'TC', 'OT','negative','neutral','positive'] )\n",
    "df_final.head()"
   ]
  },
  {
   "cell_type": "code",
   "execution_count": 79,
   "metadata": {},
   "outputs": [],
   "source": [
    "df_final.to_csv(os.path.basename(pwd +'/Panel_data.csv'))"
   ]
  },
  {
   "cell_type": "code",
   "execution_count": 80,
   "metadata": {},
   "outputs": [
    {
     "data": {
      "text/html": [
       "<div>\n",
       "<style scoped>\n",
       "    .dataframe tbody tr th:only-of-type {\n",
       "        vertical-align: middle;\n",
       "    }\n",
       "\n",
       "    .dataframe tbody tr th {\n",
       "        vertical-align: top;\n",
       "    }\n",
       "\n",
       "    .dataframe thead th {\n",
       "        text-align: right;\n",
       "    }\n",
       "</style>\n",
       "<table border=\"1\" class=\"dataframe\">\n",
       "  <thead>\n",
       "    <tr style=\"text-align: right;\">\n",
       "      <th></th>\n",
       "      <th>body</th>\n",
       "      <th>to</th>\n",
       "      <th>from_</th>\n",
       "      <th>date</th>\n",
       "      <th>TC</th>\n",
       "      <th>SN</th>\n",
       "      <th>KS</th>\n",
       "      <th>OT</th>\n",
       "      <th>print</th>\n",
       "      <th>text_processed</th>\n",
       "    </tr>\n",
       "  </thead>\n",
       "  <tbody>\n",
       "    <tr>\n",
       "      <th>0</th>\n",
       "      <td>Lucy,Here is the rentroll.My only questions ar...</td>\n",
       "      <td>stagecoachmama@hotmail.com</td>\n",
       "      <td>phillip.allen@enron.com</td>\n",
       "      <td>15 Mar 2001</td>\n",
       "      <td>0</td>\n",
       "      <td>0</td>\n",
       "      <td>0</td>\n",
       "      <td>0</td>\n",
       "      <td>NaN</td>\n",
       "      <td>lucyhere is the rentrollmy only questions are ...</td>\n",
       "    </tr>\n",
       "    <tr>\n",
       "      <th>1</th>\n",
       "      <td>I also need to know the base salaries of Jay R...</td>\n",
       "      <td>todd.burke@enron.com</td>\n",
       "      <td>phillip.allen@enron.com</td>\n",
       "      <td>15 Mar 2001</td>\n",
       "      <td>0</td>\n",
       "      <td>0</td>\n",
       "      <td>0</td>\n",
       "      <td>0</td>\n",
       "      <td>NaN</td>\n",
       "      <td>i also need to know the base salaries of jay r...</td>\n",
       "    </tr>\n",
       "    <tr>\n",
       "      <th>2</th>\n",
       "      <td>---------------------- Forwarded by Phillip K ...</td>\n",
       "      <td>Western.Price.Survey.contacts@ren-10.cais.net</td>\n",
       "      <td>phillip.allen@enron.com</td>\n",
       "      <td>15 Mar 2001</td>\n",
       "      <td>0</td>\n",
       "      <td>0</td>\n",
       "      <td>0</td>\n",
       "      <td>0</td>\n",
       "      <td>NaN</td>\n",
       "      <td>forwarded by phillip k allenhouect on 03152001...</td>\n",
       "    </tr>\n",
       "    <tr>\n",
       "      <th>3</th>\n",
       "      <td>Thanks for the information.  It would be helpf...</td>\n",
       "      <td>kim.bolton@enron.com</td>\n",
       "      <td>phillip.allen@enron.com</td>\n",
       "      <td>15 Mar 2001</td>\n",
       "      <td>0</td>\n",
       "      <td>0</td>\n",
       "      <td>0</td>\n",
       "      <td>0</td>\n",
       "      <td>NaN</td>\n",
       "      <td>thanks for the information it would be helpful...</td>\n",
       "    </tr>\n",
       "    <tr>\n",
       "      <th>4</th>\n",
       "      <td>---------------------- Forwarded by Phillip K ...</td>\n",
       "      <td>Phillip.K.Allen@enron.com</td>\n",
       "      <td>phillip.allen@enron.com</td>\n",
       "      <td>15 Mar 2001</td>\n",
       "      <td>0</td>\n",
       "      <td>0</td>\n",
       "      <td>0</td>\n",
       "      <td>0</td>\n",
       "      <td>NaN</td>\n",
       "      <td>forwarded by phillip k allenhouect on 03152001...</td>\n",
       "    </tr>\n",
       "  </tbody>\n",
       "</table>\n",
       "</div>"
      ],
      "text/plain": [
       "                                                body  \\\n",
       "0  Lucy,Here is the rentroll.My only questions ar...   \n",
       "1  I also need to know the base salaries of Jay R...   \n",
       "2  ---------------------- Forwarded by Phillip K ...   \n",
       "3  Thanks for the information.  It would be helpf...   \n",
       "4  ---------------------- Forwarded by Phillip K ...   \n",
       "\n",
       "                                              to                    from_  \\\n",
       "0                     stagecoachmama@hotmail.com  phillip.allen@enron.com   \n",
       "1                           todd.burke@enron.com  phillip.allen@enron.com   \n",
       "2  Western.Price.Survey.contacts@ren-10.cais.net  phillip.allen@enron.com   \n",
       "3                           kim.bolton@enron.com  phillip.allen@enron.com   \n",
       "4                      Phillip.K.Allen@enron.com  phillip.allen@enron.com   \n",
       "\n",
       "           date  TC  SN  KS  OT  print  \\\n",
       "0   15 Mar 2001   0   0   0   0    NaN   \n",
       "1   15 Mar 2001   0   0   0   0    NaN   \n",
       "2   15 Mar 2001   0   0   0   0    NaN   \n",
       "3   15 Mar 2001   0   0   0   0    NaN   \n",
       "4   15 Mar 2001   0   0   0   0    NaN   \n",
       "\n",
       "                                      text_processed  \n",
       "0  lucyhere is the rentrollmy only questions are ...  \n",
       "1  i also need to know the base salaries of jay r...  \n",
       "2  forwarded by phillip k allenhouect on 03152001...  \n",
       "3  thanks for the information it would be helpful...  \n",
       "4  forwarded by phillip k allenhouect on 03152001...  "
      ]
     },
     "execution_count": 80,
     "metadata": {},
     "output_type": "execute_result"
    }
   ],
   "source": [
    "email_df.head()"
   ]
  },
  {
   "cell_type": "code",
   "execution_count": 81,
   "metadata": {},
   "outputs": [],
   "source": [
    "df.to_csv(os.path.basename(pwd +'/final_test.csv'))"
   ]
  },
  {
   "cell_type": "code",
   "execution_count": 82,
   "metadata": {},
   "outputs": [
    {
     "name": "stdout",
     "output_type": "stream",
     "text": [
      "i also need to know the base salaries of jay reitmeyer and monique sanchezthey are doing the same job as matt\n"
     ]
    }
   ],
   "source": [
    "print(email_df.iloc[1]['text_processed'])"
   ]
  },
  {
   "cell_type": "code",
   "execution_count": 83,
   "metadata": {},
   "outputs": [],
   "source": [
    "data = email_df.text_processed.values.tolist()"
   ]
  },
  {
   "cell_type": "code",
   "execution_count": 84,
   "metadata": {},
   "outputs": [],
   "source": [
    "def sent_to_words(sentences):\n",
    "    for sentence in sentences:\n",
    "        yield(gensim.utils.simple_preprocess(str(sentence), deacc=True))\n",
    "        \n",
    "def remove_stopwords(texts):\n",
    "    return [[word for word in simple_preprocess(str(doc)) if word not in stop_words] for doc in texts]\n",
    "\n",
    "def make_bigrams(texts):\n",
    "    return [bigram_mod[doc] for doc in texts]\n",
    "\n",
    "def make_trigrams(texts):\n",
    "    return [trigram_mod[bigram_mod[doc]] for doc in texts]\n",
    "\n",
    "def lemmatization(texts):\n",
    "    texts_out = []\n",
    "    for sent in texts:\n",
    "        texts_out.append([lemmatizer.lemmatize(i) for i in sent])\n",
    "    return texts_out"
   ]
  },
  {
   "cell_type": "code",
   "execution_count": 85,
   "metadata": {},
   "outputs": [],
   "source": [
    "data_words = list(sent_to_words(data))"
   ]
  },
  {
   "cell_type": "code",
   "execution_count": 86,
   "metadata": {},
   "outputs": [
    {
     "name": "stdout",
     "output_type": "stream",
     "text": [
      "['also', 'need', 'to', 'know', 'the', 'base', 'salaries', 'of', 'jay', 'reitmeyer', 'and', 'monique', 'sanchezthey', 'are', 'doing', 'the', 'same', 'job', 'as', 'matt']\n"
     ]
    }
   ],
   "source": [
    "print(data_words[1])"
   ]
  },
  {
   "cell_type": "code",
   "execution_count": 87,
   "metadata": {},
   "outputs": [],
   "source": [
    "# Remove Stop Words\n",
    "data_words_nostops = remove_stopwords(data_words)"
   ]
  },
  {
   "cell_type": "code",
   "execution_count": 88,
   "metadata": {},
   "outputs": [],
   "source": [
    "# data_lemmatized = lemmatization(data_words_bigrams)\n",
    "data_lemmatized = lemmatization(data_words_nostops)"
   ]
  },
  {
   "cell_type": "code",
   "execution_count": 89,
   "metadata": {},
   "outputs": [
    {
     "name": "stdout",
     "output_type": "stream",
     "text": [
      "['also', 'need', 'know', 'base', 'salary', 'jay', 'reitmeyer', 'monique', 'sanchezthey', 'job', 'matt']\n"
     ]
    }
   ],
   "source": [
    "print(data_lemmatized[1])"
   ]
  },
  {
   "cell_type": "markdown",
   "metadata": {},
   "source": [
    "### Bag of Words on the Data set"
   ]
  },
  {
   "cell_type": "code",
   "execution_count": 90,
   "metadata": {},
   "outputs": [],
   "source": [
    "import gensim.corpora as corpora# Create Dictionary\n",
    "dictionary = corpora.Dictionary(data_lemmatized)# Create Corpus"
   ]
  },
  {
   "cell_type": "code",
   "execution_count": 91,
   "metadata": {},
   "outputs": [
    {
     "name": "stdout",
     "output_type": "stream",
     "text": [
      "Number of unique words in initital documents: 16344\n"
     ]
    }
   ],
   "source": [
    "print('Number of unique words in initital documents:', len(dictionary))"
   ]
  },
  {
   "cell_type": "code",
   "execution_count": 92,
   "metadata": {},
   "outputs": [
    {
     "name": "stdout",
     "output_type": "stream",
     "text": [
      "Number of unique words after removing rare and common words: 1344\n"
     ]
    }
   ],
   "source": [
    "# Filter out words that occur less than 10 documents, or more than 20% of the documents.\n",
    "dictionary.filter_extremes(no_below=15, no_above=0.5, keep_n=100000)\n",
    "print('Number of unique words after removing rare and common words:', len(dictionary))"
   ]
  },
  {
   "cell_type": "code",
   "execution_count": 93,
   "metadata": {},
   "outputs": [
    {
     "name": "stdout",
     "output_type": "stream",
     "text": [
      "0 ad\n",
      "1 discount\n",
      "2 five\n",
      "3 going\n",
      "4 letter\n",
      "5 like\n",
      "6 look\n",
      "7 lucyhere\n",
      "8 missed\n",
      "9 need\n",
      "10 next\n"
     ]
    }
   ],
   "source": [
    "count = 0\n",
    "for k, v in dictionary.iteritems():\n",
    "    print(k, v)\n",
    "    count += 1\n",
    "    if count > 10:\n",
    "        break"
   ]
  },
  {
   "cell_type": "markdown",
   "metadata": {},
   "source": [
    "### Gensim doc2bow"
   ]
  },
  {
   "cell_type": "code",
   "execution_count": 94,
   "metadata": {},
   "outputs": [
    {
     "data": {
      "text/plain": [
       "[(56, 1),\n",
       " (105, 3),\n",
       " (118, 1),\n",
       " (186, 1),\n",
       " (200, 1),\n",
       " (290, 1),\n",
       " (415, 2),\n",
       " (440, 1),\n",
       " (521, 1),\n",
       " (589, 1),\n",
       " (682, 1),\n",
       " (729, 1),\n",
       " (871, 1),\n",
       " (925, 1),\n",
       " (1028, 1),\n",
       " (1039, 1),\n",
       " (1299, 1)]"
      ]
     },
     "execution_count": 94,
     "metadata": {},
     "output_type": "execute_result"
    }
   ],
   "source": [
    "bow_corpus = [dictionary.doc2bow(doc) for doc in data_lemmatized]\n",
    "bow_corpus[489]"
   ]
  },
  {
   "cell_type": "code",
   "execution_count": 95,
   "metadata": {},
   "outputs": [
    {
     "name": "stdout",
     "output_type": "stream",
     "text": [
      "Word 56 (\"please\") appears 1 time.\n",
      "Word 105 (\"email\") appears 3 time.\n",
      "Word 118 (\"austin\") appears 1 time.\n",
      "Word 186 (\"service\") appears 1 time.\n",
      "Word 200 (\"tx\") appears 1 time.\n",
      "Word 290 (\"receive\") appears 1 time.\n",
      "Word 415 (\"message\") appears 2 time.\n",
      "Word 440 (\"common\") appears 1 time.\n",
      "Word 521 (\"line\") appears 1 time.\n",
      "Word 589 (\"road\") appears 1 time.\n",
      "Word 682 (\"thank\") appears 1 time.\n",
      "Word 729 (\"wish\") appears 1 time.\n",
      "Word 871 (\"joe\") appears 1 time.\n",
      "Word 925 (\"address\") appears 1 time.\n",
      "Word 1028 (\"south\") appears 1 time.\n",
      "Word 1039 (\"longer\") appears 1 time.\n",
      "Word 1299 (\"replyto\") appears 1 time.\n"
     ]
    }
   ],
   "source": [
    "bow_doc_489 = bow_corpus[489]\n",
    "for i in range(len(bow_doc_489)):\n",
    "    print(\"Word {} (\\\"{}\\\") appears {} time.\".format(bow_doc_489[i][0], \n",
    "                                               dictionary[bow_doc_489[i][0]], \n",
    "bow_doc_489[i][1]))"
   ]
  },
  {
   "cell_type": "markdown",
   "metadata": {},
   "source": [
    "### TF-IDF"
   ]
  },
  {
   "cell_type": "code",
   "execution_count": 96,
   "metadata": {},
   "outputs": [
    {
     "name": "stdout",
     "output_type": "stream",
     "text": [
      "[(0, 0.3013197954885115),\n",
      " (1, 0.28339212170251354),\n",
      " (2, 0.2720302687844622),\n",
      " (3, 0.1643938997545552),\n",
      " (4, 0.24851817489694025),\n",
      " (5, 0.11360270062920255),\n",
      " (6, 0.14179855165841324),\n",
      " (7, 0.2541025949984642),\n",
      " (8, 0.2746824843961455),\n",
      " (9, 0.10156347516456478),\n",
      " (10, 0.18435470138731772),\n",
      " (11, 0.13396089765249478),\n",
      " (12, 0.23285684762153333),\n",
      " (13, 0.27745261425439766),\n",
      " (14, 0.19938335662233636),\n",
      " (15, 0.20356732091748403),\n",
      " (16, 0.16168400930236546),\n",
      " (17, 0.12853855218255927),\n",
      " (18, 0.1427697556383092),\n",
      " (19, 0.2670421944846301),\n",
      " (20, 0.28995794257046015)]\n"
     ]
    }
   ],
   "source": [
    "from gensim import corpora, models\n",
    "from pprint import pprint\n",
    "\n",
    "tfidf = models.TfidfModel(bow_corpus)\n",
    "corpus_tfidf = tfidf[bow_corpus]\n",
    "\n",
    "for doc in corpus_tfidf:\n",
    "    if doc != []:\n",
    "        pprint(doc)\n",
    "        break"
   ]
  },
  {
   "cell_type": "markdown",
   "metadata": {},
   "source": [
    "### LDA using Bag of Words"
   ]
  },
  {
   "cell_type": "code",
   "execution_count": 97,
   "metadata": {},
   "outputs": [],
   "source": [
    "lda_model = gensim.models.LdaMulticore(bow_corpus,\n",
    "                                       num_topics=10, \n",
    "                                       id2word=dictionary,\n",
    "                                       passes=2, workers=2)"
   ]
  },
  {
   "cell_type": "code",
   "execution_count": 98,
   "metadata": {},
   "outputs": [
    {
     "name": "stdout",
     "output_type": "stream",
     "text": [
      "Topic: 0 \n",
      "Words: 0.080*\"buy\" + 0.028*\"downgraded\" + 0.024*\"strong\" + 0.020*\"initiated\" + 0.017*\"coverage\" + 0.013*\"please\" + 0.013*\"u\" + 0.011*\"hold\" + 0.010*\"nt\" + 0.010*\"market\"\n",
      "Topic: 1 \n",
      "Words: 0.070*\"image\" + 0.010*\"cost\" + 0.008*\"cash\" + 0.007*\"click\" + 0.006*\"know\" + 0.006*\"revenue\" + 0.006*\"let\" + 0.006*\"need\" + 0.006*\"phillip\" + 0.005*\"energy\"\n",
      "Topic: 2 \n",
      "Words: 0.049*\"email\" + 0.012*\"please\" + 0.011*\"information\" + 0.011*\"phillip\" + 0.009*\"message\" + 0.008*\"robert\" + 0.006*\"forwarded\" + 0.006*\"address\" + 0.006*\"call\" + 0.006*\"mike\"\n",
      "Topic: 3 \n",
      "Words: 0.013*\"power\" + 0.010*\"phillip\" + 0.009*\"plant\" + 0.008*\"customer\" + 0.008*\"information\" + 0.007*\"free\" + 0.007*\"time\" + 0.007*\"year\" + 0.006*\"price\" + 0.006*\"get\"\n",
      "Topic: 4 \n",
      "Words: 0.012*\"cost\" + 0.011*\"phillip\" + 0.010*\"please\" + 0.010*\"would\" + 0.009*\"get\" + 0.007*\"need\" + 0.007*\"forwarded\" + 0.007*\"rent\" + 0.007*\"look\" + 0.007*\"allenhouect\"\n",
      "Topic: 5 \n",
      "Words: 0.014*\"would\" + 0.012*\"need\" + 0.012*\"new\" + 0.010*\"work\" + 0.009*\"get\" + 0.009*\"like\" + 0.009*\"know\" + 0.008*\"one\" + 0.007*\"please\" + 0.007*\"email\"\n",
      "Topic: 6 \n",
      "Words: 0.020*\"gas\" + 0.014*\"would\" + 0.010*\"price\" + 0.009*\"share\" + 0.007*\"make\" + 0.007*\"new\" + 0.007*\"position\" + 0.007*\"change\" + 0.006*\"basis\" + 0.006*\"value\"\n",
      "Topic: 7 \n",
      "Words: 0.017*\"loan\" + 0.014*\"would\" + 0.013*\"cost\" + 0.010*\"phillip\" + 0.009*\"need\" + 0.008*\"project\" + 0.008*\"please\" + 0.008*\"forwarded\" + 0.007*\"allenhouect\" + 0.007*\"lot\"\n",
      "Topic: 8 \n",
      "Words: 0.042*\"image\" + 0.027*\"phillip\" + 0.021*\"forwarded\" + 0.020*\"allenhouect\" + 0.012*\"please\" + 0.011*\"gas\" + 0.009*\"need\" + 0.007*\"new\" + 0.007*\"enron\" + 0.006*\"price\"\n",
      "Topic: 9 \n",
      "Words: 0.040*\"image\" + 0.014*\"please\" + 0.013*\"email\" + 0.009*\"would\" + 0.008*\"u\" + 0.007*\"market\" + 0.006*\"contact\" + 0.006*\"name\" + 0.006*\"phone\" + 0.006*\"fax\"\n"
     ]
    }
   ],
   "source": [
    "for idx, topic in lda_model.print_topics(-1):\n",
    "    print('Topic: {} \\nWords: {}'.format(idx, topic))"
   ]
  },
  {
   "cell_type": "markdown",
   "metadata": {},
   "source": [
    "### Running LDA using TF-IDF"
   ]
  },
  {
   "cell_type": "code",
   "execution_count": 99,
   "metadata": {},
   "outputs": [
    {
     "name": "stdout",
     "output_type": "stream",
     "text": [
      "Topic: 0 Word: 0.016*\"tim\" + 0.010*\"phillip\" + 0.009*\"allenhouect\" + 0.009*\"forwarded\" + 0.005*\"email\" + 0.005*\"attachment\" + 0.005*\"report\" + 0.005*\"please\" + 0.004*\"let\" + 0.004*\"would\"\n",
      "Topic: 1 Word: 0.006*\"meeting\" + 0.006*\"tx\" + 0.006*\"get\" + 0.005*\"work\" + 0.005*\"info\" + 0.005*\"gas\" + 0.005*\"plan\" + 0.005*\"call\" + 0.005*\"email\" + 0.004*\"please\"\n",
      "Topic: 2 Word: 0.007*\"cost\" + 0.006*\"phillip\" + 0.006*\"forwarded\" + 0.005*\"allenhouect\" + 0.005*\"loan\" + 0.005*\"would\" + 0.005*\"spreadsheet\" + 0.005*\"file\" + 0.004*\"format\" + 0.004*\"please\"\n",
      "Topic: 3 Word: 0.008*\"gas\" + 0.007*\"file\" + 0.006*\"go\" + 0.006*\"load\" + 0.006*\"lgayenroncom\" + 0.005*\"forecast\" + 0.005*\"click\" + 0.005*\"notice\" + 0.005*\"pipeline\" + 0.005*\"following\"\n",
      "Topic: 4 Word: 0.017*\"allenhouect\" + 0.017*\"forwarded\" + 0.016*\"phillip\" + 0.006*\"jeff\" + 0.006*\"west\" + 0.006*\"zdnet\" + 0.006*\"michael\" + 0.005*\"thanks\" + 0.005*\"email\" + 0.005*\"get\"\n",
      "Topic: 5 Word: 0.006*\"fax\" + 0.006*\"email\" + 0.005*\"look\" + 0.005*\"image\" + 0.005*\"week\" + 0.004*\"need\" + 0.004*\"meeting\" + 0.004*\"new\" + 0.004*\"get\" + 0.004*\"yahoo\"\n",
      "Topic: 6 Word: 0.008*\"still\" + 0.007*\"rent\" + 0.007*\"missed\" + 0.006*\"need\" + 0.005*\"would\" + 0.005*\"file\" + 0.005*\"buyer\" + 0.005*\"cash\" + 0.005*\"contract\" + 0.004*\"get\"\n",
      "Topic: 7 Word: 0.011*\"yes\" + 0.007*\"plan\" + 0.005*\"need\" + 0.005*\"would\" + 0.005*\"position\" + 0.005*\"good\" + 0.005*\"trading\" + 0.005*\"floor\" + 0.004*\"lenhart\" + 0.004*\"message\"\n",
      "Topic: 8 Word: 0.017*\"image\" + 0.007*\"please\" + 0.007*\"phillip\" + 0.007*\"email\" + 0.007*\"forwarded\" + 0.006*\"buy\" + 0.006*\"allenhouect\" + 0.005*\"gas\" + 0.005*\"call\" + 0.005*\"enron\"\n",
      "Topic: 9 Word: 0.010*\"message\" + 0.008*\"original\" + 0.008*\"youphillip\" + 0.007*\"id\" + 0.007*\"please\" + 0.007*\"deal\" + 0.006*\"allen\" + 0.006*\"would\" + 0.006*\"west\" + 0.004*\"need\"\n"
     ]
    }
   ],
   "source": [
    "lda_model_tfidf = gensim.models.LdaMulticore(corpus_tfidf, num_topics=10,\n",
    "                                             id2word=dictionary,\n",
    "                                             passes=2, workers=4)\n",
    "\n",
    "for idx, topic in lda_model_tfidf.print_topics(-1):\n",
    "    print('Topic: {} Word: {}'.format(idx, topic))"
   ]
  },
  {
   "cell_type": "code",
   "execution_count": 100,
   "metadata": {},
   "outputs": [
    {
     "name": "stdout",
     "output_type": "stream",
     "text": [
      "\n",
      "Score: 0.9571323394775391\t \n",
      "Topic: 0.049*\"email\" + 0.012*\"please\" + 0.011*\"information\" + 0.011*\"phillip\" + 0.009*\"message\" + 0.008*\"robert\" + 0.006*\"forwarded\" + 0.006*\"address\" + 0.006*\"call\" + 0.006*\"mike\"\n"
     ]
    }
   ],
   "source": [
    "for index, score in sorted(lda_model[bow_corpus[489]], key=lambda tup: -1*tup[1]):\n",
    "    print(\"\\nScore: {}\\t \\nTopic: {}\".format(score, lda_model.print_topic(index, 10)))"
   ]
  },
  {
   "cell_type": "code",
   "execution_count": 101,
   "metadata": {},
   "outputs": [
    {
     "name": "stdout",
     "output_type": "stream",
     "text": [
      "\n",
      "Score: 0.8003085851669312\t \n",
      "Topic: 0.010*\"message\" + 0.008*\"original\" + 0.008*\"youphillip\" + 0.007*\"id\" + 0.007*\"please\" + 0.007*\"deal\" + 0.006*\"allen\" + 0.006*\"would\" + 0.006*\"west\" + 0.004*\"need\"\n",
      "\n",
      "Score: 0.16157828271389008\t \n",
      "Topic: 0.017*\"image\" + 0.007*\"please\" + 0.007*\"phillip\" + 0.007*\"email\" + 0.007*\"forwarded\" + 0.006*\"buy\" + 0.006*\"allenhouect\" + 0.005*\"gas\" + 0.005*\"call\" + 0.005*\"enron\"\n"
     ]
    }
   ],
   "source": [
    "for index, score in sorted(lda_model_tfidf[bow_corpus[489]], key=lambda tup: -1*tup[1]):\n",
    "    print(\"\\nScore: {}\\t \\nTopic: {}\".format(score, lda_model_tfidf.print_topic(index, 10)))"
   ]
  }
 ],
 "metadata": {
  "kernelspec": {
   "display_name": "Python 3",
   "language": "python",
   "name": "python3"
  },
  "language_info": {
   "codemirror_mode": {
    "name": "ipython",
    "version": 3
   },
   "file_extension": ".py",
   "mimetype": "text/x-python",
   "name": "python",
   "nbconvert_exporter": "python",
   "pygments_lexer": "ipython3",
   "version": "3.7.6"
  }
 },
 "nbformat": 4,
 "nbformat_minor": 4
}
